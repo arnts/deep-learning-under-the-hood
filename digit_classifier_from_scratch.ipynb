{
 "cells": [
  {
   "cell_type": "markdown",
   "metadata": {
    "gradient": {
     "editing": false
    }
   },
   "source": [
    "# A basic neural net from scratch\n",
    "A simple digit classifier which follows the gradient descent process\n",
    "1. Initialize\n",
    "2. Predict\n",
    "3. Calculate loss\n",
    "4. Calculate gradient\n",
    "5. Step\n",
    "6. Repeat\n",
    "7. Stop\n",
    "\n",
    "Only looks at two digits, 3's and 7's, to keep it simple."
   ]
  },
  {
   "cell_type": "code",
   "execution_count": 157,
   "metadata": {
    "gradient": {
     "editing": false
    }
   },
   "outputs": [],
   "source": [
    "from fastai.vision.all import *\n",
    "from utils import *"
   ]
  },
  {
   "cell_type": "markdown",
   "metadata": {
    "gradient": {
     "editing": false
    }
   },
   "source": [
    "## Fetch some data"
   ]
  },
  {
   "cell_type": "code",
   "execution_count": 158,
   "metadata": {
    "gradient": {
     "editing": false
    }
   },
   "outputs": [],
   "source": [
    "path = untar_data(URLs.MNIST_SAMPLE)"
   ]
  },
  {
   "cell_type": "code",
   "execution_count": 159,
   "metadata": {
    "gradient": {
     "editing": false
    }
   },
   "outputs": [],
   "source": [
    "Path.BASE_PATH = path"
   ]
  },
  {
   "cell_type": "code",
   "execution_count": 160,
   "metadata": {
    "gradient": {
     "editing": false
    }
   },
   "outputs": [
    {
     "data": {
      "text/plain": [
       "(#3) [Path('train'),Path('labels.csv'),Path('valid')]"
      ]
     },
     "execution_count": 160,
     "metadata": {},
     "output_type": "execute_result"
    }
   ],
   "source": [
    "path.ls()"
   ]
  },
  {
   "cell_type": "code",
   "execution_count": 161,
   "metadata": {
    "gradient": {
     "editing": false
    }
   },
   "outputs": [
    {
     "data": {
      "text/plain": [
       "(#6131) [Path('train/3/10.png'),Path('train/3/10000.png'),Path('train/3/10011.png'),Path('train/3/10031.png'),Path('train/3/10034.png'),Path('train/3/10042.png'),Path('train/3/10052.png'),Path('train/3/1007.png'),Path('train/3/10074.png'),Path('train/3/10091.png')...]"
      ]
     },
     "execution_count": 161,
     "metadata": {},
     "output_type": "execute_result"
    }
   ],
   "source": [
    "threes = (path/'train'/'3').ls().sorted()\n",
    "sevens = (path/'train'/'7').ls().sorted()\n",
    "\n",
    "threes"
   ]
  },
  {
   "cell_type": "code",
   "execution_count": 162,
   "metadata": {
    "gradient": {
     "editing": false
    }
   },
   "outputs": [
    {
     "data": {
      "image/png": "[encoded data removed]",
      "text/plain": [
       "<PIL.PngImagePlugin.PngImageFile image mode=L size=28x28 at 0x7FD3F039AC40>"
      ]
     },
     "execution_count": 162,
     "metadata": {},
     "output_type": "execute_result"
    }
   ],
   "source": [
    "im3_path = threes[1]\n",
    "im3 = Image.open(im3_path)\n",
    "\n",
    "im3"
   ]
  },
  {
   "cell_type": "code",
   "execution_count": 163,
   "metadata": {
    "gradient": {
     "editing": false
    }
   },
   "outputs": [
    {
     "data": {
      "text/html": [
       "<style  type=\"text/css\" >\n",
       "#T_b343c4d8_2dc3_11ec_9946_d6cafbb1839brow0_col0,#T_b343c4d8_2dc3_11ec_9946_d6cafbb1839brow0_col1,#T_b343c4d8_2dc3_11ec_9946_d6cafbb1839brow0_col2,#T_b343c4d8_2dc3_11ec_9946_d6cafbb1839brow0_col3,#T_b343c4d8_2dc3_11ec_9946_d6cafbb1839brow0_col4,#T_b343c4d8_2dc3_11ec_9946_d6cafbb1839brow0_col5,#T_b343c4d8_2dc3_11ec_9946_d6cafbb1839brow0_col6,#T_b343c4d8_2dc3_11ec_9946_d6cafbb1839brow0_col7,#T_b343c4d8_2dc3_11ec_9946_d6cafbb1839brow0_col8,#T_b343c4d8_2dc3_11ec_9946_d6cafbb1839brow0_col9,#T_b343c4d8_2dc3_11ec_9946_d6cafbb1839brow0_col10,#T_b343c4d8_2dc3_11ec_9946_d6cafbb1839brow0_col11,#T_b343c4d8_2dc3_11ec_9946_d6cafbb1839brow0_col12,#T_b343c4d8_2dc3_11ec_9946_d6cafbb1839brow0_col13,#T_b343c4d8_2dc3_11ec_9946_d6cafbb1839brow0_col14,#T_b343c4d8_2dc3_11ec_9946_d6cafbb1839brow0_col15,#T_b343c4d8_2dc3_11ec_9946_d6cafbb1839brow0_col16,#T_b343c4d8_2dc3_11ec_9946_d6cafbb1839brow0_col17,#T_b343c4d8_2dc3_11ec_9946_d6cafbb1839brow0_col18,#T_b343c4d8_2dc3_11ec_9946_d6cafbb1839brow0_col19,#T_b343c4d8_2dc3_11ec_9946_d6cafbb1839brow0_col20,#T_b343c4d8_2dc3_11ec_9946_d6cafbb1839brow0_col21,#T_b343c4d8_2dc3_11ec_9946_d6cafbb1839brow0_col22,#T_b343c4d8_2dc3_11ec_9946_d6cafbb1839brow0_col23,#T_b343c4d8_2dc3_11ec_9946_d6cafbb1839brow0_col24,#T_b343c4d8_2dc3_11ec_9946_d6cafbb1839brow0_col25,#T_b343c4d8_2dc3_11ec_9946_d6cafbb1839brow0_col26,#T_b343c4d8_2dc3_11ec_9946_d6cafbb1839brow0_col27,#T_b343c4d8_2dc3_11ec_9946_d6cafbb1839brow1_col0,#T_b343c4d8_2dc3_11ec_9946_d6cafbb1839brow1_col1,#T_b343c4d8_2dc3_11ec_9946_d6cafbb1839brow1_col2,#T_b343c4d8_2dc3_11ec_9946_d6cafbb1839brow1_col3,#T_b343c4d8_2dc3_11ec_9946_d6cafbb1839brow1_col4,#T_b343c4d8_2dc3_11ec_9946_d6cafbb1839brow1_col5,#T_b343c4d8_2dc3_11ec_9946_d6cafbb1839brow1_col6,#T_b343c4d8_2dc3_11ec_9946_d6cafbb1839brow1_col7,#T_b343c4d8_2dc3_11ec_9946_d6cafbb1839brow1_col8,#T_b343c4d8_2dc3_11ec_9946_d6cafbb1839brow1_col9,#T_b343c4d8_2dc3_11ec_9946_d6cafbb1839brow1_col10,#T_b343c4d8_2dc3_11ec_9946_d6cafbb1839brow1_col11,#T_b343c4d8_2dc3_11ec_9946_d6cafbb1839brow1_col12,#T_b343c4d8_2dc3_11ec_9946_d6cafbb1839brow1_col13,#T_b343c4d8_2dc3_11ec_9946_d6cafbb1839brow1_col14,#T_b343c4d8_2dc3_11ec_9946_d6cafbb1839brow1_col15,#T_b343c4d8_2dc3_11ec_9946_d6cafbb1839brow1_col16,#T_b343c4d8_2dc3_11ec_9946_d6cafbb1839brow1_col17,#T_b343c4d8_2dc3_11ec_9946_d6cafbb1839brow1_col18,#T_b343c4d8_2dc3_11ec_9946_d6cafbb1839brow1_col19,#T_b343c4d8_2dc3_11ec_9946_d6cafbb1839brow1_col20,#T_b343c4d8_2dc3_11ec_9946_d6cafbb1839brow1_col21,#T_b343c4d8_2dc3_11ec_9946_d6cafbb1839brow1_col22,#T_b343c4d8_2dc3_11ec_9946_d6cafbb1839brow1_col23,#T_b343c4d8_2dc3_11ec_9946_d6cafbb1839brow1_col24,#T_b343c4d8_2dc3_11ec_9946_d6cafbb1839brow1_col25,#T_b343c4d8_2dc3_11ec_9946_d6cafbb1839brow1_col26,#T_b343c4d8_2dc3_11ec_9946_d6cafbb1839brow1_col27,#T_b343c4d8_2dc3_11ec_9946_d6cafbb1839brow2_col0,#T_b343c4d8_2dc3_11ec_9946_d6cafbb1839brow2_col1,#T_b343c4d8_2dc3_11ec_9946_d6cafbb1839brow2_col2,#T_b343c4d8_2dc3_11ec_9946_d6cafbb1839brow2_col3,#T_b343c4d8_2dc3_11ec_9946_d6cafbb1839brow2_col4,#T_b343c4d8_2dc3_11ec_9946_d6cafbb1839brow2_col5,#T_b343c4d8_2dc3_11ec_9946_d6cafbb1839brow2_col6,#T_b343c4d8_2dc3_11ec_9946_d6cafbb1839brow2_col7,#T_b343c4d8_2dc3_11ec_9946_d6cafbb1839brow2_col8,#T_b343c4d8_2dc3_11ec_9946_d6cafbb1839brow2_col9,#T_b343c4d8_2dc3_11ec_9946_d6cafbb1839brow2_col10,#T_b343c4d8_2dc3_11ec_9946_d6cafbb1839brow2_col11,#T_b343c4d8_2dc3_11ec_9946_d6cafbb1839brow2_col12,#T_b343c4d8_2dc3_11ec_9946_d6cafbb1839brow2_col13,#T_b343c4d8_2dc3_11ec_9946_d6cafbb1839brow2_col14,#T_b343c4d8_2dc3_11ec_9946_d6cafbb1839brow2_col15,#T_b343c4d8_2dc3_11ec_9946_d6cafbb1839brow2_col16,#T_b343c4d8_2dc3_11ec_9946_d6cafbb1839brow2_col17,#T_b343c4d8_2dc3_11ec_9946_d6cafbb1839brow2_col18,#T_b343c4d8_2dc3_11ec_9946_d6cafbb1839brow2_col19,#T_b343c4d8_2dc3_11ec_9946_d6cafbb1839brow2_col20,#T_b343c4d8_2dc3_11ec_9946_d6cafbb1839brow2_col21,#T_b343c4d8_2dc3_11ec_9946_d6cafbb1839brow2_col22,#T_b343c4d8_2dc3_11ec_9946_d6cafbb1839brow2_col23,#T_b343c4d8_2dc3_11ec_9946_d6cafbb1839brow2_col24,#T_b343c4d8_2dc3_11ec_9946_d6cafbb1839brow2_col25,#T_b343c4d8_2dc3_11ec_9946_d6cafbb1839brow2_col26,#T_b343c4d8_2dc3_11ec_9946_d6cafbb1839brow2_col27,#T_b343c4d8_2dc3_11ec_9946_d6cafbb1839brow3_col0,#T_b343c4d8_2dc3_11ec_9946_d6cafbb1839brow3_col1,#T_b343c4d8_2dc3_11ec_9946_d6cafbb1839brow3_col2,#T_b343c4d8_2dc3_11ec_9946_d6cafbb1839brow3_col3,#T_b343c4d8_2dc3_11ec_9946_d6cafbb1839brow3_col4,#T_b343c4d8_2dc3_11ec_9946_d6cafbb1839brow3_col5,#T_b343c4d8_2dc3_11ec_9946_d6cafbb1839brow3_col6,#T_b343c4d8_2dc3_11ec_9946_d6cafbb1839brow3_col7,#T_b343c4d8_2dc3_11ec_9946_d6cafbb1839brow3_col8,#T_b343c4d8_2dc3_11ec_9946_d6cafbb1839brow3_col9,#T_b343c4d8_2dc3_11ec_9946_d6cafbb1839brow3_col10,#T_b343c4d8_2dc3_11ec_9946_d6cafbb1839brow3_col11,#T_b343c4d8_2dc3_11ec_9946_d6cafbb1839brow3_col12,#T_b343c4d8_2dc3_11ec_9946_d6cafbb1839brow3_col13,#T_b343c4d8_2dc3_11ec_9946_d6cafbb1839brow3_col14,#T_b343c4d8_2dc3_11ec_9946_d6cafbb1839brow3_col15,#T_b343c4d8_2dc3_11ec_9946_d6cafbb1839brow3_col16,#T_b343c4d8_2dc3_11ec_9946_d6cafbb1839brow3_col17,#T_b343c4d8_2dc3_11ec_9946_d6cafbb1839brow3_col18,#T_b343c4d8_2dc3_11ec_9946_d6cafbb1839brow3_col19,#T_b343c4d8_2dc3_11ec_9946_d6cafbb1839brow3_col20,#T_b343c4d8_2dc3_11ec_9946_d6cafbb1839brow3_col21,#T_b343c4d8_2dc3_11ec_9946_d6cafbb1839brow3_col22,#T_b343c4d8_2dc3_11ec_9946_d6cafbb1839brow3_col23,#T_b343c4d8_2dc3_11ec_9946_d6cafbb1839brow3_col24,#T_b343c4d8_2dc3_11ec_9946_d6cafbb1839brow3_col25,#T_b343c4d8_2dc3_11ec_9946_d6cafbb1839brow3_col26,#T_b343c4d8_2dc3_11ec_9946_d6cafbb1839brow3_col27,#T_b343c4d8_2dc3_11ec_9946_d6cafbb1839brow4_col0,#T_b343c4d8_2dc3_11ec_9946_d6cafbb1839brow4_col1,#T_b343c4d8_2dc3_11ec_9946_d6cafbb1839brow4_col2,#T_b343c4d8_2dc3_11ec_9946_d6cafbb1839brow4_col3,#T_b343c4d8_2dc3_11ec_9946_d6cafbb1839brow4_col4,#T_b343c4d8_2dc3_11ec_9946_d6cafbb1839brow4_col5,#T_b343c4d8_2dc3_11ec_9946_d6cafbb1839brow4_col6,#T_b343c4d8_2dc3_11ec_9946_d6cafbb1839brow4_col7,#T_b343c4d8_2dc3_11ec_9946_d6cafbb1839brow4_col8,#T_b343c4d8_2dc3_11ec_9946_d6cafbb1839brow4_col9,#T_b343c4d8_2dc3_11ec_9946_d6cafbb1839brow4_col10,#T_b343c4d8_2dc3_11ec_9946_d6cafbb1839brow4_col11,#T_b343c4d8_2dc3_11ec_9946_d6cafbb1839brow4_col12,#T_b343c4d8_2dc3_11ec_9946_d6cafbb1839brow4_col13,#T_b343c4d8_2dc3_11ec_9946_d6cafbb1839brow4_col14,#T_b343c4d8_2dc3_11ec_9946_d6cafbb1839brow4_col15,#T_b343c4d8_2dc3_11ec_9946_d6cafbb1839brow4_col16,#T_b343c4d8_2dc3_11ec_9946_d6cafbb1839brow4_col17,#T_b343c4d8_2dc3_11ec_9946_d6cafbb1839brow4_col18,#T_b343c4d8_2dc3_11ec_9946_d6cafbb1839brow4_col19,#T_b343c4d8_2dc3_11ec_9946_d6cafbb1839brow4_col20,#T_b343c4d8_2dc3_11ec_9946_d6cafbb1839brow4_col21,#T_b343c4d8_2dc3_11ec_9946_d6cafbb1839brow4_col22,#T_b343c4d8_2dc3_11ec_9946_d6cafbb1839brow4_col23,#T_b343c4d8_2dc3_11ec_9946_d6cafbb1839brow4_col24,#T_b343c4d8_2dc3_11ec_9946_d6cafbb1839brow4_col25,#T_b343c4d8_2dc3_11ec_9946_d6cafbb1839brow4_col26,#T_b343c4d8_2dc3_11ec_9946_d6cafbb1839brow4_col27,#T_b343c4d8_2dc3_11ec_9946_d6cafbb1839brow5_col0,#T_b343c4d8_2dc3_11ec_9946_d6cafbb1839brow5_col1,#T_b343c4d8_2dc3_11ec_9946_d6cafbb1839brow5_col2,#T_b343c4d8_2dc3_11ec_9946_d6cafbb1839brow5_col3,#T_b343c4d8_2dc3_11ec_9946_d6cafbb1839brow5_col4,#T_b343c4d8_2dc3_11ec_9946_d6cafbb1839brow5_col5,#T_b343c4d8_2dc3_11ec_9946_d6cafbb1839brow5_col6,#T_b343c4d8_2dc3_11ec_9946_d6cafbb1839brow5_col7,#T_b343c4d8_2dc3_11ec_9946_d6cafbb1839brow5_col8,#T_b343c4d8_2dc3_11ec_9946_d6cafbb1839brow5_col19,#T_b343c4d8_2dc3_11ec_9946_d6cafbb1839brow5_col20,#T_b343c4d8_2dc3_11ec_9946_d6cafbb1839brow5_col21,#T_b343c4d8_2dc3_11ec_9946_d6cafbb1839brow5_col22,#T_b343c4d8_2dc3_11ec_9946_d6cafbb1839brow5_col23,#T_b343c4d8_2dc3_11ec_9946_d6cafbb1839brow5_col24,#T_b343c4d8_2dc3_11ec_9946_d6cafbb1839brow5_col25,#T_b343c4d8_2dc3_11ec_9946_d6cafbb1839brow5_col26,#T_b343c4d8_2dc3_11ec_9946_d6cafbb1839brow5_col27,#T_b343c4d8_2dc3_11ec_9946_d6cafbb1839brow6_col0,#T_b343c4d8_2dc3_11ec_9946_d6cafbb1839brow6_col1,#T_b343c4d8_2dc3_11ec_9946_d6cafbb1839brow6_col2,#T_b343c4d8_2dc3_11ec_9946_d6cafbb1839brow6_col3,#T_b343c4d8_2dc3_11ec_9946_d6cafbb1839brow6_col4,#T_b343c4d8_2dc3_11ec_9946_d6cafbb1839brow6_col5,#T_b343c4d8_2dc3_11ec_9946_d6cafbb1839brow6_col6,#T_b343c4d8_2dc3_11ec_9946_d6cafbb1839brow6_col19,#T_b343c4d8_2dc3_11ec_9946_d6cafbb1839brow6_col20,#T_b343c4d8_2dc3_11ec_9946_d6cafbb1839brow6_col21,#T_b343c4d8_2dc3_11ec_9946_d6cafbb1839brow6_col22,#T_b343c4d8_2dc3_11ec_9946_d6cafbb1839brow6_col23,#T_b343c4d8_2dc3_11ec_9946_d6cafbb1839brow6_col24,#T_b343c4d8_2dc3_11ec_9946_d6cafbb1839brow6_col25,#T_b343c4d8_2dc3_11ec_9946_d6cafbb1839brow6_col26,#T_b343c4d8_2dc3_11ec_9946_d6cafbb1839brow6_col27,#T_b343c4d8_2dc3_11ec_9946_d6cafbb1839brow7_col0,#T_b343c4d8_2dc3_11ec_9946_d6cafbb1839brow7_col1,#T_b343c4d8_2dc3_11ec_9946_d6cafbb1839brow7_col2,#T_b343c4d8_2dc3_11ec_9946_d6cafbb1839brow7_col3,#T_b343c4d8_2dc3_11ec_9946_d6cafbb1839brow7_col4,#T_b343c4d8_2dc3_11ec_9946_d6cafbb1839brow7_col19,#T_b343c4d8_2dc3_11ec_9946_d6cafbb1839brow7_col20,#T_b343c4d8_2dc3_11ec_9946_d6cafbb1839brow7_col21,#T_b343c4d8_2dc3_11ec_9946_d6cafbb1839brow7_col22,#T_b343c4d8_2dc3_11ec_9946_d6cafbb1839brow7_col23,#T_b343c4d8_2dc3_11ec_9946_d6cafbb1839brow7_col24,#T_b343c4d8_2dc3_11ec_9946_d6cafbb1839brow7_col25,#T_b343c4d8_2dc3_11ec_9946_d6cafbb1839brow7_col26,#T_b343c4d8_2dc3_11ec_9946_d6cafbb1839brow7_col27,#T_b343c4d8_2dc3_11ec_9946_d6cafbb1839brow8_col0,#T_b343c4d8_2dc3_11ec_9946_d6cafbb1839brow8_col1,#T_b343c4d8_2dc3_11ec_9946_d6cafbb1839brow8_col2,#T_b343c4d8_2dc3_11ec_9946_d6cafbb1839brow8_col3,#T_b343c4d8_2dc3_11ec_9946_d6cafbb1839brow8_col4,#T_b343c4d8_2dc3_11ec_9946_d6cafbb1839brow8_col10,#T_b343c4d8_2dc3_11ec_9946_d6cafbb1839brow8_col11,#T_b343c4d8_2dc3_11ec_9946_d6cafbb1839brow8_col12,#T_b343c4d8_2dc3_11ec_9946_d6cafbb1839brow8_col13,#T_b343c4d8_2dc3_11ec_9946_d6cafbb1839brow8_col14,#T_b343c4d8_2dc3_11ec_9946_d6cafbb1839brow8_col19,#T_b343c4d8_2dc3_11ec_9946_d6cafbb1839brow8_col20,#T_b343c4d8_2dc3_11ec_9946_d6cafbb1839brow8_col21,#T_b343c4d8_2dc3_11ec_9946_d6cafbb1839brow8_col22,#T_b343c4d8_2dc3_11ec_9946_d6cafbb1839brow8_col23,#T_b343c4d8_2dc3_11ec_9946_d6cafbb1839brow8_col24,#T_b343c4d8_2dc3_11ec_9946_d6cafbb1839brow8_col25,#T_b343c4d8_2dc3_11ec_9946_d6cafbb1839brow8_col26,#T_b343c4d8_2dc3_11ec_9946_d6cafbb1839brow8_col27,#T_b343c4d8_2dc3_11ec_9946_d6cafbb1839brow9_col0,#T_b343c4d8_2dc3_11ec_9946_d6cafbb1839brow9_col1,#T_b343c4d8_2dc3_11ec_9946_d6cafbb1839brow9_col2,#T_b343c4d8_2dc3_11ec_9946_d6cafbb1839brow9_col3,#T_b343c4d8_2dc3_11ec_9946_d6cafbb1839brow9_col4,#T_b343c4d8_2dc3_11ec_9946_d6cafbb1839brow9_col9,#T_b343c4d8_2dc3_11ec_9946_d6cafbb1839brow9_col10,#T_b343c4d8_2dc3_11ec_9946_d6cafbb1839brow9_col11,#T_b343c4d8_2dc3_11ec_9946_d6cafbb1839brow9_col12,#T_b343c4d8_2dc3_11ec_9946_d6cafbb1839brow9_col13,#T_b343c4d8_2dc3_11ec_9946_d6cafbb1839brow9_col19,#T_b343c4d8_2dc3_11ec_9946_d6cafbb1839brow9_col20,#T_b343c4d8_2dc3_11ec_9946_d6cafbb1839brow9_col21,#T_b343c4d8_2dc3_11ec_9946_d6cafbb1839brow9_col22,#T_b343c4d8_2dc3_11ec_9946_d6cafbb1839brow9_col23,#T_b343c4d8_2dc3_11ec_9946_d6cafbb1839brow9_col24,#T_b343c4d8_2dc3_11ec_9946_d6cafbb1839brow9_col25,#T_b343c4d8_2dc3_11ec_9946_d6cafbb1839brow9_col26,#T_b343c4d8_2dc3_11ec_9946_d6cafbb1839brow9_col27,#T_b343c4d8_2dc3_11ec_9946_d6cafbb1839brow10_col0,#T_b343c4d8_2dc3_11ec_9946_d6cafbb1839brow10_col1,#T_b343c4d8_2dc3_11ec_9946_d6cafbb1839brow10_col2,#T_b343c4d8_2dc3_11ec_9946_d6cafbb1839brow10_col3,#T_b343c4d8_2dc3_11ec_9946_d6cafbb1839brow10_col4,#T_b343c4d8_2dc3_11ec_9946_d6cafbb1839brow10_col5,#T_b343c4d8_2dc3_11ec_9946_d6cafbb1839brow10_col6,#T_b343c4d8_2dc3_11ec_9946_d6cafbb1839brow10_col7,#T_b343c4d8_2dc3_11ec_9946_d6cafbb1839brow10_col8,#T_b343c4d8_2dc3_11ec_9946_d6cafbb1839brow10_col9,#T_b343c4d8_2dc3_11ec_9946_d6cafbb1839brow10_col10,#T_b343c4d8_2dc3_11ec_9946_d6cafbb1839brow10_col11,#T_b343c4d8_2dc3_11ec_9946_d6cafbb1839brow10_col12,#T_b343c4d8_2dc3_11ec_9946_d6cafbb1839brow10_col13,#T_b343c4d8_2dc3_11ec_9946_d6cafbb1839brow10_col18,#T_b343c4d8_2dc3_11ec_9946_d6cafbb1839brow10_col19,#T_b343c4d8_2dc3_11ec_9946_d6cafbb1839brow10_col20,#T_b343c4d8_2dc3_11ec_9946_d6cafbb1839brow10_col21,#T_b343c4d8_2dc3_11ec_9946_d6cafbb1839brow10_col22,#T_b343c4d8_2dc3_11ec_9946_d6cafbb1839brow10_col23,#T_b343c4d8_2dc3_11ec_9946_d6cafbb1839brow10_col24,#T_b343c4d8_2dc3_11ec_9946_d6cafbb1839brow10_col25,#T_b343c4d8_2dc3_11ec_9946_d6cafbb1839brow10_col26,#T_b343c4d8_2dc3_11ec_9946_d6cafbb1839brow10_col27,#T_b343c4d8_2dc3_11ec_9946_d6cafbb1839brow11_col0,#T_b343c4d8_2dc3_11ec_9946_d6cafbb1839brow11_col1,#T_b343c4d8_2dc3_11ec_9946_d6cafbb1839brow11_col2,#T_b343c4d8_2dc3_11ec_9946_d6cafbb1839brow11_col3,#T_b343c4d8_2dc3_11ec_9946_d6cafbb1839brow11_col4,#T_b343c4d8_2dc3_11ec_9946_d6cafbb1839brow11_col5,#T_b343c4d8_2dc3_11ec_9946_d6cafbb1839brow11_col6,#T_b343c4d8_2dc3_11ec_9946_d6cafbb1839brow11_col7,#T_b343c4d8_2dc3_11ec_9946_d6cafbb1839brow11_col8,#T_b343c4d8_2dc3_11ec_9946_d6cafbb1839brow11_col9,#T_b343c4d8_2dc3_11ec_9946_d6cafbb1839brow11_col10,#T_b343c4d8_2dc3_11ec_9946_d6cafbb1839brow11_col17,#T_b343c4d8_2dc3_11ec_9946_d6cafbb1839brow11_col18,#T_b343c4d8_2dc3_11ec_9946_d6cafbb1839brow11_col19,#T_b343c4d8_2dc3_11ec_9946_d6cafbb1839brow11_col20,#T_b343c4d8_2dc3_11ec_9946_d6cafbb1839brow11_col21,#T_b343c4d8_2dc3_11ec_9946_d6cafbb1839brow11_col22,#T_b343c4d8_2dc3_11ec_9946_d6cafbb1839brow11_col23,#T_b343c4d8_2dc3_11ec_9946_d6cafbb1839brow11_col24,#T_b343c4d8_2dc3_11ec_9946_d6cafbb1839brow11_col25,#T_b343c4d8_2dc3_11ec_9946_d6cafbb1839brow11_col26,#T_b343c4d8_2dc3_11ec_9946_d6cafbb1839brow11_col27,#T_b343c4d8_2dc3_11ec_9946_d6cafbb1839brow12_col0,#T_b343c4d8_2dc3_11ec_9946_d6cafbb1839brow12_col1,#T_b343c4d8_2dc3_11ec_9946_d6cafbb1839brow12_col2,#T_b343c4d8_2dc3_11ec_9946_d6cafbb1839brow12_col3,#T_b343c4d8_2dc3_11ec_9946_d6cafbb1839brow12_col4,#T_b343c4d8_2dc3_11ec_9946_d6cafbb1839brow12_col5,#T_b343c4d8_2dc3_11ec_9946_d6cafbb1839brow12_col6,#T_b343c4d8_2dc3_11ec_9946_d6cafbb1839brow12_col7,#T_b343c4d8_2dc3_11ec_9946_d6cafbb1839brow12_col8,#T_b343c4d8_2dc3_11ec_9946_d6cafbb1839brow12_col17,#T_b343c4d8_2dc3_11ec_9946_d6cafbb1839brow12_col18,#T_b343c4d8_2dc3_11ec_9946_d6cafbb1839brow12_col19,#T_b343c4d8_2dc3_11ec_9946_d6cafbb1839brow12_col20,#T_b343c4d8_2dc3_11ec_9946_d6cafbb1839brow12_col21,#T_b343c4d8_2dc3_11ec_9946_d6cafbb1839brow12_col22,#T_b343c4d8_2dc3_11ec_9946_d6cafbb1839brow12_col23,#T_b343c4d8_2dc3_11ec_9946_d6cafbb1839brow12_col24,#T_b343c4d8_2dc3_11ec_9946_d6cafbb1839brow12_col25,#T_b343c4d8_2dc3_11ec_9946_d6cafbb1839brow12_col26,#T_b343c4d8_2dc3_11ec_9946_d6cafbb1839brow12_col27,#T_b343c4d8_2dc3_11ec_9946_d6cafbb1839brow13_col0,#T_b343c4d8_2dc3_11ec_9946_d6cafbb1839brow13_col1,#T_b343c4d8_2dc3_11ec_9946_d6cafbb1839brow13_col2,#T_b343c4d8_2dc3_11ec_9946_d6cafbb1839brow13_col3,#T_b343c4d8_2dc3_11ec_9946_d6cafbb1839brow13_col4,#T_b343c4d8_2dc3_11ec_9946_d6cafbb1839brow13_col5,#T_b343c4d8_2dc3_11ec_9946_d6cafbb1839brow13_col6,#T_b343c4d8_2dc3_11ec_9946_d6cafbb1839brow13_col7,#T_b343c4d8_2dc3_11ec_9946_d6cafbb1839brow13_col8,#T_b343c4d8_2dc3_11ec_9946_d6cafbb1839brow13_col20,#T_b343c4d8_2dc3_11ec_9946_d6cafbb1839brow13_col21,#T_b343c4d8_2dc3_11ec_9946_d6cafbb1839brow13_col22,#T_b343c4d8_2dc3_11ec_9946_d6cafbb1839brow13_col23,#T_b343c4d8_2dc3_11ec_9946_d6cafbb1839brow13_col24,#T_b343c4d8_2dc3_11ec_9946_d6cafbb1839brow13_col25,#T_b343c4d8_2dc3_11ec_9946_d6cafbb1839brow13_col26,#T_b343c4d8_2dc3_11ec_9946_d6cafbb1839brow13_col27,#T_b343c4d8_2dc3_11ec_9946_d6cafbb1839brow14_col0,#T_b343c4d8_2dc3_11ec_9946_d6cafbb1839brow14_col1,#T_b343c4d8_2dc3_11ec_9946_d6cafbb1839brow14_col2,#T_b343c4d8_2dc3_11ec_9946_d6cafbb1839brow14_col3,#T_b343c4d8_2dc3_11ec_9946_d6cafbb1839brow14_col4,#T_b343c4d8_2dc3_11ec_9946_d6cafbb1839brow14_col5,#T_b343c4d8_2dc3_11ec_9946_d6cafbb1839brow14_col6,#T_b343c4d8_2dc3_11ec_9946_d6cafbb1839brow14_col7,#T_b343c4d8_2dc3_11ec_9946_d6cafbb1839brow14_col8,#T_b343c4d8_2dc3_11ec_9946_d6cafbb1839brow14_col9,#T_b343c4d8_2dc3_11ec_9946_d6cafbb1839brow14_col10,#T_b343c4d8_2dc3_11ec_9946_d6cafbb1839brow14_col21,#T_b343c4d8_2dc3_11ec_9946_d6cafbb1839brow14_col22,#T_b343c4d8_2dc3_11ec_9946_d6cafbb1839brow14_col23,#T_b343c4d8_2dc3_11ec_9946_d6cafbb1839brow14_col24,#T_b343c4d8_2dc3_11ec_9946_d6cafbb1839brow14_col25,#T_b343c4d8_2dc3_11ec_9946_d6cafbb1839brow14_col26,#T_b343c4d8_2dc3_11ec_9946_d6cafbb1839brow14_col27,#T_b343c4d8_2dc3_11ec_9946_d6cafbb1839brow15_col0,#T_b343c4d8_2dc3_11ec_9946_d6cafbb1839brow15_col1,#T_b343c4d8_2dc3_11ec_9946_d6cafbb1839brow15_col2,#T_b343c4d8_2dc3_11ec_9946_d6cafbb1839brow15_col3,#T_b343c4d8_2dc3_11ec_9946_d6cafbb1839brow15_col4,#T_b343c4d8_2dc3_11ec_9946_d6cafbb1839brow15_col5,#T_b343c4d8_2dc3_11ec_9946_d6cafbb1839brow15_col6,#T_b343c4d8_2dc3_11ec_9946_d6cafbb1839brow15_col7,#T_b343c4d8_2dc3_11ec_9946_d6cafbb1839brow15_col8,#T_b343c4d8_2dc3_11ec_9946_d6cafbb1839brow15_col9,#T_b343c4d8_2dc3_11ec_9946_d6cafbb1839brow15_col10,#T_b343c4d8_2dc3_11ec_9946_d6cafbb1839brow15_col11,#T_b343c4d8_2dc3_11ec_9946_d6cafbb1839brow15_col12,#T_b343c4d8_2dc3_11ec_9946_d6cafbb1839brow15_col13,#T_b343c4d8_2dc3_11ec_9946_d6cafbb1839brow15_col21,#T_b343c4d8_2dc3_11ec_9946_d6cafbb1839brow15_col22,#T_b343c4d8_2dc3_11ec_9946_d6cafbb1839brow15_col23,#T_b343c4d8_2dc3_11ec_9946_d6cafbb1839brow15_col24,#T_b343c4d8_2dc3_11ec_9946_d6cafbb1839brow15_col25,#T_b343c4d8_2dc3_11ec_9946_d6cafbb1839brow15_col26,#T_b343c4d8_2dc3_11ec_9946_d6cafbb1839brow15_col27,#T_b343c4d8_2dc3_11ec_9946_d6cafbb1839brow16_col0,#T_b343c4d8_2dc3_11ec_9946_d6cafbb1839brow16_col1,#T_b343c4d8_2dc3_11ec_9946_d6cafbb1839brow16_col2,#T_b343c4d8_2dc3_11ec_9946_d6cafbb1839brow16_col3,#T_b343c4d8_2dc3_11ec_9946_d6cafbb1839brow16_col4,#T_b343c4d8_2dc3_11ec_9946_d6cafbb1839brow16_col5,#T_b343c4d8_2dc3_11ec_9946_d6cafbb1839brow16_col6,#T_b343c4d8_2dc3_11ec_9946_d6cafbb1839brow16_col7,#T_b343c4d8_2dc3_11ec_9946_d6cafbb1839brow16_col8,#T_b343c4d8_2dc3_11ec_9946_d6cafbb1839brow16_col9,#T_b343c4d8_2dc3_11ec_9946_d6cafbb1839brow16_col10,#T_b343c4d8_2dc3_11ec_9946_d6cafbb1839brow16_col11,#T_b343c4d8_2dc3_11ec_9946_d6cafbb1839brow16_col12,#T_b343c4d8_2dc3_11ec_9946_d6cafbb1839brow16_col13,#T_b343c4d8_2dc3_11ec_9946_d6cafbb1839brow16_col14,#T_b343c4d8_2dc3_11ec_9946_d6cafbb1839brow16_col15,#T_b343c4d8_2dc3_11ec_9946_d6cafbb1839brow16_col16,#T_b343c4d8_2dc3_11ec_9946_d6cafbb1839brow16_col21,#T_b343c4d8_2dc3_11ec_9946_d6cafbb1839brow16_col22,#T_b343c4d8_2dc3_11ec_9946_d6cafbb1839brow16_col23,#T_b343c4d8_2dc3_11ec_9946_d6cafbb1839brow16_col24,#T_b343c4d8_2dc3_11ec_9946_d6cafbb1839brow16_col25,#T_b343c4d8_2dc3_11ec_9946_d6cafbb1839brow16_col26,#T_b343c4d8_2dc3_11ec_9946_d6cafbb1839brow16_col27,#T_b343c4d8_2dc3_11ec_9946_d6cafbb1839brow17_col0,#T_b343c4d8_2dc3_11ec_9946_d6cafbb1839brow17_col1,#T_b343c4d8_2dc3_11ec_9946_d6cafbb1839brow17_col2,#T_b343c4d8_2dc3_11ec_9946_d6cafbb1839brow17_col3,#T_b343c4d8_2dc3_11ec_9946_d6cafbb1839brow17_col4,#T_b343c4d8_2dc3_11ec_9946_d6cafbb1839brow17_col5,#T_b343c4d8_2dc3_11ec_9946_d6cafbb1839brow17_col6,#T_b343c4d8_2dc3_11ec_9946_d6cafbb1839brow17_col7,#T_b343c4d8_2dc3_11ec_9946_d6cafbb1839brow17_col8,#T_b343c4d8_2dc3_11ec_9946_d6cafbb1839brow17_col9,#T_b343c4d8_2dc3_11ec_9946_d6cafbb1839brow17_col10,#T_b343c4d8_2dc3_11ec_9946_d6cafbb1839brow17_col11,#T_b343c4d8_2dc3_11ec_9946_d6cafbb1839brow17_col12,#T_b343c4d8_2dc3_11ec_9946_d6cafbb1839brow17_col13,#T_b343c4d8_2dc3_11ec_9946_d6cafbb1839brow17_col14,#T_b343c4d8_2dc3_11ec_9946_d6cafbb1839brow17_col15,#T_b343c4d8_2dc3_11ec_9946_d6cafbb1839brow17_col16,#T_b343c4d8_2dc3_11ec_9946_d6cafbb1839brow17_col21,#T_b343c4d8_2dc3_11ec_9946_d6cafbb1839brow17_col22,#T_b343c4d8_2dc3_11ec_9946_d6cafbb1839brow17_col23,#T_b343c4d8_2dc3_11ec_9946_d6cafbb1839brow17_col24,#T_b343c4d8_2dc3_11ec_9946_d6cafbb1839brow17_col25,#T_b343c4d8_2dc3_11ec_9946_d6cafbb1839brow17_col26,#T_b343c4d8_2dc3_11ec_9946_d6cafbb1839brow17_col27,#T_b343c4d8_2dc3_11ec_9946_d6cafbb1839brow18_col0,#T_b343c4d8_2dc3_11ec_9946_d6cafbb1839brow18_col1,#T_b343c4d8_2dc3_11ec_9946_d6cafbb1839brow18_col2,#T_b343c4d8_2dc3_11ec_9946_d6cafbb1839brow18_col3,#T_b343c4d8_2dc3_11ec_9946_d6cafbb1839brow18_col4,#T_b343c4d8_2dc3_11ec_9946_d6cafbb1839brow18_col5,#T_b343c4d8_2dc3_11ec_9946_d6cafbb1839brow18_col6,#T_b343c4d8_2dc3_11ec_9946_d6cafbb1839brow18_col7,#T_b343c4d8_2dc3_11ec_9946_d6cafbb1839brow18_col8,#T_b343c4d8_2dc3_11ec_9946_d6cafbb1839brow18_col9,#T_b343c4d8_2dc3_11ec_9946_d6cafbb1839brow18_col10,#T_b343c4d8_2dc3_11ec_9946_d6cafbb1839brow18_col11,#T_b343c4d8_2dc3_11ec_9946_d6cafbb1839brow18_col12,#T_b343c4d8_2dc3_11ec_9946_d6cafbb1839brow18_col13,#T_b343c4d8_2dc3_11ec_9946_d6cafbb1839brow18_col14,#T_b343c4d8_2dc3_11ec_9946_d6cafbb1839brow18_col15,#T_b343c4d8_2dc3_11ec_9946_d6cafbb1839brow18_col21,#T_b343c4d8_2dc3_11ec_9946_d6cafbb1839brow18_col22,#T_b343c4d8_2dc3_11ec_9946_d6cafbb1839brow18_col23,#T_b343c4d8_2dc3_11ec_9946_d6cafbb1839brow18_col24,#T_b343c4d8_2dc3_11ec_9946_d6cafbb1839brow18_col25,#T_b343c4d8_2dc3_11ec_9946_d6cafbb1839brow18_col26,#T_b343c4d8_2dc3_11ec_9946_d6cafbb1839brow18_col27,#T_b343c4d8_2dc3_11ec_9946_d6cafbb1839brow19_col0,#T_b343c4d8_2dc3_11ec_9946_d6cafbb1839brow19_col1,#T_b343c4d8_2dc3_11ec_9946_d6cafbb1839brow19_col2,#T_b343c4d8_2dc3_11ec_9946_d6cafbb1839brow19_col3,#T_b343c4d8_2dc3_11ec_9946_d6cafbb1839brow19_col4,#T_b343c4d8_2dc3_11ec_9946_d6cafbb1839brow19_col5,#T_b343c4d8_2dc3_11ec_9946_d6cafbb1839brow19_col6,#T_b343c4d8_2dc3_11ec_9946_d6cafbb1839brow19_col7,#T_b343c4d8_2dc3_11ec_9946_d6cafbb1839brow19_col8,#T_b343c4d8_2dc3_11ec_9946_d6cafbb1839brow19_col9,#T_b343c4d8_2dc3_11ec_9946_d6cafbb1839brow19_col10,#T_b343c4d8_2dc3_11ec_9946_d6cafbb1839brow19_col11,#T_b343c4d8_2dc3_11ec_9946_d6cafbb1839brow19_col12,#T_b343c4d8_2dc3_11ec_9946_d6cafbb1839brow19_col13,#T_b343c4d8_2dc3_11ec_9946_d6cafbb1839brow19_col14,#T_b343c4d8_2dc3_11ec_9946_d6cafbb1839brow19_col21,#T_b343c4d8_2dc3_11ec_9946_d6cafbb1839brow19_col22,#T_b343c4d8_2dc3_11ec_9946_d6cafbb1839brow19_col23,#T_b343c4d8_2dc3_11ec_9946_d6cafbb1839brow19_col24,#T_b343c4d8_2dc3_11ec_9946_d6cafbb1839brow19_col25,#T_b343c4d8_2dc3_11ec_9946_d6cafbb1839brow19_col26,#T_b343c4d8_2dc3_11ec_9946_d6cafbb1839brow19_col27,#T_b343c4d8_2dc3_11ec_9946_d6cafbb1839brow20_col0,#T_b343c4d8_2dc3_11ec_9946_d6cafbb1839brow20_col1,#T_b343c4d8_2dc3_11ec_9946_d6cafbb1839brow20_col2,#T_b343c4d8_2dc3_11ec_9946_d6cafbb1839brow20_col3,#T_b343c4d8_2dc3_11ec_9946_d6cafbb1839brow20_col4,#T_b343c4d8_2dc3_11ec_9946_d6cafbb1839brow20_col5,#T_b343c4d8_2dc3_11ec_9946_d6cafbb1839brow20_col6,#T_b343c4d8_2dc3_11ec_9946_d6cafbb1839brow20_col7,#T_b343c4d8_2dc3_11ec_9946_d6cafbb1839brow20_col8,#T_b343c4d8_2dc3_11ec_9946_d6cafbb1839brow20_col9,#T_b343c4d8_2dc3_11ec_9946_d6cafbb1839brow20_col10,#T_b343c4d8_2dc3_11ec_9946_d6cafbb1839brow20_col11,#T_b343c4d8_2dc3_11ec_9946_d6cafbb1839brow20_col12,#T_b343c4d8_2dc3_11ec_9946_d6cafbb1839brow20_col13,#T_b343c4d8_2dc3_11ec_9946_d6cafbb1839brow20_col20,#T_b343c4d8_2dc3_11ec_9946_d6cafbb1839brow20_col21,#T_b343c4d8_2dc3_11ec_9946_d6cafbb1839brow20_col22,#T_b343c4d8_2dc3_11ec_9946_d6cafbb1839brow20_col23,#T_b343c4d8_2dc3_11ec_9946_d6cafbb1839brow20_col24,#T_b343c4d8_2dc3_11ec_9946_d6cafbb1839brow20_col25,#T_b343c4d8_2dc3_11ec_9946_d6cafbb1839brow20_col26,#T_b343c4d8_2dc3_11ec_9946_d6cafbb1839brow20_col27,#T_b343c4d8_2dc3_11ec_9946_d6cafbb1839brow21_col0,#T_b343c4d8_2dc3_11ec_9946_d6cafbb1839brow21_col1,#T_b343c4d8_2dc3_11ec_9946_d6cafbb1839brow21_col2,#T_b343c4d8_2dc3_11ec_9946_d6cafbb1839brow21_col3,#T_b343c4d8_2dc3_11ec_9946_d6cafbb1839brow21_col4,#T_b343c4d8_2dc3_11ec_9946_d6cafbb1839brow21_col5,#T_b343c4d8_2dc3_11ec_9946_d6cafbb1839brow21_col6,#T_b343c4d8_2dc3_11ec_9946_d6cafbb1839brow21_col7,#T_b343c4d8_2dc3_11ec_9946_d6cafbb1839brow21_col8,#T_b343c4d8_2dc3_11ec_9946_d6cafbb1839brow21_col9,#T_b343c4d8_2dc3_11ec_9946_d6cafbb1839brow21_col10,#T_b343c4d8_2dc3_11ec_9946_d6cafbb1839brow21_col11,#T_b343c4d8_2dc3_11ec_9946_d6cafbb1839brow21_col19,#T_b343c4d8_2dc3_11ec_9946_d6cafbb1839brow21_col20,#T_b343c4d8_2dc3_11ec_9946_d6cafbb1839brow21_col21,#T_b343c4d8_2dc3_11ec_9946_d6cafbb1839brow21_col22,#T_b343c4d8_2dc3_11ec_9946_d6cafbb1839brow21_col23,#T_b343c4d8_2dc3_11ec_9946_d6cafbb1839brow21_col24,#T_b343c4d8_2dc3_11ec_9946_d6cafbb1839brow21_col25,#T_b343c4d8_2dc3_11ec_9946_d6cafbb1839brow21_col26,#T_b343c4d8_2dc3_11ec_9946_d6cafbb1839brow21_col27,#T_b343c4d8_2dc3_11ec_9946_d6cafbb1839brow22_col0,#T_b343c4d8_2dc3_11ec_9946_d6cafbb1839brow22_col1,#T_b343c4d8_2dc3_11ec_9946_d6cafbb1839brow22_col2,#T_b343c4d8_2dc3_11ec_9946_d6cafbb1839brow22_col3,#T_b343c4d8_2dc3_11ec_9946_d6cafbb1839brow22_col4,#T_b343c4d8_2dc3_11ec_9946_d6cafbb1839brow22_col5,#T_b343c4d8_2dc3_11ec_9946_d6cafbb1839brow22_col18,#T_b343c4d8_2dc3_11ec_9946_d6cafbb1839brow22_col19,#T_b343c4d8_2dc3_11ec_9946_d6cafbb1839brow22_col20,#T_b343c4d8_2dc3_11ec_9946_d6cafbb1839brow22_col21,#T_b343c4d8_2dc3_11ec_9946_d6cafbb1839brow22_col22,#T_b343c4d8_2dc3_11ec_9946_d6cafbb1839brow22_col23,#T_b343c4d8_2dc3_11ec_9946_d6cafbb1839brow22_col24,#T_b343c4d8_2dc3_11ec_9946_d6cafbb1839brow22_col25,#T_b343c4d8_2dc3_11ec_9946_d6cafbb1839brow22_col26,#T_b343c4d8_2dc3_11ec_9946_d6cafbb1839brow22_col27,#T_b343c4d8_2dc3_11ec_9946_d6cafbb1839brow23_col0,#T_b343c4d8_2dc3_11ec_9946_d6cafbb1839brow23_col1,#T_b343c4d8_2dc3_11ec_9946_d6cafbb1839brow23_col2,#T_b343c4d8_2dc3_11ec_9946_d6cafbb1839brow23_col3,#T_b343c4d8_2dc3_11ec_9946_d6cafbb1839brow23_col4,#T_b343c4d8_2dc3_11ec_9946_d6cafbb1839brow23_col5,#T_b343c4d8_2dc3_11ec_9946_d6cafbb1839brow23_col16,#T_b343c4d8_2dc3_11ec_9946_d6cafbb1839brow23_col17,#T_b343c4d8_2dc3_11ec_9946_d6cafbb1839brow23_col18,#T_b343c4d8_2dc3_11ec_9946_d6cafbb1839brow23_col19,#T_b343c4d8_2dc3_11ec_9946_d6cafbb1839brow23_col20,#T_b343c4d8_2dc3_11ec_9946_d6cafbb1839brow23_col21,#T_b343c4d8_2dc3_11ec_9946_d6cafbb1839brow23_col22,#T_b343c4d8_2dc3_11ec_9946_d6cafbb1839brow23_col23,#T_b343c4d8_2dc3_11ec_9946_d6cafbb1839brow23_col24,#T_b343c4d8_2dc3_11ec_9946_d6cafbb1839brow23_col25,#T_b343c4d8_2dc3_11ec_9946_d6cafbb1839brow23_col26,#T_b343c4d8_2dc3_11ec_9946_d6cafbb1839brow23_col27,#T_b343c4d8_2dc3_11ec_9946_d6cafbb1839brow24_col0,#T_b343c4d8_2dc3_11ec_9946_d6cafbb1839brow24_col1,#T_b343c4d8_2dc3_11ec_9946_d6cafbb1839brow24_col2,#T_b343c4d8_2dc3_11ec_9946_d6cafbb1839brow24_col3,#T_b343c4d8_2dc3_11ec_9946_d6cafbb1839brow24_col4,#T_b343c4d8_2dc3_11ec_9946_d6cafbb1839brow24_col5,#T_b343c4d8_2dc3_11ec_9946_d6cafbb1839brow24_col14,#T_b343c4d8_2dc3_11ec_9946_d6cafbb1839brow24_col15,#T_b343c4d8_2dc3_11ec_9946_d6cafbb1839brow24_col16,#T_b343c4d8_2dc3_11ec_9946_d6cafbb1839brow24_col17,#T_b343c4d8_2dc3_11ec_9946_d6cafbb1839brow24_col18,#T_b343c4d8_2dc3_11ec_9946_d6cafbb1839brow24_col19,#T_b343c4d8_2dc3_11ec_9946_d6cafbb1839brow24_col20,#T_b343c4d8_2dc3_11ec_9946_d6cafbb1839brow24_col21,#T_b343c4d8_2dc3_11ec_9946_d6cafbb1839brow24_col22,#T_b343c4d8_2dc3_11ec_9946_d6cafbb1839brow24_col23,#T_b343c4d8_2dc3_11ec_9946_d6cafbb1839brow24_col24,#T_b343c4d8_2dc3_11ec_9946_d6cafbb1839brow24_col25,#T_b343c4d8_2dc3_11ec_9946_d6cafbb1839brow24_col26,#T_b343c4d8_2dc3_11ec_9946_d6cafbb1839brow24_col27,#T_b343c4d8_2dc3_11ec_9946_d6cafbb1839brow25_col0,#T_b343c4d8_2dc3_11ec_9946_d6cafbb1839brow25_col1,#T_b343c4d8_2dc3_11ec_9946_d6cafbb1839brow25_col2,#T_b343c4d8_2dc3_11ec_9946_d6cafbb1839brow25_col3,#T_b343c4d8_2dc3_11ec_9946_d6cafbb1839brow25_col4,#T_b343c4d8_2dc3_11ec_9946_d6cafbb1839brow25_col5,#T_b343c4d8_2dc3_11ec_9946_d6cafbb1839brow25_col6,#T_b343c4d8_2dc3_11ec_9946_d6cafbb1839brow25_col7,#T_b343c4d8_2dc3_11ec_9946_d6cafbb1839brow25_col8,#T_b343c4d8_2dc3_11ec_9946_d6cafbb1839brow25_col9,#T_b343c4d8_2dc3_11ec_9946_d6cafbb1839brow25_col10,#T_b343c4d8_2dc3_11ec_9946_d6cafbb1839brow25_col11,#T_b343c4d8_2dc3_11ec_9946_d6cafbb1839brow25_col12,#T_b343c4d8_2dc3_11ec_9946_d6cafbb1839brow25_col13,#T_b343c4d8_2dc3_11ec_9946_d6cafbb1839brow25_col14,#T_b343c4d8_2dc3_11ec_9946_d6cafbb1839brow25_col15,#T_b343c4d8_2dc3_11ec_9946_d6cafbb1839brow25_col16,#T_b343c4d8_2dc3_11ec_9946_d6cafbb1839brow25_col17,#T_b343c4d8_2dc3_11ec_9946_d6cafbb1839brow25_col18,#T_b343c4d8_2dc3_11ec_9946_d6cafbb1839brow25_col19,#T_b343c4d8_2dc3_11ec_9946_d6cafbb1839brow25_col20,#T_b343c4d8_2dc3_11ec_9946_d6cafbb1839brow25_col21,#T_b343c4d8_2dc3_11ec_9946_d6cafbb1839brow25_col22,#T_b343c4d8_2dc3_11ec_9946_d6cafbb1839brow25_col23,#T_b343c4d8_2dc3_11ec_9946_d6cafbb1839brow25_col24,#T_b343c4d8_2dc3_11ec_9946_d6cafbb1839brow25_col25,#T_b343c4d8_2dc3_11ec_9946_d6cafbb1839brow25_col26,#T_b343c4d8_2dc3_11ec_9946_d6cafbb1839brow25_col27,#T_b343c4d8_2dc3_11ec_9946_d6cafbb1839brow26_col0,#T_b343c4d8_2dc3_11ec_9946_d6cafbb1839brow26_col1,#T_b343c4d8_2dc3_11ec_9946_d6cafbb1839brow26_col2,#T_b343c4d8_2dc3_11ec_9946_d6cafbb1839brow26_col3,#T_b343c4d8_2dc3_11ec_9946_d6cafbb1839brow26_col4,#T_b343c4d8_2dc3_11ec_9946_d6cafbb1839brow26_col5,#T_b343c4d8_2dc3_11ec_9946_d6cafbb1839brow26_col6,#T_b343c4d8_2dc3_11ec_9946_d6cafbb1839brow26_col7,#T_b343c4d8_2dc3_11ec_9946_d6cafbb1839brow26_col8,#T_b343c4d8_2dc3_11ec_9946_d6cafbb1839brow26_col9,#T_b343c4d8_2dc3_11ec_9946_d6cafbb1839brow26_col10,#T_b343c4d8_2dc3_11ec_9946_d6cafbb1839brow26_col11,#T_b343c4d8_2dc3_11ec_9946_d6cafbb1839brow26_col12,#T_b343c4d8_2dc3_11ec_9946_d6cafbb1839brow26_col13,#T_b343c4d8_2dc3_11ec_9946_d6cafbb1839brow26_col14,#T_b343c4d8_2dc3_11ec_9946_d6cafbb1839brow26_col15,#T_b343c4d8_2dc3_11ec_9946_d6cafbb1839brow26_col16,#T_b343c4d8_2dc3_11ec_9946_d6cafbb1839brow26_col17,#T_b343c4d8_2dc3_11ec_9946_d6cafbb1839brow26_col18,#T_b343c4d8_2dc3_11ec_9946_d6cafbb1839brow26_col19,#T_b343c4d8_2dc3_11ec_9946_d6cafbb1839brow26_col20,#T_b343c4d8_2dc3_11ec_9946_d6cafbb1839brow26_col21,#T_b343c4d8_2dc3_11ec_9946_d6cafbb1839brow26_col22,#T_b343c4d8_2dc3_11ec_9946_d6cafbb1839brow26_col23,#T_b343c4d8_2dc3_11ec_9946_d6cafbb1839brow26_col24,#T_b343c4d8_2dc3_11ec_9946_d6cafbb1839brow26_col25,#T_b343c4d8_2dc3_11ec_9946_d6cafbb1839brow26_col26,#T_b343c4d8_2dc3_11ec_9946_d6cafbb1839brow26_col27,#T_b343c4d8_2dc3_11ec_9946_d6cafbb1839brow27_col0,#T_b343c4d8_2dc3_11ec_9946_d6cafbb1839brow27_col1,#T_b343c4d8_2dc3_11ec_9946_d6cafbb1839brow27_col2,#T_b343c4d8_2dc3_11ec_9946_d6cafbb1839brow27_col3,#T_b343c4d8_2dc3_11ec_9946_d6cafbb1839brow27_col4,#T_b343c4d8_2dc3_11ec_9946_d6cafbb1839brow27_col5,#T_b343c4d8_2dc3_11ec_9946_d6cafbb1839brow27_col6,#T_b343c4d8_2dc3_11ec_9946_d6cafbb1839brow27_col7,#T_b343c4d8_2dc3_11ec_9946_d6cafbb1839brow27_col8,#T_b343c4d8_2dc3_11ec_9946_d6cafbb1839brow27_col9,#T_b343c4d8_2dc3_11ec_9946_d6cafbb1839brow27_col10,#T_b343c4d8_2dc3_11ec_9946_d6cafbb1839brow27_col11,#T_b343c4d8_2dc3_11ec_9946_d6cafbb1839brow27_col12,#T_b343c4d8_2dc3_11ec_9946_d6cafbb1839brow27_col13,#T_b343c4d8_2dc3_11ec_9946_d6cafbb1839brow27_col14,#T_b343c4d8_2dc3_11ec_9946_d6cafbb1839brow27_col15,#T_b343c4d8_2dc3_11ec_9946_d6cafbb1839brow27_col16,#T_b343c4d8_2dc3_11ec_9946_d6cafbb1839brow27_col17,#T_b343c4d8_2dc3_11ec_9946_d6cafbb1839brow27_col18,#T_b343c4d8_2dc3_11ec_9946_d6cafbb1839brow27_col19,#T_b343c4d8_2dc3_11ec_9946_d6cafbb1839brow27_col20,#T_b343c4d8_2dc3_11ec_9946_d6cafbb1839brow27_col21,#T_b343c4d8_2dc3_11ec_9946_d6cafbb1839brow27_col22,#T_b343c4d8_2dc3_11ec_9946_d6cafbb1839brow27_col23,#T_b343c4d8_2dc3_11ec_9946_d6cafbb1839brow27_col24,#T_b343c4d8_2dc3_11ec_9946_d6cafbb1839brow27_col25,#T_b343c4d8_2dc3_11ec_9946_d6cafbb1839brow27_col26,#T_b343c4d8_2dc3_11ec_9946_d6cafbb1839brow27_col27{\n",
       "            font-size:  6pt;\n",
       "            background-color:  #ffffff;\n",
       "            color:  #000000;\n",
       "        }#T_b343c4d8_2dc3_11ec_9946_d6cafbb1839brow5_col9,#T_b343c4d8_2dc3_11ec_9946_d6cafbb1839brow12_col16{\n",
       "            font-size:  6pt;\n",
       "            background-color:  #f1f1f1;\n",
       "            color:  #000000;\n",
       "        }#T_b343c4d8_2dc3_11ec_9946_d6cafbb1839brow5_col10,#T_b343c4d8_2dc3_11ec_9946_d6cafbb1839brow5_col17{\n",
       "            font-size:  6pt;\n",
       "            background-color:  #7c7c7c;\n",
       "            color:  #000000;\n",
       "        }#T_b343c4d8_2dc3_11ec_9946_d6cafbb1839brow5_col11{\n",
       "            font-size:  6pt;\n",
       "            background-color:  #4a4a4a;\n",
       "            color:  #f1f1f1;\n",
       "        }#T_b343c4d8_2dc3_11ec_9946_d6cafbb1839brow5_col12,#T_b343c4d8_2dc3_11ec_9946_d6cafbb1839brow5_col13,#T_b343c4d8_2dc3_11ec_9946_d6cafbb1839brow5_col14,#T_b343c4d8_2dc3_11ec_9946_d6cafbb1839brow6_col10,#T_b343c4d8_2dc3_11ec_9946_d6cafbb1839brow6_col11,#T_b343c4d8_2dc3_11ec_9946_d6cafbb1839brow6_col15,#T_b343c4d8_2dc3_11ec_9946_d6cafbb1839brow6_col16,#T_b343c4d8_2dc3_11ec_9946_d6cafbb1839brow6_col17,#T_b343c4d8_2dc3_11ec_9946_d6cafbb1839brow7_col8,#T_b343c4d8_2dc3_11ec_9946_d6cafbb1839brow7_col16,#T_b343c4d8_2dc3_11ec_9946_d6cafbb1839brow7_col17,#T_b343c4d8_2dc3_11ec_9946_d6cafbb1839brow8_col5,#T_b343c4d8_2dc3_11ec_9946_d6cafbb1839brow8_col6,#T_b343c4d8_2dc3_11ec_9946_d6cafbb1839brow8_col7,#T_b343c4d8_2dc3_11ec_9946_d6cafbb1839brow8_col16,#T_b343c4d8_2dc3_11ec_9946_d6cafbb1839brow8_col17,#T_b343c4d8_2dc3_11ec_9946_d6cafbb1839brow9_col16,#T_b343c4d8_2dc3_11ec_9946_d6cafbb1839brow10_col15,#T_b343c4d8_2dc3_11ec_9946_d6cafbb1839brow13_col15,#T_b343c4d8_2dc3_11ec_9946_d6cafbb1839brow14_col15,#T_b343c4d8_2dc3_11ec_9946_d6cafbb1839brow14_col16,#T_b343c4d8_2dc3_11ec_9946_d6cafbb1839brow14_col17,#T_b343c4d8_2dc3_11ec_9946_d6cafbb1839brow14_col18,#T_b343c4d8_2dc3_11ec_9946_d6cafbb1839brow15_col17,#T_b343c4d8_2dc3_11ec_9946_d6cafbb1839brow15_col18,#T_b343c4d8_2dc3_11ec_9946_d6cafbb1839brow15_col19,#T_b343c4d8_2dc3_11ec_9946_d6cafbb1839brow16_col18,#T_b343c4d8_2dc3_11ec_9946_d6cafbb1839brow16_col19,#T_b343c4d8_2dc3_11ec_9946_d6cafbb1839brow16_col20,#T_b343c4d8_2dc3_11ec_9946_d6cafbb1839brow17_col18,#T_b343c4d8_2dc3_11ec_9946_d6cafbb1839brow17_col19,#T_b343c4d8_2dc3_11ec_9946_d6cafbb1839brow18_col18,#T_b343c4d8_2dc3_11ec_9946_d6cafbb1839brow18_col19,#T_b343c4d8_2dc3_11ec_9946_d6cafbb1839brow19_col17,#T_b343c4d8_2dc3_11ec_9946_d6cafbb1839brow19_col18,#T_b343c4d8_2dc3_11ec_9946_d6cafbb1839brow20_col16,#T_b343c4d8_2dc3_11ec_9946_d6cafbb1839brow20_col17,#T_b343c4d8_2dc3_11ec_9946_d6cafbb1839brow21_col15,#T_b343c4d8_2dc3_11ec_9946_d6cafbb1839brow21_col16,#T_b343c4d8_2dc3_11ec_9946_d6cafbb1839brow23_col7,#T_b343c4d8_2dc3_11ec_9946_d6cafbb1839brow23_col8,#T_b343c4d8_2dc3_11ec_9946_d6cafbb1839brow23_col9,#T_b343c4d8_2dc3_11ec_9946_d6cafbb1839brow23_col10,#T_b343c4d8_2dc3_11ec_9946_d6cafbb1839brow23_col11,#T_b343c4d8_2dc3_11ec_9946_d6cafbb1839brow24_col7,#T_b343c4d8_2dc3_11ec_9946_d6cafbb1839brow24_col8,#T_b343c4d8_2dc3_11ec_9946_d6cafbb1839brow24_col9,#T_b343c4d8_2dc3_11ec_9946_d6cafbb1839brow24_col10,#T_b343c4d8_2dc3_11ec_9946_d6cafbb1839brow24_col11{\n",
       "            font-size:  6pt;\n",
       "            background-color:  #000000;\n",
       "            color:  #f1f1f1;\n",
       "        }#T_b343c4d8_2dc3_11ec_9946_d6cafbb1839brow5_col15{\n",
       "            font-size:  6pt;\n",
       "            background-color:  #606060;\n",
       "            color:  #f1f1f1;\n",
       "        }#T_b343c4d8_2dc3_11ec_9946_d6cafbb1839brow5_col16{\n",
       "            font-size:  6pt;\n",
       "            background-color:  #4d4d4d;\n",
       "            color:  #f1f1f1;\n",
       "        }#T_b343c4d8_2dc3_11ec_9946_d6cafbb1839brow5_col18{\n",
       "            font-size:  6pt;\n",
       "            background-color:  #bbbbbb;\n",
       "            color:  #000000;\n",
       "        }#T_b343c4d8_2dc3_11ec_9946_d6cafbb1839brow6_col7,#T_b343c4d8_2dc3_11ec_9946_d6cafbb1839brow8_col9{\n",
       "            font-size:  6pt;\n",
       "            background-color:  #e4e4e4;\n",
       "            color:  #000000;\n",
       "        }#T_b343c4d8_2dc3_11ec_9946_d6cafbb1839brow6_col8,#T_b343c4d8_2dc3_11ec_9946_d6cafbb1839brow12_col10{\n",
       "            font-size:  6pt;\n",
       "            background-color:  #6b6b6b;\n",
       "            color:  #000000;\n",
       "        }#T_b343c4d8_2dc3_11ec_9946_d6cafbb1839brow6_col9,#T_b343c4d8_2dc3_11ec_9946_d6cafbb1839brow9_col15{\n",
       "            font-size:  6pt;\n",
       "            background-color:  #222222;\n",
       "            color:  #f1f1f1;\n",
       "        }#T_b343c4d8_2dc3_11ec_9946_d6cafbb1839brow6_col12,#T_b343c4d8_2dc3_11ec_9946_d6cafbb1839brow6_col18,#T_b343c4d8_2dc3_11ec_9946_d6cafbb1839brow7_col18,#T_b343c4d8_2dc3_11ec_9946_d6cafbb1839brow21_col17{\n",
       "            font-size:  6pt;\n",
       "            background-color:  #171717;\n",
       "            color:  #f1f1f1;\n",
       "        }#T_b343c4d8_2dc3_11ec_9946_d6cafbb1839brow6_col13,#T_b343c4d8_2dc3_11ec_9946_d6cafbb1839brow7_col15{\n",
       "            font-size:  6pt;\n",
       "            background-color:  #4b4b4b;\n",
       "            color:  #f1f1f1;\n",
       "        }#T_b343c4d8_2dc3_11ec_9946_d6cafbb1839brow6_col14,#T_b343c4d8_2dc3_11ec_9946_d6cafbb1839brow11_col14,#T_b343c4d8_2dc3_11ec_9946_d6cafbb1839brow12_col12,#T_b343c4d8_2dc3_11ec_9946_d6cafbb1839brow12_col14,#T_b343c4d8_2dc3_11ec_9946_d6cafbb1839brow13_col12,#T_b343c4d8_2dc3_11ec_9946_d6cafbb1839brow13_col14,#T_b343c4d8_2dc3_11ec_9946_d6cafbb1839brow22_col14,#T_b343c4d8_2dc3_11ec_9946_d6cafbb1839brow23_col12{\n",
       "            font-size:  6pt;\n",
       "            background-color:  #010101;\n",
       "            color:  #f1f1f1;\n",
       "        }#T_b343c4d8_2dc3_11ec_9946_d6cafbb1839brow7_col5{\n",
       "            font-size:  6pt;\n",
       "            background-color:  #272727;\n",
       "            color:  #f1f1f1;\n",
       "        }#T_b343c4d8_2dc3_11ec_9946_d6cafbb1839brow7_col6{\n",
       "            font-size:  6pt;\n",
       "            background-color:  #0a0a0a;\n",
       "            color:  #f1f1f1;\n",
       "        }#T_b343c4d8_2dc3_11ec_9946_d6cafbb1839brow7_col7,#T_b343c4d8_2dc3_11ec_9946_d6cafbb1839brow18_col17{\n",
       "            font-size:  6pt;\n",
       "            background-color:  #050505;\n",
       "            color:  #f1f1f1;\n",
       "        }#T_b343c4d8_2dc3_11ec_9946_d6cafbb1839brow7_col9,#T_b343c4d8_2dc3_11ec_9946_d6cafbb1839brow12_col15,#T_b343c4d8_2dc3_11ec_9946_d6cafbb1839brow14_col19,#T_b343c4d8_2dc3_11ec_9946_d6cafbb1839brow23_col6{\n",
       "            font-size:  6pt;\n",
       "            background-color:  #545454;\n",
       "            color:  #f1f1f1;\n",
       "        }#T_b343c4d8_2dc3_11ec_9946_d6cafbb1839brow7_col10{\n",
       "            font-size:  6pt;\n",
       "            background-color:  #e6e6e6;\n",
       "            color:  #000000;\n",
       "        }#T_b343c4d8_2dc3_11ec_9946_d6cafbb1839brow7_col11,#T_b343c4d8_2dc3_11ec_9946_d6cafbb1839brow7_col14,#T_b343c4d8_2dc3_11ec_9946_d6cafbb1839brow12_col9{\n",
       "            font-size:  6pt;\n",
       "            background-color:  #fafafa;\n",
       "            color:  #000000;\n",
       "        }#T_b343c4d8_2dc3_11ec_9946_d6cafbb1839brow7_col12,#T_b343c4d8_2dc3_11ec_9946_d6cafbb1839brow15_col14,#T_b343c4d8_2dc3_11ec_9946_d6cafbb1839brow20_col19{\n",
       "            font-size:  6pt;\n",
       "            background-color:  #fbfbfb;\n",
       "            color:  #000000;\n",
       "        }#T_b343c4d8_2dc3_11ec_9946_d6cafbb1839brow7_col13{\n",
       "            font-size:  6pt;\n",
       "            background-color:  #fdfdfd;\n",
       "            color:  #000000;\n",
       "        }#T_b343c4d8_2dc3_11ec_9946_d6cafbb1839brow8_col8{\n",
       "            font-size:  6pt;\n",
       "            background-color:  #1b1b1b;\n",
       "            color:  #f1f1f1;\n",
       "        }#T_b343c4d8_2dc3_11ec_9946_d6cafbb1839brow8_col15{\n",
       "            font-size:  6pt;\n",
       "            background-color:  #4e4e4e;\n",
       "            color:  #f1f1f1;\n",
       "        }#T_b343c4d8_2dc3_11ec_9946_d6cafbb1839brow8_col18{\n",
       "            font-size:  6pt;\n",
       "            background-color:  #767676;\n",
       "            color:  #000000;\n",
       "        }#T_b343c4d8_2dc3_11ec_9946_d6cafbb1839brow9_col5{\n",
       "            font-size:  6pt;\n",
       "            background-color:  #fcfcfc;\n",
       "            color:  #000000;\n",
       "        }#T_b343c4d8_2dc3_11ec_9946_d6cafbb1839brow9_col6,#T_b343c4d8_2dc3_11ec_9946_d6cafbb1839brow9_col7,#T_b343c4d8_2dc3_11ec_9946_d6cafbb1839brow19_col20{\n",
       "            font-size:  6pt;\n",
       "            background-color:  #f6f6f6;\n",
       "            color:  #000000;\n",
       "        }#T_b343c4d8_2dc3_11ec_9946_d6cafbb1839brow9_col8,#T_b343c4d8_2dc3_11ec_9946_d6cafbb1839brow11_col11{\n",
       "            font-size:  6pt;\n",
       "            background-color:  #f8f8f8;\n",
       "            color:  #000000;\n",
       "        }#T_b343c4d8_2dc3_11ec_9946_d6cafbb1839brow9_col14,#T_b343c4d8_2dc3_11ec_9946_d6cafbb1839brow14_col11{\n",
       "            font-size:  6pt;\n",
       "            background-color:  #e8e8e8;\n",
       "            color:  #000000;\n",
       "        }#T_b343c4d8_2dc3_11ec_9946_d6cafbb1839brow9_col17,#T_b343c4d8_2dc3_11ec_9946_d6cafbb1839brow10_col16{\n",
       "            font-size:  6pt;\n",
       "            background-color:  #090909;\n",
       "            color:  #f1f1f1;\n",
       "        }#T_b343c4d8_2dc3_11ec_9946_d6cafbb1839brow9_col18{\n",
       "            font-size:  6pt;\n",
       "            background-color:  #d0d0d0;\n",
       "            color:  #000000;\n",
       "        }#T_b343c4d8_2dc3_11ec_9946_d6cafbb1839brow10_col14,#T_b343c4d8_2dc3_11ec_9946_d6cafbb1839brow11_col15,#T_b343c4d8_2dc3_11ec_9946_d6cafbb1839brow13_col10{\n",
       "            font-size:  6pt;\n",
       "            background-color:  #060606;\n",
       "            color:  #f1f1f1;\n",
       "        }#T_b343c4d8_2dc3_11ec_9946_d6cafbb1839brow10_col17{\n",
       "            font-size:  6pt;\n",
       "            background-color:  #979797;\n",
       "            color:  #000000;\n",
       "        }#T_b343c4d8_2dc3_11ec_9946_d6cafbb1839brow11_col12{\n",
       "            font-size:  6pt;\n",
       "            background-color:  #b6b6b6;\n",
       "            color:  #000000;\n",
       "        }#T_b343c4d8_2dc3_11ec_9946_d6cafbb1839brow11_col13{\n",
       "            font-size:  6pt;\n",
       "            background-color:  #252525;\n",
       "            color:  #f1f1f1;\n",
       "        }#T_b343c4d8_2dc3_11ec_9946_d6cafbb1839brow11_col16{\n",
       "            font-size:  6pt;\n",
       "            background-color:  #999999;\n",
       "            color:  #000000;\n",
       "        }#T_b343c4d8_2dc3_11ec_9946_d6cafbb1839brow12_col11,#T_b343c4d8_2dc3_11ec_9946_d6cafbb1839brow22_col12{\n",
       "            font-size:  6pt;\n",
       "            background-color:  #101010;\n",
       "            color:  #f1f1f1;\n",
       "        }#T_b343c4d8_2dc3_11ec_9946_d6cafbb1839brow12_col13,#T_b343c4d8_2dc3_11ec_9946_d6cafbb1839brow13_col13,#T_b343c4d8_2dc3_11ec_9946_d6cafbb1839brow21_col14,#T_b343c4d8_2dc3_11ec_9946_d6cafbb1839brow22_col13,#T_b343c4d8_2dc3_11ec_9946_d6cafbb1839brow23_col13{\n",
       "            font-size:  6pt;\n",
       "            background-color:  #020202;\n",
       "            color:  #f1f1f1;\n",
       "        }#T_b343c4d8_2dc3_11ec_9946_d6cafbb1839brow13_col9{\n",
       "            font-size:  6pt;\n",
       "            background-color:  #f7f7f7;\n",
       "            color:  #000000;\n",
       "        }#T_b343c4d8_2dc3_11ec_9946_d6cafbb1839brow13_col11,#T_b343c4d8_2dc3_11ec_9946_d6cafbb1839brow22_col15{\n",
       "            font-size:  6pt;\n",
       "            background-color:  #030303;\n",
       "            color:  #f1f1f1;\n",
       "        }#T_b343c4d8_2dc3_11ec_9946_d6cafbb1839brow13_col16{\n",
       "            font-size:  6pt;\n",
       "            background-color:  #181818;\n",
       "            color:  #f1f1f1;\n",
       "        }#T_b343c4d8_2dc3_11ec_9946_d6cafbb1839brow13_col17{\n",
       "            font-size:  6pt;\n",
       "            background-color:  #303030;\n",
       "            color:  #f1f1f1;\n",
       "        }#T_b343c4d8_2dc3_11ec_9946_d6cafbb1839brow13_col18{\n",
       "            font-size:  6pt;\n",
       "            background-color:  #a9a9a9;\n",
       "            color:  #000000;\n",
       "        }#T_b343c4d8_2dc3_11ec_9946_d6cafbb1839brow13_col19{\n",
       "            font-size:  6pt;\n",
       "            background-color:  #fefefe;\n",
       "            color:  #000000;\n",
       "        }#T_b343c4d8_2dc3_11ec_9946_d6cafbb1839brow14_col12,#T_b343c4d8_2dc3_11ec_9946_d6cafbb1839brow14_col13,#T_b343c4d8_2dc3_11ec_9946_d6cafbb1839brow20_col14{\n",
       "            font-size:  6pt;\n",
       "            background-color:  #bababa;\n",
       "            color:  #000000;\n",
       "        }#T_b343c4d8_2dc3_11ec_9946_d6cafbb1839brow14_col14{\n",
       "            font-size:  6pt;\n",
       "            background-color:  #393939;\n",
       "            color:  #f1f1f1;\n",
       "        }#T_b343c4d8_2dc3_11ec_9946_d6cafbb1839brow14_col20{\n",
       "            font-size:  6pt;\n",
       "            background-color:  #eaeaea;\n",
       "            color:  #000000;\n",
       "        }#T_b343c4d8_2dc3_11ec_9946_d6cafbb1839brow15_col15{\n",
       "            font-size:  6pt;\n",
       "            background-color:  #e2e2e2;\n",
       "            color:  #000000;\n",
       "        }#T_b343c4d8_2dc3_11ec_9946_d6cafbb1839brow15_col16{\n",
       "            font-size:  6pt;\n",
       "            background-color:  #9f9f9f;\n",
       "            color:  #000000;\n",
       "        }#T_b343c4d8_2dc3_11ec_9946_d6cafbb1839brow15_col20{\n",
       "            font-size:  6pt;\n",
       "            background-color:  #898989;\n",
       "            color:  #000000;\n",
       "        }#T_b343c4d8_2dc3_11ec_9946_d6cafbb1839brow16_col17{\n",
       "            font-size:  6pt;\n",
       "            background-color:  #585858;\n",
       "            color:  #f1f1f1;\n",
       "        }#T_b343c4d8_2dc3_11ec_9946_d6cafbb1839brow17_col17{\n",
       "            font-size:  6pt;\n",
       "            background-color:  #5a5a5a;\n",
       "            color:  #f1f1f1;\n",
       "        }#T_b343c4d8_2dc3_11ec_9946_d6cafbb1839brow17_col20{\n",
       "            font-size:  6pt;\n",
       "            background-color:  #525252;\n",
       "            color:  #f1f1f1;\n",
       "        }#T_b343c4d8_2dc3_11ec_9946_d6cafbb1839brow18_col16,#T_b343c4d8_2dc3_11ec_9946_d6cafbb1839brow23_col15{\n",
       "            font-size:  6pt;\n",
       "            background-color:  #c5c5c5;\n",
       "            color:  #000000;\n",
       "        }#T_b343c4d8_2dc3_11ec_9946_d6cafbb1839brow18_col20{\n",
       "            font-size:  6pt;\n",
       "            background-color:  #d7d7d7;\n",
       "            color:  #000000;\n",
       "        }#T_b343c4d8_2dc3_11ec_9946_d6cafbb1839brow19_col15,#T_b343c4d8_2dc3_11ec_9946_d6cafbb1839brow22_col9{\n",
       "            font-size:  6pt;\n",
       "            background-color:  #dcdcdc;\n",
       "            color:  #000000;\n",
       "        }#T_b343c4d8_2dc3_11ec_9946_d6cafbb1839brow19_col16{\n",
       "            font-size:  6pt;\n",
       "            background-color:  #2f2f2f;\n",
       "            color:  #f1f1f1;\n",
       "        }#T_b343c4d8_2dc3_11ec_9946_d6cafbb1839brow19_col19{\n",
       "            font-size:  6pt;\n",
       "            background-color:  #636363;\n",
       "            color:  #f1f1f1;\n",
       "        }#T_b343c4d8_2dc3_11ec_9946_d6cafbb1839brow20_col15{\n",
       "            font-size:  6pt;\n",
       "            background-color:  #070707;\n",
       "            color:  #f1f1f1;\n",
       "        }#T_b343c4d8_2dc3_11ec_9946_d6cafbb1839brow20_col18{\n",
       "            font-size:  6pt;\n",
       "            background-color:  #1f1f1f;\n",
       "            color:  #f1f1f1;\n",
       "        }#T_b343c4d8_2dc3_11ec_9946_d6cafbb1839brow21_col12,#T_b343c4d8_2dc3_11ec_9946_d6cafbb1839brow22_col6,#T_b343c4d8_2dc3_11ec_9946_d6cafbb1839brow22_col8{\n",
       "            font-size:  6pt;\n",
       "            background-color:  #e9e9e9;\n",
       "            color:  #000000;\n",
       "        }#T_b343c4d8_2dc3_11ec_9946_d6cafbb1839brow21_col13{\n",
       "            font-size:  6pt;\n",
       "            background-color:  #7d7d7d;\n",
       "            color:  #000000;\n",
       "        }#T_b343c4d8_2dc3_11ec_9946_d6cafbb1839brow21_col18{\n",
       "            font-size:  6pt;\n",
       "            background-color:  #e1e1e1;\n",
       "            color:  #000000;\n",
       "        }#T_b343c4d8_2dc3_11ec_9946_d6cafbb1839brow22_col7,#T_b343c4d8_2dc3_11ec_9946_d6cafbb1839brow22_col10{\n",
       "            font-size:  6pt;\n",
       "            background-color:  #a4a4a4;\n",
       "            color:  #000000;\n",
       "        }#T_b343c4d8_2dc3_11ec_9946_d6cafbb1839brow22_col11{\n",
       "            font-size:  6pt;\n",
       "            background-color:  #727272;\n",
       "            color:  #000000;\n",
       "        }#T_b343c4d8_2dc3_11ec_9946_d6cafbb1839brow22_col16{\n",
       "            font-size:  6pt;\n",
       "            background-color:  #616161;\n",
       "            color:  #f1f1f1;\n",
       "        }#T_b343c4d8_2dc3_11ec_9946_d6cafbb1839brow22_col17{\n",
       "            font-size:  6pt;\n",
       "            background-color:  #f3f3f3;\n",
       "            color:  #000000;\n",
       "        }#T_b343c4d8_2dc3_11ec_9946_d6cafbb1839brow23_col14{\n",
       "            font-size:  6pt;\n",
       "            background-color:  #484848;\n",
       "            color:  #f1f1f1;\n",
       "        }#T_b343c4d8_2dc3_11ec_9946_d6cafbb1839brow24_col6{\n",
       "            font-size:  6pt;\n",
       "            background-color:  #b3b3b3;\n",
       "            color:  #000000;\n",
       "        }#T_b343c4d8_2dc3_11ec_9946_d6cafbb1839brow24_col12{\n",
       "            font-size:  6pt;\n",
       "            background-color:  #1a1a1a;\n",
       "            color:  #f1f1f1;\n",
       "        }#T_b343c4d8_2dc3_11ec_9946_d6cafbb1839brow24_col13{\n",
       "            font-size:  6pt;\n",
       "            background-color:  #d6d6d6;\n",
       "            color:  #000000;\n",
       "        }</style><table id=\"T_b343c4d8_2dc3_11ec_9946_d6cafbb1839b\" ><thead>    <tr>        <th class=\"blank level0\" ></th>        <th class=\"col_heading level0 col0\" >0</th>        <th class=\"col_heading level0 col1\" >1</th>        <th class=\"col_heading level0 col2\" >2</th>        <th class=\"col_heading level0 col3\" >3</th>        <th class=\"col_heading level0 col4\" >4</th>        <th class=\"col_heading level0 col5\" >5</th>        <th class=\"col_heading level0 col6\" >6</th>        <th class=\"col_heading level0 col7\" >7</th>        <th class=\"col_heading level0 col8\" >8</th>        <th class=\"col_heading level0 col9\" >9</th>        <th class=\"col_heading level0 col10\" >10</th>        <th class=\"col_heading level0 col11\" >11</th>        <th class=\"col_heading level0 col12\" >12</th>        <th class=\"col_heading level0 col13\" >13</th>        <th class=\"col_heading level0 col14\" >14</th>        <th class=\"col_heading level0 col15\" >15</th>        <th class=\"col_heading level0 col16\" >16</th>        <th class=\"col_heading level0 col17\" >17</th>        <th class=\"col_heading level0 col18\" >18</th>        <th class=\"col_heading level0 col19\" >19</th>        <th class=\"col_heading level0 col20\" >20</th>        <th class=\"col_heading level0 col21\" >21</th>        <th class=\"col_heading level0 col22\" >22</th>        <th class=\"col_heading level0 col23\" >23</th>        <th class=\"col_heading level0 col24\" >24</th>        <th class=\"col_heading level0 col25\" >25</th>        <th class=\"col_heading level0 col26\" >26</th>        <th class=\"col_heading level0 col27\" >27</th>    </tr></thead><tbody>\n",
       "                <tr>\n",
       "                        <th id=\"T_b343c4d8_2dc3_11ec_9946_d6cafbb1839blevel0_row0\" class=\"row_heading level0 row0\" >0</th>\n",
       "                        <td id=\"T_b343c4d8_2dc3_11ec_9946_d6cafbb1839brow0_col0\" class=\"data row0 col0\" >0</td>\n",
       "                        <td id=\"T_b343c4d8_2dc3_11ec_9946_d6cafbb1839brow0_col1\" class=\"data row0 col1\" >0</td>\n",
       "                        <td id=\"T_b343c4d8_2dc3_11ec_9946_d6cafbb1839brow0_col2\" class=\"data row0 col2\" >0</td>\n",
       "                        <td id=\"T_b343c4d8_2dc3_11ec_9946_d6cafbb1839brow0_col3\" class=\"data row0 col3\" >0</td>\n",
       "                        <td id=\"T_b343c4d8_2dc3_11ec_9946_d6cafbb1839brow0_col4\" class=\"data row0 col4\" >0</td>\n",
       "                        <td id=\"T_b343c4d8_2dc3_11ec_9946_d6cafbb1839brow0_col5\" class=\"data row0 col5\" >0</td>\n",
       "                        <td id=\"T_b343c4d8_2dc3_11ec_9946_d6cafbb1839brow0_col6\" class=\"data row0 col6\" >0</td>\n",
       "                        <td id=\"T_b343c4d8_2dc3_11ec_9946_d6cafbb1839brow0_col7\" class=\"data row0 col7\" >0</td>\n",
       "                        <td id=\"T_b343c4d8_2dc3_11ec_9946_d6cafbb1839brow0_col8\" class=\"data row0 col8\" >0</td>\n",
       "                        <td id=\"T_b343c4d8_2dc3_11ec_9946_d6cafbb1839brow0_col9\" class=\"data row0 col9\" >0</td>\n",
       "                        <td id=\"T_b343c4d8_2dc3_11ec_9946_d6cafbb1839brow0_col10\" class=\"data row0 col10\" >0</td>\n",
       "                        <td id=\"T_b343c4d8_2dc3_11ec_9946_d6cafbb1839brow0_col11\" class=\"data row0 col11\" >0</td>\n",
       "                        <td id=\"T_b343c4d8_2dc3_11ec_9946_d6cafbb1839brow0_col12\" class=\"data row0 col12\" >0</td>\n",
       "                        <td id=\"T_b343c4d8_2dc3_11ec_9946_d6cafbb1839brow0_col13\" class=\"data row0 col13\" >0</td>\n",
       "                        <td id=\"T_b343c4d8_2dc3_11ec_9946_d6cafbb1839brow0_col14\" class=\"data row0 col14\" >0</td>\n",
       "                        <td id=\"T_b343c4d8_2dc3_11ec_9946_d6cafbb1839brow0_col15\" class=\"data row0 col15\" >0</td>\n",
       "                        <td id=\"T_b343c4d8_2dc3_11ec_9946_d6cafbb1839brow0_col16\" class=\"data row0 col16\" >0</td>\n",
       "                        <td id=\"T_b343c4d8_2dc3_11ec_9946_d6cafbb1839brow0_col17\" class=\"data row0 col17\" >0</td>\n",
       "                        <td id=\"T_b343c4d8_2dc3_11ec_9946_d6cafbb1839brow0_col18\" class=\"data row0 col18\" >0</td>\n",
       "                        <td id=\"T_b343c4d8_2dc3_11ec_9946_d6cafbb1839brow0_col19\" class=\"data row0 col19\" >0</td>\n",
       "                        <td id=\"T_b343c4d8_2dc3_11ec_9946_d6cafbb1839brow0_col20\" class=\"data row0 col20\" >0</td>\n",
       "                        <td id=\"T_b343c4d8_2dc3_11ec_9946_d6cafbb1839brow0_col21\" class=\"data row0 col21\" >0</td>\n",
       "                        <td id=\"T_b343c4d8_2dc3_11ec_9946_d6cafbb1839brow0_col22\" class=\"data row0 col22\" >0</td>\n",
       "                        <td id=\"T_b343c4d8_2dc3_11ec_9946_d6cafbb1839brow0_col23\" class=\"data row0 col23\" >0</td>\n",
       "                        <td id=\"T_b343c4d8_2dc3_11ec_9946_d6cafbb1839brow0_col24\" class=\"data row0 col24\" >0</td>\n",
       "                        <td id=\"T_b343c4d8_2dc3_11ec_9946_d6cafbb1839brow0_col25\" class=\"data row0 col25\" >0</td>\n",
       "                        <td id=\"T_b343c4d8_2dc3_11ec_9946_d6cafbb1839brow0_col26\" class=\"data row0 col26\" >0</td>\n",
       "                        <td id=\"T_b343c4d8_2dc3_11ec_9946_d6cafbb1839brow0_col27\" class=\"data row0 col27\" >0</td>\n",
       "            </tr>\n",
       "            <tr>\n",
       "                        <th id=\"T_b343c4d8_2dc3_11ec_9946_d6cafbb1839blevel0_row1\" class=\"row_heading level0 row1\" >1</th>\n",
       "                        <td id=\"T_b343c4d8_2dc3_11ec_9946_d6cafbb1839brow1_col0\" class=\"data row1 col0\" >0</td>\n",
       "                        <td id=\"T_b343c4d8_2dc3_11ec_9946_d6cafbb1839brow1_col1\" class=\"data row1 col1\" >0</td>\n",
       "                        <td id=\"T_b343c4d8_2dc3_11ec_9946_d6cafbb1839brow1_col2\" class=\"data row1 col2\" >0</td>\n",
       "                        <td id=\"T_b343c4d8_2dc3_11ec_9946_d6cafbb1839brow1_col3\" class=\"data row1 col3\" >0</td>\n",
       "                        <td id=\"T_b343c4d8_2dc3_11ec_9946_d6cafbb1839brow1_col4\" class=\"data row1 col4\" >0</td>\n",
       "                        <td id=\"T_b343c4d8_2dc3_11ec_9946_d6cafbb1839brow1_col5\" class=\"data row1 col5\" >0</td>\n",
       "                        <td id=\"T_b343c4d8_2dc3_11ec_9946_d6cafbb1839brow1_col6\" class=\"data row1 col6\" >0</td>\n",
       "                        <td id=\"T_b343c4d8_2dc3_11ec_9946_d6cafbb1839brow1_col7\" class=\"data row1 col7\" >0</td>\n",
       "                        <td id=\"T_b343c4d8_2dc3_11ec_9946_d6cafbb1839brow1_col8\" class=\"data row1 col8\" >0</td>\n",
       "                        <td id=\"T_b343c4d8_2dc3_11ec_9946_d6cafbb1839brow1_col9\" class=\"data row1 col9\" >0</td>\n",
       "                        <td id=\"T_b343c4d8_2dc3_11ec_9946_d6cafbb1839brow1_col10\" class=\"data row1 col10\" >0</td>\n",
       "                        <td id=\"T_b343c4d8_2dc3_11ec_9946_d6cafbb1839brow1_col11\" class=\"data row1 col11\" >0</td>\n",
       "                        <td id=\"T_b343c4d8_2dc3_11ec_9946_d6cafbb1839brow1_col12\" class=\"data row1 col12\" >0</td>\n",
       "                        <td id=\"T_b343c4d8_2dc3_11ec_9946_d6cafbb1839brow1_col13\" class=\"data row1 col13\" >0</td>\n",
       "                        <td id=\"T_b343c4d8_2dc3_11ec_9946_d6cafbb1839brow1_col14\" class=\"data row1 col14\" >0</td>\n",
       "                        <td id=\"T_b343c4d8_2dc3_11ec_9946_d6cafbb1839brow1_col15\" class=\"data row1 col15\" >0</td>\n",
       "                        <td id=\"T_b343c4d8_2dc3_11ec_9946_d6cafbb1839brow1_col16\" class=\"data row1 col16\" >0</td>\n",
       "                        <td id=\"T_b343c4d8_2dc3_11ec_9946_d6cafbb1839brow1_col17\" class=\"data row1 col17\" >0</td>\n",
       "                        <td id=\"T_b343c4d8_2dc3_11ec_9946_d6cafbb1839brow1_col18\" class=\"data row1 col18\" >0</td>\n",
       "                        <td id=\"T_b343c4d8_2dc3_11ec_9946_d6cafbb1839brow1_col19\" class=\"data row1 col19\" >0</td>\n",
       "                        <td id=\"T_b343c4d8_2dc3_11ec_9946_d6cafbb1839brow1_col20\" class=\"data row1 col20\" >0</td>\n",
       "                        <td id=\"T_b343c4d8_2dc3_11ec_9946_d6cafbb1839brow1_col21\" class=\"data row1 col21\" >0</td>\n",
       "                        <td id=\"T_b343c4d8_2dc3_11ec_9946_d6cafbb1839brow1_col22\" class=\"data row1 col22\" >0</td>\n",
       "                        <td id=\"T_b343c4d8_2dc3_11ec_9946_d6cafbb1839brow1_col23\" class=\"data row1 col23\" >0</td>\n",
       "                        <td id=\"T_b343c4d8_2dc3_11ec_9946_d6cafbb1839brow1_col24\" class=\"data row1 col24\" >0</td>\n",
       "                        <td id=\"T_b343c4d8_2dc3_11ec_9946_d6cafbb1839brow1_col25\" class=\"data row1 col25\" >0</td>\n",
       "                        <td id=\"T_b343c4d8_2dc3_11ec_9946_d6cafbb1839brow1_col26\" class=\"data row1 col26\" >0</td>\n",
       "                        <td id=\"T_b343c4d8_2dc3_11ec_9946_d6cafbb1839brow1_col27\" class=\"data row1 col27\" >0</td>\n",
       "            </tr>\n",
       "            <tr>\n",
       "                        <th id=\"T_b343c4d8_2dc3_11ec_9946_d6cafbb1839blevel0_row2\" class=\"row_heading level0 row2\" >2</th>\n",
       "                        <td id=\"T_b343c4d8_2dc3_11ec_9946_d6cafbb1839brow2_col0\" class=\"data row2 col0\" >0</td>\n",
       "                        <td id=\"T_b343c4d8_2dc3_11ec_9946_d6cafbb1839brow2_col1\" class=\"data row2 col1\" >0</td>\n",
       "                        <td id=\"T_b343c4d8_2dc3_11ec_9946_d6cafbb1839brow2_col2\" class=\"data row2 col2\" >0</td>\n",
       "                        <td id=\"T_b343c4d8_2dc3_11ec_9946_d6cafbb1839brow2_col3\" class=\"data row2 col3\" >0</td>\n",
       "                        <td id=\"T_b343c4d8_2dc3_11ec_9946_d6cafbb1839brow2_col4\" class=\"data row2 col4\" >0</td>\n",
       "                        <td id=\"T_b343c4d8_2dc3_11ec_9946_d6cafbb1839brow2_col5\" class=\"data row2 col5\" >0</td>\n",
       "                        <td id=\"T_b343c4d8_2dc3_11ec_9946_d6cafbb1839brow2_col6\" class=\"data row2 col6\" >0</td>\n",
       "                        <td id=\"T_b343c4d8_2dc3_11ec_9946_d6cafbb1839brow2_col7\" class=\"data row2 col7\" >0</td>\n",
       "                        <td id=\"T_b343c4d8_2dc3_11ec_9946_d6cafbb1839brow2_col8\" class=\"data row2 col8\" >0</td>\n",
       "                        <td id=\"T_b343c4d8_2dc3_11ec_9946_d6cafbb1839brow2_col9\" class=\"data row2 col9\" >0</td>\n",
       "                        <td id=\"T_b343c4d8_2dc3_11ec_9946_d6cafbb1839brow2_col10\" class=\"data row2 col10\" >0</td>\n",
       "                        <td id=\"T_b343c4d8_2dc3_11ec_9946_d6cafbb1839brow2_col11\" class=\"data row2 col11\" >0</td>\n",
       "                        <td id=\"T_b343c4d8_2dc3_11ec_9946_d6cafbb1839brow2_col12\" class=\"data row2 col12\" >0</td>\n",
       "                        <td id=\"T_b343c4d8_2dc3_11ec_9946_d6cafbb1839brow2_col13\" class=\"data row2 col13\" >0</td>\n",
       "                        <td id=\"T_b343c4d8_2dc3_11ec_9946_d6cafbb1839brow2_col14\" class=\"data row2 col14\" >0</td>\n",
       "                        <td id=\"T_b343c4d8_2dc3_11ec_9946_d6cafbb1839brow2_col15\" class=\"data row2 col15\" >0</td>\n",
       "                        <td id=\"T_b343c4d8_2dc3_11ec_9946_d6cafbb1839brow2_col16\" class=\"data row2 col16\" >0</td>\n",
       "                        <td id=\"T_b343c4d8_2dc3_11ec_9946_d6cafbb1839brow2_col17\" class=\"data row2 col17\" >0</td>\n",
       "                        <td id=\"T_b343c4d8_2dc3_11ec_9946_d6cafbb1839brow2_col18\" class=\"data row2 col18\" >0</td>\n",
       "                        <td id=\"T_b343c4d8_2dc3_11ec_9946_d6cafbb1839brow2_col19\" class=\"data row2 col19\" >0</td>\n",
       "                        <td id=\"T_b343c4d8_2dc3_11ec_9946_d6cafbb1839brow2_col20\" class=\"data row2 col20\" >0</td>\n",
       "                        <td id=\"T_b343c4d8_2dc3_11ec_9946_d6cafbb1839brow2_col21\" class=\"data row2 col21\" >0</td>\n",
       "                        <td id=\"T_b343c4d8_2dc3_11ec_9946_d6cafbb1839brow2_col22\" class=\"data row2 col22\" >0</td>\n",
       "                        <td id=\"T_b343c4d8_2dc3_11ec_9946_d6cafbb1839brow2_col23\" class=\"data row2 col23\" >0</td>\n",
       "                        <td id=\"T_b343c4d8_2dc3_11ec_9946_d6cafbb1839brow2_col24\" class=\"data row2 col24\" >0</td>\n",
       "                        <td id=\"T_b343c4d8_2dc3_11ec_9946_d6cafbb1839brow2_col25\" class=\"data row2 col25\" >0</td>\n",
       "                        <td id=\"T_b343c4d8_2dc3_11ec_9946_d6cafbb1839brow2_col26\" class=\"data row2 col26\" >0</td>\n",
       "                        <td id=\"T_b343c4d8_2dc3_11ec_9946_d6cafbb1839brow2_col27\" class=\"data row2 col27\" >0</td>\n",
       "            </tr>\n",
       "            <tr>\n",
       "                        <th id=\"T_b343c4d8_2dc3_11ec_9946_d6cafbb1839blevel0_row3\" class=\"row_heading level0 row3\" >3</th>\n",
       "                        <td id=\"T_b343c4d8_2dc3_11ec_9946_d6cafbb1839brow3_col0\" class=\"data row3 col0\" >0</td>\n",
       "                        <td id=\"T_b343c4d8_2dc3_11ec_9946_d6cafbb1839brow3_col1\" class=\"data row3 col1\" >0</td>\n",
       "                        <td id=\"T_b343c4d8_2dc3_11ec_9946_d6cafbb1839brow3_col2\" class=\"data row3 col2\" >0</td>\n",
       "                        <td id=\"T_b343c4d8_2dc3_11ec_9946_d6cafbb1839brow3_col3\" class=\"data row3 col3\" >0</td>\n",
       "                        <td id=\"T_b343c4d8_2dc3_11ec_9946_d6cafbb1839brow3_col4\" class=\"data row3 col4\" >0</td>\n",
       "                        <td id=\"T_b343c4d8_2dc3_11ec_9946_d6cafbb1839brow3_col5\" class=\"data row3 col5\" >0</td>\n",
       "                        <td id=\"T_b343c4d8_2dc3_11ec_9946_d6cafbb1839brow3_col6\" class=\"data row3 col6\" >0</td>\n",
       "                        <td id=\"T_b343c4d8_2dc3_11ec_9946_d6cafbb1839brow3_col7\" class=\"data row3 col7\" >0</td>\n",
       "                        <td id=\"T_b343c4d8_2dc3_11ec_9946_d6cafbb1839brow3_col8\" class=\"data row3 col8\" >0</td>\n",
       "                        <td id=\"T_b343c4d8_2dc3_11ec_9946_d6cafbb1839brow3_col9\" class=\"data row3 col9\" >0</td>\n",
       "                        <td id=\"T_b343c4d8_2dc3_11ec_9946_d6cafbb1839brow3_col10\" class=\"data row3 col10\" >0</td>\n",
       "                        <td id=\"T_b343c4d8_2dc3_11ec_9946_d6cafbb1839brow3_col11\" class=\"data row3 col11\" >0</td>\n",
       "                        <td id=\"T_b343c4d8_2dc3_11ec_9946_d6cafbb1839brow3_col12\" class=\"data row3 col12\" >0</td>\n",
       "                        <td id=\"T_b343c4d8_2dc3_11ec_9946_d6cafbb1839brow3_col13\" class=\"data row3 col13\" >0</td>\n",
       "                        <td id=\"T_b343c4d8_2dc3_11ec_9946_d6cafbb1839brow3_col14\" class=\"data row3 col14\" >0</td>\n",
       "                        <td id=\"T_b343c4d8_2dc3_11ec_9946_d6cafbb1839brow3_col15\" class=\"data row3 col15\" >0</td>\n",
       "                        <td id=\"T_b343c4d8_2dc3_11ec_9946_d6cafbb1839brow3_col16\" class=\"data row3 col16\" >0</td>\n",
       "                        <td id=\"T_b343c4d8_2dc3_11ec_9946_d6cafbb1839brow3_col17\" class=\"data row3 col17\" >0</td>\n",
       "                        <td id=\"T_b343c4d8_2dc3_11ec_9946_d6cafbb1839brow3_col18\" class=\"data row3 col18\" >0</td>\n",
       "                        <td id=\"T_b343c4d8_2dc3_11ec_9946_d6cafbb1839brow3_col19\" class=\"data row3 col19\" >0</td>\n",
       "                        <td id=\"T_b343c4d8_2dc3_11ec_9946_d6cafbb1839brow3_col20\" class=\"data row3 col20\" >0</td>\n",
       "                        <td id=\"T_b343c4d8_2dc3_11ec_9946_d6cafbb1839brow3_col21\" class=\"data row3 col21\" >0</td>\n",
       "                        <td id=\"T_b343c4d8_2dc3_11ec_9946_d6cafbb1839brow3_col22\" class=\"data row3 col22\" >0</td>\n",
       "                        <td id=\"T_b343c4d8_2dc3_11ec_9946_d6cafbb1839brow3_col23\" class=\"data row3 col23\" >0</td>\n",
       "                        <td id=\"T_b343c4d8_2dc3_11ec_9946_d6cafbb1839brow3_col24\" class=\"data row3 col24\" >0</td>\n",
       "                        <td id=\"T_b343c4d8_2dc3_11ec_9946_d6cafbb1839brow3_col25\" class=\"data row3 col25\" >0</td>\n",
       "                        <td id=\"T_b343c4d8_2dc3_11ec_9946_d6cafbb1839brow3_col26\" class=\"data row3 col26\" >0</td>\n",
       "                        <td id=\"T_b343c4d8_2dc3_11ec_9946_d6cafbb1839brow3_col27\" class=\"data row3 col27\" >0</td>\n",
       "            </tr>\n",
       "            <tr>\n",
       "                        <th id=\"T_b343c4d8_2dc3_11ec_9946_d6cafbb1839blevel0_row4\" class=\"row_heading level0 row4\" >4</th>\n",
       "                        <td id=\"T_b343c4d8_2dc3_11ec_9946_d6cafbb1839brow4_col0\" class=\"data row4 col0\" >0</td>\n",
       "                        <td id=\"T_b343c4d8_2dc3_11ec_9946_d6cafbb1839brow4_col1\" class=\"data row4 col1\" >0</td>\n",
       "                        <td id=\"T_b343c4d8_2dc3_11ec_9946_d6cafbb1839brow4_col2\" class=\"data row4 col2\" >0</td>\n",
       "                        <td id=\"T_b343c4d8_2dc3_11ec_9946_d6cafbb1839brow4_col3\" class=\"data row4 col3\" >0</td>\n",
       "                        <td id=\"T_b343c4d8_2dc3_11ec_9946_d6cafbb1839brow4_col4\" class=\"data row4 col4\" >0</td>\n",
       "                        <td id=\"T_b343c4d8_2dc3_11ec_9946_d6cafbb1839brow4_col5\" class=\"data row4 col5\" >0</td>\n",
       "                        <td id=\"T_b343c4d8_2dc3_11ec_9946_d6cafbb1839brow4_col6\" class=\"data row4 col6\" >0</td>\n",
       "                        <td id=\"T_b343c4d8_2dc3_11ec_9946_d6cafbb1839brow4_col7\" class=\"data row4 col7\" >0</td>\n",
       "                        <td id=\"T_b343c4d8_2dc3_11ec_9946_d6cafbb1839brow4_col8\" class=\"data row4 col8\" >0</td>\n",
       "                        <td id=\"T_b343c4d8_2dc3_11ec_9946_d6cafbb1839brow4_col9\" class=\"data row4 col9\" >0</td>\n",
       "                        <td id=\"T_b343c4d8_2dc3_11ec_9946_d6cafbb1839brow4_col10\" class=\"data row4 col10\" >0</td>\n",
       "                        <td id=\"T_b343c4d8_2dc3_11ec_9946_d6cafbb1839brow4_col11\" class=\"data row4 col11\" >0</td>\n",
       "                        <td id=\"T_b343c4d8_2dc3_11ec_9946_d6cafbb1839brow4_col12\" class=\"data row4 col12\" >0</td>\n",
       "                        <td id=\"T_b343c4d8_2dc3_11ec_9946_d6cafbb1839brow4_col13\" class=\"data row4 col13\" >0</td>\n",
       "                        <td id=\"T_b343c4d8_2dc3_11ec_9946_d6cafbb1839brow4_col14\" class=\"data row4 col14\" >0</td>\n",
       "                        <td id=\"T_b343c4d8_2dc3_11ec_9946_d6cafbb1839brow4_col15\" class=\"data row4 col15\" >0</td>\n",
       "                        <td id=\"T_b343c4d8_2dc3_11ec_9946_d6cafbb1839brow4_col16\" class=\"data row4 col16\" >0</td>\n",
       "                        <td id=\"T_b343c4d8_2dc3_11ec_9946_d6cafbb1839brow4_col17\" class=\"data row4 col17\" >0</td>\n",
       "                        <td id=\"T_b343c4d8_2dc3_11ec_9946_d6cafbb1839brow4_col18\" class=\"data row4 col18\" >0</td>\n",
       "                        <td id=\"T_b343c4d8_2dc3_11ec_9946_d6cafbb1839brow4_col19\" class=\"data row4 col19\" >0</td>\n",
       "                        <td id=\"T_b343c4d8_2dc3_11ec_9946_d6cafbb1839brow4_col20\" class=\"data row4 col20\" >0</td>\n",
       "                        <td id=\"T_b343c4d8_2dc3_11ec_9946_d6cafbb1839brow4_col21\" class=\"data row4 col21\" >0</td>\n",
       "                        <td id=\"T_b343c4d8_2dc3_11ec_9946_d6cafbb1839brow4_col22\" class=\"data row4 col22\" >0</td>\n",
       "                        <td id=\"T_b343c4d8_2dc3_11ec_9946_d6cafbb1839brow4_col23\" class=\"data row4 col23\" >0</td>\n",
       "                        <td id=\"T_b343c4d8_2dc3_11ec_9946_d6cafbb1839brow4_col24\" class=\"data row4 col24\" >0</td>\n",
       "                        <td id=\"T_b343c4d8_2dc3_11ec_9946_d6cafbb1839brow4_col25\" class=\"data row4 col25\" >0</td>\n",
       "                        <td id=\"T_b343c4d8_2dc3_11ec_9946_d6cafbb1839brow4_col26\" class=\"data row4 col26\" >0</td>\n",
       "                        <td id=\"T_b343c4d8_2dc3_11ec_9946_d6cafbb1839brow4_col27\" class=\"data row4 col27\" >0</td>\n",
       "            </tr>\n",
       "            <tr>\n",
       "                        <th id=\"T_b343c4d8_2dc3_11ec_9946_d6cafbb1839blevel0_row5\" class=\"row_heading level0 row5\" >5</th>\n",
       "                        <td id=\"T_b343c4d8_2dc3_11ec_9946_d6cafbb1839brow5_col0\" class=\"data row5 col0\" >0</td>\n",
       "                        <td id=\"T_b343c4d8_2dc3_11ec_9946_d6cafbb1839brow5_col1\" class=\"data row5 col1\" >0</td>\n",
       "                        <td id=\"T_b343c4d8_2dc3_11ec_9946_d6cafbb1839brow5_col2\" class=\"data row5 col2\" >0</td>\n",
       "                        <td id=\"T_b343c4d8_2dc3_11ec_9946_d6cafbb1839brow5_col3\" class=\"data row5 col3\" >0</td>\n",
       "                        <td id=\"T_b343c4d8_2dc3_11ec_9946_d6cafbb1839brow5_col4\" class=\"data row5 col4\" >0</td>\n",
       "                        <td id=\"T_b343c4d8_2dc3_11ec_9946_d6cafbb1839brow5_col5\" class=\"data row5 col5\" >0</td>\n",
       "                        <td id=\"T_b343c4d8_2dc3_11ec_9946_d6cafbb1839brow5_col6\" class=\"data row5 col6\" >0</td>\n",
       "                        <td id=\"T_b343c4d8_2dc3_11ec_9946_d6cafbb1839brow5_col7\" class=\"data row5 col7\" >0</td>\n",
       "                        <td id=\"T_b343c4d8_2dc3_11ec_9946_d6cafbb1839brow5_col8\" class=\"data row5 col8\" >0</td>\n",
       "                        <td id=\"T_b343c4d8_2dc3_11ec_9946_d6cafbb1839brow5_col9\" class=\"data row5 col9\" >29</td>\n",
       "                        <td id=\"T_b343c4d8_2dc3_11ec_9946_d6cafbb1839brow5_col10\" class=\"data row5 col10\" >150</td>\n",
       "                        <td id=\"T_b343c4d8_2dc3_11ec_9946_d6cafbb1839brow5_col11\" class=\"data row5 col11\" >195</td>\n",
       "                        <td id=\"T_b343c4d8_2dc3_11ec_9946_d6cafbb1839brow5_col12\" class=\"data row5 col12\" >254</td>\n",
       "                        <td id=\"T_b343c4d8_2dc3_11ec_9946_d6cafbb1839brow5_col13\" class=\"data row5 col13\" >255</td>\n",
       "                        <td id=\"T_b343c4d8_2dc3_11ec_9946_d6cafbb1839brow5_col14\" class=\"data row5 col14\" >254</td>\n",
       "                        <td id=\"T_b343c4d8_2dc3_11ec_9946_d6cafbb1839brow5_col15\" class=\"data row5 col15\" >176</td>\n",
       "                        <td id=\"T_b343c4d8_2dc3_11ec_9946_d6cafbb1839brow5_col16\" class=\"data row5 col16\" >193</td>\n",
       "                        <td id=\"T_b343c4d8_2dc3_11ec_9946_d6cafbb1839brow5_col17\" class=\"data row5 col17\" >150</td>\n",
       "                        <td id=\"T_b343c4d8_2dc3_11ec_9946_d6cafbb1839brow5_col18\" class=\"data row5 col18\" >96</td>\n",
       "                        <td id=\"T_b343c4d8_2dc3_11ec_9946_d6cafbb1839brow5_col19\" class=\"data row5 col19\" >0</td>\n",
       "                        <td id=\"T_b343c4d8_2dc3_11ec_9946_d6cafbb1839brow5_col20\" class=\"data row5 col20\" >0</td>\n",
       "                        <td id=\"T_b343c4d8_2dc3_11ec_9946_d6cafbb1839brow5_col21\" class=\"data row5 col21\" >0</td>\n",
       "                        <td id=\"T_b343c4d8_2dc3_11ec_9946_d6cafbb1839brow5_col22\" class=\"data row5 col22\" >0</td>\n",
       "                        <td id=\"T_b343c4d8_2dc3_11ec_9946_d6cafbb1839brow5_col23\" class=\"data row5 col23\" >0</td>\n",
       "                        <td id=\"T_b343c4d8_2dc3_11ec_9946_d6cafbb1839brow5_col24\" class=\"data row5 col24\" >0</td>\n",
       "                        <td id=\"T_b343c4d8_2dc3_11ec_9946_d6cafbb1839brow5_col25\" class=\"data row5 col25\" >0</td>\n",
       "                        <td id=\"T_b343c4d8_2dc3_11ec_9946_d6cafbb1839brow5_col26\" class=\"data row5 col26\" >0</td>\n",
       "                        <td id=\"T_b343c4d8_2dc3_11ec_9946_d6cafbb1839brow5_col27\" class=\"data row5 col27\" >0</td>\n",
       "            </tr>\n",
       "            <tr>\n",
       "                        <th id=\"T_b343c4d8_2dc3_11ec_9946_d6cafbb1839blevel0_row6\" class=\"row_heading level0 row6\" >6</th>\n",
       "                        <td id=\"T_b343c4d8_2dc3_11ec_9946_d6cafbb1839brow6_col0\" class=\"data row6 col0\" >0</td>\n",
       "                        <td id=\"T_b343c4d8_2dc3_11ec_9946_d6cafbb1839brow6_col1\" class=\"data row6 col1\" >0</td>\n",
       "                        <td id=\"T_b343c4d8_2dc3_11ec_9946_d6cafbb1839brow6_col2\" class=\"data row6 col2\" >0</td>\n",
       "                        <td id=\"T_b343c4d8_2dc3_11ec_9946_d6cafbb1839brow6_col3\" class=\"data row6 col3\" >0</td>\n",
       "                        <td id=\"T_b343c4d8_2dc3_11ec_9946_d6cafbb1839brow6_col4\" class=\"data row6 col4\" >0</td>\n",
       "                        <td id=\"T_b343c4d8_2dc3_11ec_9946_d6cafbb1839brow6_col5\" class=\"data row6 col5\" >0</td>\n",
       "                        <td id=\"T_b343c4d8_2dc3_11ec_9946_d6cafbb1839brow6_col6\" class=\"data row6 col6\" >0</td>\n",
       "                        <td id=\"T_b343c4d8_2dc3_11ec_9946_d6cafbb1839brow6_col7\" class=\"data row6 col7\" >48</td>\n",
       "                        <td id=\"T_b343c4d8_2dc3_11ec_9946_d6cafbb1839brow6_col8\" class=\"data row6 col8\" >166</td>\n",
       "                        <td id=\"T_b343c4d8_2dc3_11ec_9946_d6cafbb1839brow6_col9\" class=\"data row6 col9\" >224</td>\n",
       "                        <td id=\"T_b343c4d8_2dc3_11ec_9946_d6cafbb1839brow6_col10\" class=\"data row6 col10\" >253</td>\n",
       "                        <td id=\"T_b343c4d8_2dc3_11ec_9946_d6cafbb1839brow6_col11\" class=\"data row6 col11\" >253</td>\n",
       "                        <td id=\"T_b343c4d8_2dc3_11ec_9946_d6cafbb1839brow6_col12\" class=\"data row6 col12\" >234</td>\n",
       "                        <td id=\"T_b343c4d8_2dc3_11ec_9946_d6cafbb1839brow6_col13\" class=\"data row6 col13\" >196</td>\n",
       "                        <td id=\"T_b343c4d8_2dc3_11ec_9946_d6cafbb1839brow6_col14\" class=\"data row6 col14\" >253</td>\n",
       "                        <td id=\"T_b343c4d8_2dc3_11ec_9946_d6cafbb1839brow6_col15\" class=\"data row6 col15\" >253</td>\n",
       "                        <td id=\"T_b343c4d8_2dc3_11ec_9946_d6cafbb1839brow6_col16\" class=\"data row6 col16\" >253</td>\n",
       "                        <td id=\"T_b343c4d8_2dc3_11ec_9946_d6cafbb1839brow6_col17\" class=\"data row6 col17\" >253</td>\n",
       "                        <td id=\"T_b343c4d8_2dc3_11ec_9946_d6cafbb1839brow6_col18\" class=\"data row6 col18\" >233</td>\n",
       "                        <td id=\"T_b343c4d8_2dc3_11ec_9946_d6cafbb1839brow6_col19\" class=\"data row6 col19\" >0</td>\n",
       "                        <td id=\"T_b343c4d8_2dc3_11ec_9946_d6cafbb1839brow6_col20\" class=\"data row6 col20\" >0</td>\n",
       "                        <td id=\"T_b343c4d8_2dc3_11ec_9946_d6cafbb1839brow6_col21\" class=\"data row6 col21\" >0</td>\n",
       "                        <td id=\"T_b343c4d8_2dc3_11ec_9946_d6cafbb1839brow6_col22\" class=\"data row6 col22\" >0</td>\n",
       "                        <td id=\"T_b343c4d8_2dc3_11ec_9946_d6cafbb1839brow6_col23\" class=\"data row6 col23\" >0</td>\n",
       "                        <td id=\"T_b343c4d8_2dc3_11ec_9946_d6cafbb1839brow6_col24\" class=\"data row6 col24\" >0</td>\n",
       "                        <td id=\"T_b343c4d8_2dc3_11ec_9946_d6cafbb1839brow6_col25\" class=\"data row6 col25\" >0</td>\n",
       "                        <td id=\"T_b343c4d8_2dc3_11ec_9946_d6cafbb1839brow6_col26\" class=\"data row6 col26\" >0</td>\n",
       "                        <td id=\"T_b343c4d8_2dc3_11ec_9946_d6cafbb1839brow6_col27\" class=\"data row6 col27\" >0</td>\n",
       "            </tr>\n",
       "            <tr>\n",
       "                        <th id=\"T_b343c4d8_2dc3_11ec_9946_d6cafbb1839blevel0_row7\" class=\"row_heading level0 row7\" >7</th>\n",
       "                        <td id=\"T_b343c4d8_2dc3_11ec_9946_d6cafbb1839brow7_col0\" class=\"data row7 col0\" >0</td>\n",
       "                        <td id=\"T_b343c4d8_2dc3_11ec_9946_d6cafbb1839brow7_col1\" class=\"data row7 col1\" >0</td>\n",
       "                        <td id=\"T_b343c4d8_2dc3_11ec_9946_d6cafbb1839brow7_col2\" class=\"data row7 col2\" >0</td>\n",
       "                        <td id=\"T_b343c4d8_2dc3_11ec_9946_d6cafbb1839brow7_col3\" class=\"data row7 col3\" >0</td>\n",
       "                        <td id=\"T_b343c4d8_2dc3_11ec_9946_d6cafbb1839brow7_col4\" class=\"data row7 col4\" >0</td>\n",
       "                        <td id=\"T_b343c4d8_2dc3_11ec_9946_d6cafbb1839brow7_col5\" class=\"data row7 col5\" >93</td>\n",
       "                        <td id=\"T_b343c4d8_2dc3_11ec_9946_d6cafbb1839brow7_col6\" class=\"data row7 col6\" >244</td>\n",
       "                        <td id=\"T_b343c4d8_2dc3_11ec_9946_d6cafbb1839brow7_col7\" class=\"data row7 col7\" >249</td>\n",
       "                        <td id=\"T_b343c4d8_2dc3_11ec_9946_d6cafbb1839brow7_col8\" class=\"data row7 col8\" >253</td>\n",
       "                        <td id=\"T_b343c4d8_2dc3_11ec_9946_d6cafbb1839brow7_col9\" class=\"data row7 col9\" >187</td>\n",
       "                        <td id=\"T_b343c4d8_2dc3_11ec_9946_d6cafbb1839brow7_col10\" class=\"data row7 col10\" >46</td>\n",
       "                        <td id=\"T_b343c4d8_2dc3_11ec_9946_d6cafbb1839brow7_col11\" class=\"data row7 col11\" >10</td>\n",
       "                        <td id=\"T_b343c4d8_2dc3_11ec_9946_d6cafbb1839brow7_col12\" class=\"data row7 col12\" >8</td>\n",
       "                        <td id=\"T_b343c4d8_2dc3_11ec_9946_d6cafbb1839brow7_col13\" class=\"data row7 col13\" >4</td>\n",
       "                        <td id=\"T_b343c4d8_2dc3_11ec_9946_d6cafbb1839brow7_col14\" class=\"data row7 col14\" >10</td>\n",
       "                        <td id=\"T_b343c4d8_2dc3_11ec_9946_d6cafbb1839brow7_col15\" class=\"data row7 col15\" >194</td>\n",
       "                        <td id=\"T_b343c4d8_2dc3_11ec_9946_d6cafbb1839brow7_col16\" class=\"data row7 col16\" >253</td>\n",
       "                        <td id=\"T_b343c4d8_2dc3_11ec_9946_d6cafbb1839brow7_col17\" class=\"data row7 col17\" >253</td>\n",
       "                        <td id=\"T_b343c4d8_2dc3_11ec_9946_d6cafbb1839brow7_col18\" class=\"data row7 col18\" >233</td>\n",
       "                        <td id=\"T_b343c4d8_2dc3_11ec_9946_d6cafbb1839brow7_col19\" class=\"data row7 col19\" >0</td>\n",
       "                        <td id=\"T_b343c4d8_2dc3_11ec_9946_d6cafbb1839brow7_col20\" class=\"data row7 col20\" >0</td>\n",
       "                        <td id=\"T_b343c4d8_2dc3_11ec_9946_d6cafbb1839brow7_col21\" class=\"data row7 col21\" >0</td>\n",
       "                        <td id=\"T_b343c4d8_2dc3_11ec_9946_d6cafbb1839brow7_col22\" class=\"data row7 col22\" >0</td>\n",
       "                        <td id=\"T_b343c4d8_2dc3_11ec_9946_d6cafbb1839brow7_col23\" class=\"data row7 col23\" >0</td>\n",
       "                        <td id=\"T_b343c4d8_2dc3_11ec_9946_d6cafbb1839brow7_col24\" class=\"data row7 col24\" >0</td>\n",
       "                        <td id=\"T_b343c4d8_2dc3_11ec_9946_d6cafbb1839brow7_col25\" class=\"data row7 col25\" >0</td>\n",
       "                        <td id=\"T_b343c4d8_2dc3_11ec_9946_d6cafbb1839brow7_col26\" class=\"data row7 col26\" >0</td>\n",
       "                        <td id=\"T_b343c4d8_2dc3_11ec_9946_d6cafbb1839brow7_col27\" class=\"data row7 col27\" >0</td>\n",
       "            </tr>\n",
       "            <tr>\n",
       "                        <th id=\"T_b343c4d8_2dc3_11ec_9946_d6cafbb1839blevel0_row8\" class=\"row_heading level0 row8\" >8</th>\n",
       "                        <td id=\"T_b343c4d8_2dc3_11ec_9946_d6cafbb1839brow8_col0\" class=\"data row8 col0\" >0</td>\n",
       "                        <td id=\"T_b343c4d8_2dc3_11ec_9946_d6cafbb1839brow8_col1\" class=\"data row8 col1\" >0</td>\n",
       "                        <td id=\"T_b343c4d8_2dc3_11ec_9946_d6cafbb1839brow8_col2\" class=\"data row8 col2\" >0</td>\n",
       "                        <td id=\"T_b343c4d8_2dc3_11ec_9946_d6cafbb1839brow8_col3\" class=\"data row8 col3\" >0</td>\n",
       "                        <td id=\"T_b343c4d8_2dc3_11ec_9946_d6cafbb1839brow8_col4\" class=\"data row8 col4\" >0</td>\n",
       "                        <td id=\"T_b343c4d8_2dc3_11ec_9946_d6cafbb1839brow8_col5\" class=\"data row8 col5\" >107</td>\n",
       "                        <td id=\"T_b343c4d8_2dc3_11ec_9946_d6cafbb1839brow8_col6\" class=\"data row8 col6\" >253</td>\n",
       "                        <td id=\"T_b343c4d8_2dc3_11ec_9946_d6cafbb1839brow8_col7\" class=\"data row8 col7\" >253</td>\n",
       "                        <td id=\"T_b343c4d8_2dc3_11ec_9946_d6cafbb1839brow8_col8\" class=\"data row8 col8\" >230</td>\n",
       "                        <td id=\"T_b343c4d8_2dc3_11ec_9946_d6cafbb1839brow8_col9\" class=\"data row8 col9\" >48</td>\n",
       "                        <td id=\"T_b343c4d8_2dc3_11ec_9946_d6cafbb1839brow8_col10\" class=\"data row8 col10\" >0</td>\n",
       "                        <td id=\"T_b343c4d8_2dc3_11ec_9946_d6cafbb1839brow8_col11\" class=\"data row8 col11\" >0</td>\n",
       "                        <td id=\"T_b343c4d8_2dc3_11ec_9946_d6cafbb1839brow8_col12\" class=\"data row8 col12\" >0</td>\n",
       "                        <td id=\"T_b343c4d8_2dc3_11ec_9946_d6cafbb1839brow8_col13\" class=\"data row8 col13\" >0</td>\n",
       "                        <td id=\"T_b343c4d8_2dc3_11ec_9946_d6cafbb1839brow8_col14\" class=\"data row8 col14\" >0</td>\n",
       "                        <td id=\"T_b343c4d8_2dc3_11ec_9946_d6cafbb1839brow8_col15\" class=\"data row8 col15\" >192</td>\n",
       "                        <td id=\"T_b343c4d8_2dc3_11ec_9946_d6cafbb1839brow8_col16\" class=\"data row8 col16\" >253</td>\n",
       "                        <td id=\"T_b343c4d8_2dc3_11ec_9946_d6cafbb1839brow8_col17\" class=\"data row8 col17\" >253</td>\n",
       "                        <td id=\"T_b343c4d8_2dc3_11ec_9946_d6cafbb1839brow8_col18\" class=\"data row8 col18\" >156</td>\n",
       "                        <td id=\"T_b343c4d8_2dc3_11ec_9946_d6cafbb1839brow8_col19\" class=\"data row8 col19\" >0</td>\n",
       "                        <td id=\"T_b343c4d8_2dc3_11ec_9946_d6cafbb1839brow8_col20\" class=\"data row8 col20\" >0</td>\n",
       "                        <td id=\"T_b343c4d8_2dc3_11ec_9946_d6cafbb1839brow8_col21\" class=\"data row8 col21\" >0</td>\n",
       "                        <td id=\"T_b343c4d8_2dc3_11ec_9946_d6cafbb1839brow8_col22\" class=\"data row8 col22\" >0</td>\n",
       "                        <td id=\"T_b343c4d8_2dc3_11ec_9946_d6cafbb1839brow8_col23\" class=\"data row8 col23\" >0</td>\n",
       "                        <td id=\"T_b343c4d8_2dc3_11ec_9946_d6cafbb1839brow8_col24\" class=\"data row8 col24\" >0</td>\n",
       "                        <td id=\"T_b343c4d8_2dc3_11ec_9946_d6cafbb1839brow8_col25\" class=\"data row8 col25\" >0</td>\n",
       "                        <td id=\"T_b343c4d8_2dc3_11ec_9946_d6cafbb1839brow8_col26\" class=\"data row8 col26\" >0</td>\n",
       "                        <td id=\"T_b343c4d8_2dc3_11ec_9946_d6cafbb1839brow8_col27\" class=\"data row8 col27\" >0</td>\n",
       "            </tr>\n",
       "            <tr>\n",
       "                        <th id=\"T_b343c4d8_2dc3_11ec_9946_d6cafbb1839blevel0_row9\" class=\"row_heading level0 row9\" >9</th>\n",
       "                        <td id=\"T_b343c4d8_2dc3_11ec_9946_d6cafbb1839brow9_col0\" class=\"data row9 col0\" >0</td>\n",
       "                        <td id=\"T_b343c4d8_2dc3_11ec_9946_d6cafbb1839brow9_col1\" class=\"data row9 col1\" >0</td>\n",
       "                        <td id=\"T_b343c4d8_2dc3_11ec_9946_d6cafbb1839brow9_col2\" class=\"data row9 col2\" >0</td>\n",
       "                        <td id=\"T_b343c4d8_2dc3_11ec_9946_d6cafbb1839brow9_col3\" class=\"data row9 col3\" >0</td>\n",
       "                        <td id=\"T_b343c4d8_2dc3_11ec_9946_d6cafbb1839brow9_col4\" class=\"data row9 col4\" >0</td>\n",
       "                        <td id=\"T_b343c4d8_2dc3_11ec_9946_d6cafbb1839brow9_col5\" class=\"data row9 col5\" >3</td>\n",
       "                        <td id=\"T_b343c4d8_2dc3_11ec_9946_d6cafbb1839brow9_col6\" class=\"data row9 col6\" >20</td>\n",
       "                        <td id=\"T_b343c4d8_2dc3_11ec_9946_d6cafbb1839brow9_col7\" class=\"data row9 col7\" >20</td>\n",
       "                        <td id=\"T_b343c4d8_2dc3_11ec_9946_d6cafbb1839brow9_col8\" class=\"data row9 col8\" >15</td>\n",
       "                        <td id=\"T_b343c4d8_2dc3_11ec_9946_d6cafbb1839brow9_col9\" class=\"data row9 col9\" >0</td>\n",
       "                        <td id=\"T_b343c4d8_2dc3_11ec_9946_d6cafbb1839brow9_col10\" class=\"data row9 col10\" >0</td>\n",
       "                        <td id=\"T_b343c4d8_2dc3_11ec_9946_d6cafbb1839brow9_col11\" class=\"data row9 col11\" >0</td>\n",
       "                        <td id=\"T_b343c4d8_2dc3_11ec_9946_d6cafbb1839brow9_col12\" class=\"data row9 col12\" >0</td>\n",
       "                        <td id=\"T_b343c4d8_2dc3_11ec_9946_d6cafbb1839brow9_col13\" class=\"data row9 col13\" >0</td>\n",
       "                        <td id=\"T_b343c4d8_2dc3_11ec_9946_d6cafbb1839brow9_col14\" class=\"data row9 col14\" >43</td>\n",
       "                        <td id=\"T_b343c4d8_2dc3_11ec_9946_d6cafbb1839brow9_col15\" class=\"data row9 col15\" >224</td>\n",
       "                        <td id=\"T_b343c4d8_2dc3_11ec_9946_d6cafbb1839brow9_col16\" class=\"data row9 col16\" >253</td>\n",
       "                        <td id=\"T_b343c4d8_2dc3_11ec_9946_d6cafbb1839brow9_col17\" class=\"data row9 col17\" >245</td>\n",
       "                        <td id=\"T_b343c4d8_2dc3_11ec_9946_d6cafbb1839brow9_col18\" class=\"data row9 col18\" >74</td>\n",
       "                        <td id=\"T_b343c4d8_2dc3_11ec_9946_d6cafbb1839brow9_col19\" class=\"data row9 col19\" >0</td>\n",
       "                        <td id=\"T_b343c4d8_2dc3_11ec_9946_d6cafbb1839brow9_col20\" class=\"data row9 col20\" >0</td>\n",
       "                        <td id=\"T_b343c4d8_2dc3_11ec_9946_d6cafbb1839brow9_col21\" class=\"data row9 col21\" >0</td>\n",
       "                        <td id=\"T_b343c4d8_2dc3_11ec_9946_d6cafbb1839brow9_col22\" class=\"data row9 col22\" >0</td>\n",
       "                        <td id=\"T_b343c4d8_2dc3_11ec_9946_d6cafbb1839brow9_col23\" class=\"data row9 col23\" >0</td>\n",
       "                        <td id=\"T_b343c4d8_2dc3_11ec_9946_d6cafbb1839brow9_col24\" class=\"data row9 col24\" >0</td>\n",
       "                        <td id=\"T_b343c4d8_2dc3_11ec_9946_d6cafbb1839brow9_col25\" class=\"data row9 col25\" >0</td>\n",
       "                        <td id=\"T_b343c4d8_2dc3_11ec_9946_d6cafbb1839brow9_col26\" class=\"data row9 col26\" >0</td>\n",
       "                        <td id=\"T_b343c4d8_2dc3_11ec_9946_d6cafbb1839brow9_col27\" class=\"data row9 col27\" >0</td>\n",
       "            </tr>\n",
       "            <tr>\n",
       "                        <th id=\"T_b343c4d8_2dc3_11ec_9946_d6cafbb1839blevel0_row10\" class=\"row_heading level0 row10\" >10</th>\n",
       "                        <td id=\"T_b343c4d8_2dc3_11ec_9946_d6cafbb1839brow10_col0\" class=\"data row10 col0\" >0</td>\n",
       "                        <td id=\"T_b343c4d8_2dc3_11ec_9946_d6cafbb1839brow10_col1\" class=\"data row10 col1\" >0</td>\n",
       "                        <td id=\"T_b343c4d8_2dc3_11ec_9946_d6cafbb1839brow10_col2\" class=\"data row10 col2\" >0</td>\n",
       "                        <td id=\"T_b343c4d8_2dc3_11ec_9946_d6cafbb1839brow10_col3\" class=\"data row10 col3\" >0</td>\n",
       "                        <td id=\"T_b343c4d8_2dc3_11ec_9946_d6cafbb1839brow10_col4\" class=\"data row10 col4\" >0</td>\n",
       "                        <td id=\"T_b343c4d8_2dc3_11ec_9946_d6cafbb1839brow10_col5\" class=\"data row10 col5\" >0</td>\n",
       "                        <td id=\"T_b343c4d8_2dc3_11ec_9946_d6cafbb1839brow10_col6\" class=\"data row10 col6\" >0</td>\n",
       "                        <td id=\"T_b343c4d8_2dc3_11ec_9946_d6cafbb1839brow10_col7\" class=\"data row10 col7\" >0</td>\n",
       "                        <td id=\"T_b343c4d8_2dc3_11ec_9946_d6cafbb1839brow10_col8\" class=\"data row10 col8\" >0</td>\n",
       "                        <td id=\"T_b343c4d8_2dc3_11ec_9946_d6cafbb1839brow10_col9\" class=\"data row10 col9\" >0</td>\n",
       "                        <td id=\"T_b343c4d8_2dc3_11ec_9946_d6cafbb1839brow10_col10\" class=\"data row10 col10\" >0</td>\n",
       "                        <td id=\"T_b343c4d8_2dc3_11ec_9946_d6cafbb1839brow10_col11\" class=\"data row10 col11\" >0</td>\n",
       "                        <td id=\"T_b343c4d8_2dc3_11ec_9946_d6cafbb1839brow10_col12\" class=\"data row10 col12\" >0</td>\n",
       "                        <td id=\"T_b343c4d8_2dc3_11ec_9946_d6cafbb1839brow10_col13\" class=\"data row10 col13\" >0</td>\n",
       "                        <td id=\"T_b343c4d8_2dc3_11ec_9946_d6cafbb1839brow10_col14\" class=\"data row10 col14\" >249</td>\n",
       "                        <td id=\"T_b343c4d8_2dc3_11ec_9946_d6cafbb1839brow10_col15\" class=\"data row10 col15\" >253</td>\n",
       "                        <td id=\"T_b343c4d8_2dc3_11ec_9946_d6cafbb1839brow10_col16\" class=\"data row10 col16\" >245</td>\n",
       "                        <td id=\"T_b343c4d8_2dc3_11ec_9946_d6cafbb1839brow10_col17\" class=\"data row10 col17\" >126</td>\n",
       "                        <td id=\"T_b343c4d8_2dc3_11ec_9946_d6cafbb1839brow10_col18\" class=\"data row10 col18\" >0</td>\n",
       "                        <td id=\"T_b343c4d8_2dc3_11ec_9946_d6cafbb1839brow10_col19\" class=\"data row10 col19\" >0</td>\n",
       "                        <td id=\"T_b343c4d8_2dc3_11ec_9946_d6cafbb1839brow10_col20\" class=\"data row10 col20\" >0</td>\n",
       "                        <td id=\"T_b343c4d8_2dc3_11ec_9946_d6cafbb1839brow10_col21\" class=\"data row10 col21\" >0</td>\n",
       "                        <td id=\"T_b343c4d8_2dc3_11ec_9946_d6cafbb1839brow10_col22\" class=\"data row10 col22\" >0</td>\n",
       "                        <td id=\"T_b343c4d8_2dc3_11ec_9946_d6cafbb1839brow10_col23\" class=\"data row10 col23\" >0</td>\n",
       "                        <td id=\"T_b343c4d8_2dc3_11ec_9946_d6cafbb1839brow10_col24\" class=\"data row10 col24\" >0</td>\n",
       "                        <td id=\"T_b343c4d8_2dc3_11ec_9946_d6cafbb1839brow10_col25\" class=\"data row10 col25\" >0</td>\n",
       "                        <td id=\"T_b343c4d8_2dc3_11ec_9946_d6cafbb1839brow10_col26\" class=\"data row10 col26\" >0</td>\n",
       "                        <td id=\"T_b343c4d8_2dc3_11ec_9946_d6cafbb1839brow10_col27\" class=\"data row10 col27\" >0</td>\n",
       "            </tr>\n",
       "            <tr>\n",
       "                        <th id=\"T_b343c4d8_2dc3_11ec_9946_d6cafbb1839blevel0_row11\" class=\"row_heading level0 row11\" >11</th>\n",
       "                        <td id=\"T_b343c4d8_2dc3_11ec_9946_d6cafbb1839brow11_col0\" class=\"data row11 col0\" >0</td>\n",
       "                        <td id=\"T_b343c4d8_2dc3_11ec_9946_d6cafbb1839brow11_col1\" class=\"data row11 col1\" >0</td>\n",
       "                        <td id=\"T_b343c4d8_2dc3_11ec_9946_d6cafbb1839brow11_col2\" class=\"data row11 col2\" >0</td>\n",
       "                        <td id=\"T_b343c4d8_2dc3_11ec_9946_d6cafbb1839brow11_col3\" class=\"data row11 col3\" >0</td>\n",
       "                        <td id=\"T_b343c4d8_2dc3_11ec_9946_d6cafbb1839brow11_col4\" class=\"data row11 col4\" >0</td>\n",
       "                        <td id=\"T_b343c4d8_2dc3_11ec_9946_d6cafbb1839brow11_col5\" class=\"data row11 col5\" >0</td>\n",
       "                        <td id=\"T_b343c4d8_2dc3_11ec_9946_d6cafbb1839brow11_col6\" class=\"data row11 col6\" >0</td>\n",
       "                        <td id=\"T_b343c4d8_2dc3_11ec_9946_d6cafbb1839brow11_col7\" class=\"data row11 col7\" >0</td>\n",
       "                        <td id=\"T_b343c4d8_2dc3_11ec_9946_d6cafbb1839brow11_col8\" class=\"data row11 col8\" >0</td>\n",
       "                        <td id=\"T_b343c4d8_2dc3_11ec_9946_d6cafbb1839brow11_col9\" class=\"data row11 col9\" >0</td>\n",
       "                        <td id=\"T_b343c4d8_2dc3_11ec_9946_d6cafbb1839brow11_col10\" class=\"data row11 col10\" >0</td>\n",
       "                        <td id=\"T_b343c4d8_2dc3_11ec_9946_d6cafbb1839brow11_col11\" class=\"data row11 col11\" >14</td>\n",
       "                        <td id=\"T_b343c4d8_2dc3_11ec_9946_d6cafbb1839brow11_col12\" class=\"data row11 col12\" >101</td>\n",
       "                        <td id=\"T_b343c4d8_2dc3_11ec_9946_d6cafbb1839brow11_col13\" class=\"data row11 col13\" >223</td>\n",
       "                        <td id=\"T_b343c4d8_2dc3_11ec_9946_d6cafbb1839brow11_col14\" class=\"data row11 col14\" >253</td>\n",
       "                        <td id=\"T_b343c4d8_2dc3_11ec_9946_d6cafbb1839brow11_col15\" class=\"data row11 col15\" >248</td>\n",
       "                        <td id=\"T_b343c4d8_2dc3_11ec_9946_d6cafbb1839brow11_col16\" class=\"data row11 col16\" >124</td>\n",
       "                        <td id=\"T_b343c4d8_2dc3_11ec_9946_d6cafbb1839brow11_col17\" class=\"data row11 col17\" >0</td>\n",
       "                        <td id=\"T_b343c4d8_2dc3_11ec_9946_d6cafbb1839brow11_col18\" class=\"data row11 col18\" >0</td>\n",
       "                        <td id=\"T_b343c4d8_2dc3_11ec_9946_d6cafbb1839brow11_col19\" class=\"data row11 col19\" >0</td>\n",
       "                        <td id=\"T_b343c4d8_2dc3_11ec_9946_d6cafbb1839brow11_col20\" class=\"data row11 col20\" >0</td>\n",
       "                        <td id=\"T_b343c4d8_2dc3_11ec_9946_d6cafbb1839brow11_col21\" class=\"data row11 col21\" >0</td>\n",
       "                        <td id=\"T_b343c4d8_2dc3_11ec_9946_d6cafbb1839brow11_col22\" class=\"data row11 col22\" >0</td>\n",
       "                        <td id=\"T_b343c4d8_2dc3_11ec_9946_d6cafbb1839brow11_col23\" class=\"data row11 col23\" >0</td>\n",
       "                        <td id=\"T_b343c4d8_2dc3_11ec_9946_d6cafbb1839brow11_col24\" class=\"data row11 col24\" >0</td>\n",
       "                        <td id=\"T_b343c4d8_2dc3_11ec_9946_d6cafbb1839brow11_col25\" class=\"data row11 col25\" >0</td>\n",
       "                        <td id=\"T_b343c4d8_2dc3_11ec_9946_d6cafbb1839brow11_col26\" class=\"data row11 col26\" >0</td>\n",
       "                        <td id=\"T_b343c4d8_2dc3_11ec_9946_d6cafbb1839brow11_col27\" class=\"data row11 col27\" >0</td>\n",
       "            </tr>\n",
       "            <tr>\n",
       "                        <th id=\"T_b343c4d8_2dc3_11ec_9946_d6cafbb1839blevel0_row12\" class=\"row_heading level0 row12\" >12</th>\n",
       "                        <td id=\"T_b343c4d8_2dc3_11ec_9946_d6cafbb1839brow12_col0\" class=\"data row12 col0\" >0</td>\n",
       "                        <td id=\"T_b343c4d8_2dc3_11ec_9946_d6cafbb1839brow12_col1\" class=\"data row12 col1\" >0</td>\n",
       "                        <td id=\"T_b343c4d8_2dc3_11ec_9946_d6cafbb1839brow12_col2\" class=\"data row12 col2\" >0</td>\n",
       "                        <td id=\"T_b343c4d8_2dc3_11ec_9946_d6cafbb1839brow12_col3\" class=\"data row12 col3\" >0</td>\n",
       "                        <td id=\"T_b343c4d8_2dc3_11ec_9946_d6cafbb1839brow12_col4\" class=\"data row12 col4\" >0</td>\n",
       "                        <td id=\"T_b343c4d8_2dc3_11ec_9946_d6cafbb1839brow12_col5\" class=\"data row12 col5\" >0</td>\n",
       "                        <td id=\"T_b343c4d8_2dc3_11ec_9946_d6cafbb1839brow12_col6\" class=\"data row12 col6\" >0</td>\n",
       "                        <td id=\"T_b343c4d8_2dc3_11ec_9946_d6cafbb1839brow12_col7\" class=\"data row12 col7\" >0</td>\n",
       "                        <td id=\"T_b343c4d8_2dc3_11ec_9946_d6cafbb1839brow12_col8\" class=\"data row12 col8\" >0</td>\n",
       "                        <td id=\"T_b343c4d8_2dc3_11ec_9946_d6cafbb1839brow12_col9\" class=\"data row12 col9\" >11</td>\n",
       "                        <td id=\"T_b343c4d8_2dc3_11ec_9946_d6cafbb1839brow12_col10\" class=\"data row12 col10\" >166</td>\n",
       "                        <td id=\"T_b343c4d8_2dc3_11ec_9946_d6cafbb1839brow12_col11\" class=\"data row12 col11\" >239</td>\n",
       "                        <td id=\"T_b343c4d8_2dc3_11ec_9946_d6cafbb1839brow12_col12\" class=\"data row12 col12\" >253</td>\n",
       "                        <td id=\"T_b343c4d8_2dc3_11ec_9946_d6cafbb1839brow12_col13\" class=\"data row12 col13\" >253</td>\n",
       "                        <td id=\"T_b343c4d8_2dc3_11ec_9946_d6cafbb1839brow12_col14\" class=\"data row12 col14\" >253</td>\n",
       "                        <td id=\"T_b343c4d8_2dc3_11ec_9946_d6cafbb1839brow12_col15\" class=\"data row12 col15\" >187</td>\n",
       "                        <td id=\"T_b343c4d8_2dc3_11ec_9946_d6cafbb1839brow12_col16\" class=\"data row12 col16\" >30</td>\n",
       "                        <td id=\"T_b343c4d8_2dc3_11ec_9946_d6cafbb1839brow12_col17\" class=\"data row12 col17\" >0</td>\n",
       "                        <td id=\"T_b343c4d8_2dc3_11ec_9946_d6cafbb1839brow12_col18\" class=\"data row12 col18\" >0</td>\n",
       "                        <td id=\"T_b343c4d8_2dc3_11ec_9946_d6cafbb1839brow12_col19\" class=\"data row12 col19\" >0</td>\n",
       "                        <td id=\"T_b343c4d8_2dc3_11ec_9946_d6cafbb1839brow12_col20\" class=\"data row12 col20\" >0</td>\n",
       "                        <td id=\"T_b343c4d8_2dc3_11ec_9946_d6cafbb1839brow12_col21\" class=\"data row12 col21\" >0</td>\n",
       "                        <td id=\"T_b343c4d8_2dc3_11ec_9946_d6cafbb1839brow12_col22\" class=\"data row12 col22\" >0</td>\n",
       "                        <td id=\"T_b343c4d8_2dc3_11ec_9946_d6cafbb1839brow12_col23\" class=\"data row12 col23\" >0</td>\n",
       "                        <td id=\"T_b343c4d8_2dc3_11ec_9946_d6cafbb1839brow12_col24\" class=\"data row12 col24\" >0</td>\n",
       "                        <td id=\"T_b343c4d8_2dc3_11ec_9946_d6cafbb1839brow12_col25\" class=\"data row12 col25\" >0</td>\n",
       "                        <td id=\"T_b343c4d8_2dc3_11ec_9946_d6cafbb1839brow12_col26\" class=\"data row12 col26\" >0</td>\n",
       "                        <td id=\"T_b343c4d8_2dc3_11ec_9946_d6cafbb1839brow12_col27\" class=\"data row12 col27\" >0</td>\n",
       "            </tr>\n",
       "            <tr>\n",
       "                        <th id=\"T_b343c4d8_2dc3_11ec_9946_d6cafbb1839blevel0_row13\" class=\"row_heading level0 row13\" >13</th>\n",
       "                        <td id=\"T_b343c4d8_2dc3_11ec_9946_d6cafbb1839brow13_col0\" class=\"data row13 col0\" >0</td>\n",
       "                        <td id=\"T_b343c4d8_2dc3_11ec_9946_d6cafbb1839brow13_col1\" class=\"data row13 col1\" >0</td>\n",
       "                        <td id=\"T_b343c4d8_2dc3_11ec_9946_d6cafbb1839brow13_col2\" class=\"data row13 col2\" >0</td>\n",
       "                        <td id=\"T_b343c4d8_2dc3_11ec_9946_d6cafbb1839brow13_col3\" class=\"data row13 col3\" >0</td>\n",
       "                        <td id=\"T_b343c4d8_2dc3_11ec_9946_d6cafbb1839brow13_col4\" class=\"data row13 col4\" >0</td>\n",
       "                        <td id=\"T_b343c4d8_2dc3_11ec_9946_d6cafbb1839brow13_col5\" class=\"data row13 col5\" >0</td>\n",
       "                        <td id=\"T_b343c4d8_2dc3_11ec_9946_d6cafbb1839brow13_col6\" class=\"data row13 col6\" >0</td>\n",
       "                        <td id=\"T_b343c4d8_2dc3_11ec_9946_d6cafbb1839brow13_col7\" class=\"data row13 col7\" >0</td>\n",
       "                        <td id=\"T_b343c4d8_2dc3_11ec_9946_d6cafbb1839brow13_col8\" class=\"data row13 col8\" >0</td>\n",
       "                        <td id=\"T_b343c4d8_2dc3_11ec_9946_d6cafbb1839brow13_col9\" class=\"data row13 col9\" >16</td>\n",
       "                        <td id=\"T_b343c4d8_2dc3_11ec_9946_d6cafbb1839brow13_col10\" class=\"data row13 col10\" >248</td>\n",
       "                        <td id=\"T_b343c4d8_2dc3_11ec_9946_d6cafbb1839brow13_col11\" class=\"data row13 col11\" >250</td>\n",
       "                        <td id=\"T_b343c4d8_2dc3_11ec_9946_d6cafbb1839brow13_col12\" class=\"data row13 col12\" >253</td>\n",
       "                        <td id=\"T_b343c4d8_2dc3_11ec_9946_d6cafbb1839brow13_col13\" class=\"data row13 col13\" >253</td>\n",
       "                        <td id=\"T_b343c4d8_2dc3_11ec_9946_d6cafbb1839brow13_col14\" class=\"data row13 col14\" >253</td>\n",
       "                        <td id=\"T_b343c4d8_2dc3_11ec_9946_d6cafbb1839brow13_col15\" class=\"data row13 col15\" >253</td>\n",
       "                        <td id=\"T_b343c4d8_2dc3_11ec_9946_d6cafbb1839brow13_col16\" class=\"data row13 col16\" >232</td>\n",
       "                        <td id=\"T_b343c4d8_2dc3_11ec_9946_d6cafbb1839brow13_col17\" class=\"data row13 col17\" >213</td>\n",
       "                        <td id=\"T_b343c4d8_2dc3_11ec_9946_d6cafbb1839brow13_col18\" class=\"data row13 col18\" >111</td>\n",
       "                        <td id=\"T_b343c4d8_2dc3_11ec_9946_d6cafbb1839brow13_col19\" class=\"data row13 col19\" >2</td>\n",
       "                        <td id=\"T_b343c4d8_2dc3_11ec_9946_d6cafbb1839brow13_col20\" class=\"data row13 col20\" >0</td>\n",
       "                        <td id=\"T_b343c4d8_2dc3_11ec_9946_d6cafbb1839brow13_col21\" class=\"data row13 col21\" >0</td>\n",
       "                        <td id=\"T_b343c4d8_2dc3_11ec_9946_d6cafbb1839brow13_col22\" class=\"data row13 col22\" >0</td>\n",
       "                        <td id=\"T_b343c4d8_2dc3_11ec_9946_d6cafbb1839brow13_col23\" class=\"data row13 col23\" >0</td>\n",
       "                        <td id=\"T_b343c4d8_2dc3_11ec_9946_d6cafbb1839brow13_col24\" class=\"data row13 col24\" >0</td>\n",
       "                        <td id=\"T_b343c4d8_2dc3_11ec_9946_d6cafbb1839brow13_col25\" class=\"data row13 col25\" >0</td>\n",
       "                        <td id=\"T_b343c4d8_2dc3_11ec_9946_d6cafbb1839brow13_col26\" class=\"data row13 col26\" >0</td>\n",
       "                        <td id=\"T_b343c4d8_2dc3_11ec_9946_d6cafbb1839brow13_col27\" class=\"data row13 col27\" >0</td>\n",
       "            </tr>\n",
       "            <tr>\n",
       "                        <th id=\"T_b343c4d8_2dc3_11ec_9946_d6cafbb1839blevel0_row14\" class=\"row_heading level0 row14\" >14</th>\n",
       "                        <td id=\"T_b343c4d8_2dc3_11ec_9946_d6cafbb1839brow14_col0\" class=\"data row14 col0\" >0</td>\n",
       "                        <td id=\"T_b343c4d8_2dc3_11ec_9946_d6cafbb1839brow14_col1\" class=\"data row14 col1\" >0</td>\n",
       "                        <td id=\"T_b343c4d8_2dc3_11ec_9946_d6cafbb1839brow14_col2\" class=\"data row14 col2\" >0</td>\n",
       "                        <td id=\"T_b343c4d8_2dc3_11ec_9946_d6cafbb1839brow14_col3\" class=\"data row14 col3\" >0</td>\n",
       "                        <td id=\"T_b343c4d8_2dc3_11ec_9946_d6cafbb1839brow14_col4\" class=\"data row14 col4\" >0</td>\n",
       "                        <td id=\"T_b343c4d8_2dc3_11ec_9946_d6cafbb1839brow14_col5\" class=\"data row14 col5\" >0</td>\n",
       "                        <td id=\"T_b343c4d8_2dc3_11ec_9946_d6cafbb1839brow14_col6\" class=\"data row14 col6\" >0</td>\n",
       "                        <td id=\"T_b343c4d8_2dc3_11ec_9946_d6cafbb1839brow14_col7\" class=\"data row14 col7\" >0</td>\n",
       "                        <td id=\"T_b343c4d8_2dc3_11ec_9946_d6cafbb1839brow14_col8\" class=\"data row14 col8\" >0</td>\n",
       "                        <td id=\"T_b343c4d8_2dc3_11ec_9946_d6cafbb1839brow14_col9\" class=\"data row14 col9\" >0</td>\n",
       "                        <td id=\"T_b343c4d8_2dc3_11ec_9946_d6cafbb1839brow14_col10\" class=\"data row14 col10\" >0</td>\n",
       "                        <td id=\"T_b343c4d8_2dc3_11ec_9946_d6cafbb1839brow14_col11\" class=\"data row14 col11\" >43</td>\n",
       "                        <td id=\"T_b343c4d8_2dc3_11ec_9946_d6cafbb1839brow14_col12\" class=\"data row14 col12\" >98</td>\n",
       "                        <td id=\"T_b343c4d8_2dc3_11ec_9946_d6cafbb1839brow14_col13\" class=\"data row14 col13\" >98</td>\n",
       "                        <td id=\"T_b343c4d8_2dc3_11ec_9946_d6cafbb1839brow14_col14\" class=\"data row14 col14\" >208</td>\n",
       "                        <td id=\"T_b343c4d8_2dc3_11ec_9946_d6cafbb1839brow14_col15\" class=\"data row14 col15\" >253</td>\n",
       "                        <td id=\"T_b343c4d8_2dc3_11ec_9946_d6cafbb1839brow14_col16\" class=\"data row14 col16\" >253</td>\n",
       "                        <td id=\"T_b343c4d8_2dc3_11ec_9946_d6cafbb1839brow14_col17\" class=\"data row14 col17\" >253</td>\n",
       "                        <td id=\"T_b343c4d8_2dc3_11ec_9946_d6cafbb1839brow14_col18\" class=\"data row14 col18\" >253</td>\n",
       "                        <td id=\"T_b343c4d8_2dc3_11ec_9946_d6cafbb1839brow14_col19\" class=\"data row14 col19\" >187</td>\n",
       "                        <td id=\"T_b343c4d8_2dc3_11ec_9946_d6cafbb1839brow14_col20\" class=\"data row14 col20\" >22</td>\n",
       "                        <td id=\"T_b343c4d8_2dc3_11ec_9946_d6cafbb1839brow14_col21\" class=\"data row14 col21\" >0</td>\n",
       "                        <td id=\"T_b343c4d8_2dc3_11ec_9946_d6cafbb1839brow14_col22\" class=\"data row14 col22\" >0</td>\n",
       "                        <td id=\"T_b343c4d8_2dc3_11ec_9946_d6cafbb1839brow14_col23\" class=\"data row14 col23\" >0</td>\n",
       "                        <td id=\"T_b343c4d8_2dc3_11ec_9946_d6cafbb1839brow14_col24\" class=\"data row14 col24\" >0</td>\n",
       "                        <td id=\"T_b343c4d8_2dc3_11ec_9946_d6cafbb1839brow14_col25\" class=\"data row14 col25\" >0</td>\n",
       "                        <td id=\"T_b343c4d8_2dc3_11ec_9946_d6cafbb1839brow14_col26\" class=\"data row14 col26\" >0</td>\n",
       "                        <td id=\"T_b343c4d8_2dc3_11ec_9946_d6cafbb1839brow14_col27\" class=\"data row14 col27\" >0</td>\n",
       "            </tr>\n",
       "            <tr>\n",
       "                        <th id=\"T_b343c4d8_2dc3_11ec_9946_d6cafbb1839blevel0_row15\" class=\"row_heading level0 row15\" >15</th>\n",
       "                        <td id=\"T_b343c4d8_2dc3_11ec_9946_d6cafbb1839brow15_col0\" class=\"data row15 col0\" >0</td>\n",
       "                        <td id=\"T_b343c4d8_2dc3_11ec_9946_d6cafbb1839brow15_col1\" class=\"data row15 col1\" >0</td>\n",
       "                        <td id=\"T_b343c4d8_2dc3_11ec_9946_d6cafbb1839brow15_col2\" class=\"data row15 col2\" >0</td>\n",
       "                        <td id=\"T_b343c4d8_2dc3_11ec_9946_d6cafbb1839brow15_col3\" class=\"data row15 col3\" >0</td>\n",
       "                        <td id=\"T_b343c4d8_2dc3_11ec_9946_d6cafbb1839brow15_col4\" class=\"data row15 col4\" >0</td>\n",
       "                        <td id=\"T_b343c4d8_2dc3_11ec_9946_d6cafbb1839brow15_col5\" class=\"data row15 col5\" >0</td>\n",
       "                        <td id=\"T_b343c4d8_2dc3_11ec_9946_d6cafbb1839brow15_col6\" class=\"data row15 col6\" >0</td>\n",
       "                        <td id=\"T_b343c4d8_2dc3_11ec_9946_d6cafbb1839brow15_col7\" class=\"data row15 col7\" >0</td>\n",
       "                        <td id=\"T_b343c4d8_2dc3_11ec_9946_d6cafbb1839brow15_col8\" class=\"data row15 col8\" >0</td>\n",
       "                        <td id=\"T_b343c4d8_2dc3_11ec_9946_d6cafbb1839brow15_col9\" class=\"data row15 col9\" >0</td>\n",
       "                        <td id=\"T_b343c4d8_2dc3_11ec_9946_d6cafbb1839brow15_col10\" class=\"data row15 col10\" >0</td>\n",
       "                        <td id=\"T_b343c4d8_2dc3_11ec_9946_d6cafbb1839brow15_col11\" class=\"data row15 col11\" >0</td>\n",
       "                        <td id=\"T_b343c4d8_2dc3_11ec_9946_d6cafbb1839brow15_col12\" class=\"data row15 col12\" >0</td>\n",
       "                        <td id=\"T_b343c4d8_2dc3_11ec_9946_d6cafbb1839brow15_col13\" class=\"data row15 col13\" >0</td>\n",
       "                        <td id=\"T_b343c4d8_2dc3_11ec_9946_d6cafbb1839brow15_col14\" class=\"data row15 col14\" >9</td>\n",
       "                        <td id=\"T_b343c4d8_2dc3_11ec_9946_d6cafbb1839brow15_col15\" class=\"data row15 col15\" >51</td>\n",
       "                        <td id=\"T_b343c4d8_2dc3_11ec_9946_d6cafbb1839brow15_col16\" class=\"data row15 col16\" >119</td>\n",
       "                        <td id=\"T_b343c4d8_2dc3_11ec_9946_d6cafbb1839brow15_col17\" class=\"data row15 col17\" >253</td>\n",
       "                        <td id=\"T_b343c4d8_2dc3_11ec_9946_d6cafbb1839brow15_col18\" class=\"data row15 col18\" >253</td>\n",
       "                        <td id=\"T_b343c4d8_2dc3_11ec_9946_d6cafbb1839brow15_col19\" class=\"data row15 col19\" >253</td>\n",
       "                        <td id=\"T_b343c4d8_2dc3_11ec_9946_d6cafbb1839brow15_col20\" class=\"data row15 col20\" >76</td>\n",
       "                        <td id=\"T_b343c4d8_2dc3_11ec_9946_d6cafbb1839brow15_col21\" class=\"data row15 col21\" >0</td>\n",
       "                        <td id=\"T_b343c4d8_2dc3_11ec_9946_d6cafbb1839brow15_col22\" class=\"data row15 col22\" >0</td>\n",
       "                        <td id=\"T_b343c4d8_2dc3_11ec_9946_d6cafbb1839brow15_col23\" class=\"data row15 col23\" >0</td>\n",
       "                        <td id=\"T_b343c4d8_2dc3_11ec_9946_d6cafbb1839brow15_col24\" class=\"data row15 col24\" >0</td>\n",
       "                        <td id=\"T_b343c4d8_2dc3_11ec_9946_d6cafbb1839brow15_col25\" class=\"data row15 col25\" >0</td>\n",
       "                        <td id=\"T_b343c4d8_2dc3_11ec_9946_d6cafbb1839brow15_col26\" class=\"data row15 col26\" >0</td>\n",
       "                        <td id=\"T_b343c4d8_2dc3_11ec_9946_d6cafbb1839brow15_col27\" class=\"data row15 col27\" >0</td>\n",
       "            </tr>\n",
       "            <tr>\n",
       "                        <th id=\"T_b343c4d8_2dc3_11ec_9946_d6cafbb1839blevel0_row16\" class=\"row_heading level0 row16\" >16</th>\n",
       "                        <td id=\"T_b343c4d8_2dc3_11ec_9946_d6cafbb1839brow16_col0\" class=\"data row16 col0\" >0</td>\n",
       "                        <td id=\"T_b343c4d8_2dc3_11ec_9946_d6cafbb1839brow16_col1\" class=\"data row16 col1\" >0</td>\n",
       "                        <td id=\"T_b343c4d8_2dc3_11ec_9946_d6cafbb1839brow16_col2\" class=\"data row16 col2\" >0</td>\n",
       "                        <td id=\"T_b343c4d8_2dc3_11ec_9946_d6cafbb1839brow16_col3\" class=\"data row16 col3\" >0</td>\n",
       "                        <td id=\"T_b343c4d8_2dc3_11ec_9946_d6cafbb1839brow16_col4\" class=\"data row16 col4\" >0</td>\n",
       "                        <td id=\"T_b343c4d8_2dc3_11ec_9946_d6cafbb1839brow16_col5\" class=\"data row16 col5\" >0</td>\n",
       "                        <td id=\"T_b343c4d8_2dc3_11ec_9946_d6cafbb1839brow16_col6\" class=\"data row16 col6\" >0</td>\n",
       "                        <td id=\"T_b343c4d8_2dc3_11ec_9946_d6cafbb1839brow16_col7\" class=\"data row16 col7\" >0</td>\n",
       "                        <td id=\"T_b343c4d8_2dc3_11ec_9946_d6cafbb1839brow16_col8\" class=\"data row16 col8\" >0</td>\n",
       "                        <td id=\"T_b343c4d8_2dc3_11ec_9946_d6cafbb1839brow16_col9\" class=\"data row16 col9\" >0</td>\n",
       "                        <td id=\"T_b343c4d8_2dc3_11ec_9946_d6cafbb1839brow16_col10\" class=\"data row16 col10\" >0</td>\n",
       "                        <td id=\"T_b343c4d8_2dc3_11ec_9946_d6cafbb1839brow16_col11\" class=\"data row16 col11\" >0</td>\n",
       "                        <td id=\"T_b343c4d8_2dc3_11ec_9946_d6cafbb1839brow16_col12\" class=\"data row16 col12\" >0</td>\n",
       "                        <td id=\"T_b343c4d8_2dc3_11ec_9946_d6cafbb1839brow16_col13\" class=\"data row16 col13\" >0</td>\n",
       "                        <td id=\"T_b343c4d8_2dc3_11ec_9946_d6cafbb1839brow16_col14\" class=\"data row16 col14\" >0</td>\n",
       "                        <td id=\"T_b343c4d8_2dc3_11ec_9946_d6cafbb1839brow16_col15\" class=\"data row16 col15\" >0</td>\n",
       "                        <td id=\"T_b343c4d8_2dc3_11ec_9946_d6cafbb1839brow16_col16\" class=\"data row16 col16\" >1</td>\n",
       "                        <td id=\"T_b343c4d8_2dc3_11ec_9946_d6cafbb1839brow16_col17\" class=\"data row16 col17\" >183</td>\n",
       "                        <td id=\"T_b343c4d8_2dc3_11ec_9946_d6cafbb1839brow16_col18\" class=\"data row16 col18\" >253</td>\n",
       "                        <td id=\"T_b343c4d8_2dc3_11ec_9946_d6cafbb1839brow16_col19\" class=\"data row16 col19\" >253</td>\n",
       "                        <td id=\"T_b343c4d8_2dc3_11ec_9946_d6cafbb1839brow16_col20\" class=\"data row16 col20\" >139</td>\n",
       "                        <td id=\"T_b343c4d8_2dc3_11ec_9946_d6cafbb1839brow16_col21\" class=\"data row16 col21\" >0</td>\n",
       "                        <td id=\"T_b343c4d8_2dc3_11ec_9946_d6cafbb1839brow16_col22\" class=\"data row16 col22\" >0</td>\n",
       "                        <td id=\"T_b343c4d8_2dc3_11ec_9946_d6cafbb1839brow16_col23\" class=\"data row16 col23\" >0</td>\n",
       "                        <td id=\"T_b343c4d8_2dc3_11ec_9946_d6cafbb1839brow16_col24\" class=\"data row16 col24\" >0</td>\n",
       "                        <td id=\"T_b343c4d8_2dc3_11ec_9946_d6cafbb1839brow16_col25\" class=\"data row16 col25\" >0</td>\n",
       "                        <td id=\"T_b343c4d8_2dc3_11ec_9946_d6cafbb1839brow16_col26\" class=\"data row16 col26\" >0</td>\n",
       "                        <td id=\"T_b343c4d8_2dc3_11ec_9946_d6cafbb1839brow16_col27\" class=\"data row16 col27\" >0</td>\n",
       "            </tr>\n",
       "            <tr>\n",
       "                        <th id=\"T_b343c4d8_2dc3_11ec_9946_d6cafbb1839blevel0_row17\" class=\"row_heading level0 row17\" >17</th>\n",
       "                        <td id=\"T_b343c4d8_2dc3_11ec_9946_d6cafbb1839brow17_col0\" class=\"data row17 col0\" >0</td>\n",
       "                        <td id=\"T_b343c4d8_2dc3_11ec_9946_d6cafbb1839brow17_col1\" class=\"data row17 col1\" >0</td>\n",
       "                        <td id=\"T_b343c4d8_2dc3_11ec_9946_d6cafbb1839brow17_col2\" class=\"data row17 col2\" >0</td>\n",
       "                        <td id=\"T_b343c4d8_2dc3_11ec_9946_d6cafbb1839brow17_col3\" class=\"data row17 col3\" >0</td>\n",
       "                        <td id=\"T_b343c4d8_2dc3_11ec_9946_d6cafbb1839brow17_col4\" class=\"data row17 col4\" >0</td>\n",
       "                        <td id=\"T_b343c4d8_2dc3_11ec_9946_d6cafbb1839brow17_col5\" class=\"data row17 col5\" >0</td>\n",
       "                        <td id=\"T_b343c4d8_2dc3_11ec_9946_d6cafbb1839brow17_col6\" class=\"data row17 col6\" >0</td>\n",
       "                        <td id=\"T_b343c4d8_2dc3_11ec_9946_d6cafbb1839brow17_col7\" class=\"data row17 col7\" >0</td>\n",
       "                        <td id=\"T_b343c4d8_2dc3_11ec_9946_d6cafbb1839brow17_col8\" class=\"data row17 col8\" >0</td>\n",
       "                        <td id=\"T_b343c4d8_2dc3_11ec_9946_d6cafbb1839brow17_col9\" class=\"data row17 col9\" >0</td>\n",
       "                        <td id=\"T_b343c4d8_2dc3_11ec_9946_d6cafbb1839brow17_col10\" class=\"data row17 col10\" >0</td>\n",
       "                        <td id=\"T_b343c4d8_2dc3_11ec_9946_d6cafbb1839brow17_col11\" class=\"data row17 col11\" >0</td>\n",
       "                        <td id=\"T_b343c4d8_2dc3_11ec_9946_d6cafbb1839brow17_col12\" class=\"data row17 col12\" >0</td>\n",
       "                        <td id=\"T_b343c4d8_2dc3_11ec_9946_d6cafbb1839brow17_col13\" class=\"data row17 col13\" >0</td>\n",
       "                        <td id=\"T_b343c4d8_2dc3_11ec_9946_d6cafbb1839brow17_col14\" class=\"data row17 col14\" >0</td>\n",
       "                        <td id=\"T_b343c4d8_2dc3_11ec_9946_d6cafbb1839brow17_col15\" class=\"data row17 col15\" >0</td>\n",
       "                        <td id=\"T_b343c4d8_2dc3_11ec_9946_d6cafbb1839brow17_col16\" class=\"data row17 col16\" >0</td>\n",
       "                        <td id=\"T_b343c4d8_2dc3_11ec_9946_d6cafbb1839brow17_col17\" class=\"data row17 col17\" >182</td>\n",
       "                        <td id=\"T_b343c4d8_2dc3_11ec_9946_d6cafbb1839brow17_col18\" class=\"data row17 col18\" >253</td>\n",
       "                        <td id=\"T_b343c4d8_2dc3_11ec_9946_d6cafbb1839brow17_col19\" class=\"data row17 col19\" >253</td>\n",
       "                        <td id=\"T_b343c4d8_2dc3_11ec_9946_d6cafbb1839brow17_col20\" class=\"data row17 col20\" >104</td>\n",
       "                        <td id=\"T_b343c4d8_2dc3_11ec_9946_d6cafbb1839brow17_col21\" class=\"data row17 col21\" >0</td>\n",
       "                        <td id=\"T_b343c4d8_2dc3_11ec_9946_d6cafbb1839brow17_col22\" class=\"data row17 col22\" >0</td>\n",
       "                        <td id=\"T_b343c4d8_2dc3_11ec_9946_d6cafbb1839brow17_col23\" class=\"data row17 col23\" >0</td>\n",
       "                        <td id=\"T_b343c4d8_2dc3_11ec_9946_d6cafbb1839brow17_col24\" class=\"data row17 col24\" >0</td>\n",
       "                        <td id=\"T_b343c4d8_2dc3_11ec_9946_d6cafbb1839brow17_col25\" class=\"data row17 col25\" >0</td>\n",
       "                        <td id=\"T_b343c4d8_2dc3_11ec_9946_d6cafbb1839brow17_col26\" class=\"data row17 col26\" >0</td>\n",
       "                        <td id=\"T_b343c4d8_2dc3_11ec_9946_d6cafbb1839brow17_col27\" class=\"data row17 col27\" >0</td>\n",
       "            </tr>\n",
       "            <tr>\n",
       "                        <th id=\"T_b343c4d8_2dc3_11ec_9946_d6cafbb1839blevel0_row18\" class=\"row_heading level0 row18\" >18</th>\n",
       "                        <td id=\"T_b343c4d8_2dc3_11ec_9946_d6cafbb1839brow18_col0\" class=\"data row18 col0\" >0</td>\n",
       "                        <td id=\"T_b343c4d8_2dc3_11ec_9946_d6cafbb1839brow18_col1\" class=\"data row18 col1\" >0</td>\n",
       "                        <td id=\"T_b343c4d8_2dc3_11ec_9946_d6cafbb1839brow18_col2\" class=\"data row18 col2\" >0</td>\n",
       "                        <td id=\"T_b343c4d8_2dc3_11ec_9946_d6cafbb1839brow18_col3\" class=\"data row18 col3\" >0</td>\n",
       "                        <td id=\"T_b343c4d8_2dc3_11ec_9946_d6cafbb1839brow18_col4\" class=\"data row18 col4\" >0</td>\n",
       "                        <td id=\"T_b343c4d8_2dc3_11ec_9946_d6cafbb1839brow18_col5\" class=\"data row18 col5\" >0</td>\n",
       "                        <td id=\"T_b343c4d8_2dc3_11ec_9946_d6cafbb1839brow18_col6\" class=\"data row18 col6\" >0</td>\n",
       "                        <td id=\"T_b343c4d8_2dc3_11ec_9946_d6cafbb1839brow18_col7\" class=\"data row18 col7\" >0</td>\n",
       "                        <td id=\"T_b343c4d8_2dc3_11ec_9946_d6cafbb1839brow18_col8\" class=\"data row18 col8\" >0</td>\n",
       "                        <td id=\"T_b343c4d8_2dc3_11ec_9946_d6cafbb1839brow18_col9\" class=\"data row18 col9\" >0</td>\n",
       "                        <td id=\"T_b343c4d8_2dc3_11ec_9946_d6cafbb1839brow18_col10\" class=\"data row18 col10\" >0</td>\n",
       "                        <td id=\"T_b343c4d8_2dc3_11ec_9946_d6cafbb1839brow18_col11\" class=\"data row18 col11\" >0</td>\n",
       "                        <td id=\"T_b343c4d8_2dc3_11ec_9946_d6cafbb1839brow18_col12\" class=\"data row18 col12\" >0</td>\n",
       "                        <td id=\"T_b343c4d8_2dc3_11ec_9946_d6cafbb1839brow18_col13\" class=\"data row18 col13\" >0</td>\n",
       "                        <td id=\"T_b343c4d8_2dc3_11ec_9946_d6cafbb1839brow18_col14\" class=\"data row18 col14\" >0</td>\n",
       "                        <td id=\"T_b343c4d8_2dc3_11ec_9946_d6cafbb1839brow18_col15\" class=\"data row18 col15\" >0</td>\n",
       "                        <td id=\"T_b343c4d8_2dc3_11ec_9946_d6cafbb1839brow18_col16\" class=\"data row18 col16\" >85</td>\n",
       "                        <td id=\"T_b343c4d8_2dc3_11ec_9946_d6cafbb1839brow18_col17\" class=\"data row18 col17\" >249</td>\n",
       "                        <td id=\"T_b343c4d8_2dc3_11ec_9946_d6cafbb1839brow18_col18\" class=\"data row18 col18\" >253</td>\n",
       "                        <td id=\"T_b343c4d8_2dc3_11ec_9946_d6cafbb1839brow18_col19\" class=\"data row18 col19\" >253</td>\n",
       "                        <td id=\"T_b343c4d8_2dc3_11ec_9946_d6cafbb1839brow18_col20\" class=\"data row18 col20\" >36</td>\n",
       "                        <td id=\"T_b343c4d8_2dc3_11ec_9946_d6cafbb1839brow18_col21\" class=\"data row18 col21\" >0</td>\n",
       "                        <td id=\"T_b343c4d8_2dc3_11ec_9946_d6cafbb1839brow18_col22\" class=\"data row18 col22\" >0</td>\n",
       "                        <td id=\"T_b343c4d8_2dc3_11ec_9946_d6cafbb1839brow18_col23\" class=\"data row18 col23\" >0</td>\n",
       "                        <td id=\"T_b343c4d8_2dc3_11ec_9946_d6cafbb1839brow18_col24\" class=\"data row18 col24\" >0</td>\n",
       "                        <td id=\"T_b343c4d8_2dc3_11ec_9946_d6cafbb1839brow18_col25\" class=\"data row18 col25\" >0</td>\n",
       "                        <td id=\"T_b343c4d8_2dc3_11ec_9946_d6cafbb1839brow18_col26\" class=\"data row18 col26\" >0</td>\n",
       "                        <td id=\"T_b343c4d8_2dc3_11ec_9946_d6cafbb1839brow18_col27\" class=\"data row18 col27\" >0</td>\n",
       "            </tr>\n",
       "            <tr>\n",
       "                        <th id=\"T_b343c4d8_2dc3_11ec_9946_d6cafbb1839blevel0_row19\" class=\"row_heading level0 row19\" >19</th>\n",
       "                        <td id=\"T_b343c4d8_2dc3_11ec_9946_d6cafbb1839brow19_col0\" class=\"data row19 col0\" >0</td>\n",
       "                        <td id=\"T_b343c4d8_2dc3_11ec_9946_d6cafbb1839brow19_col1\" class=\"data row19 col1\" >0</td>\n",
       "                        <td id=\"T_b343c4d8_2dc3_11ec_9946_d6cafbb1839brow19_col2\" class=\"data row19 col2\" >0</td>\n",
       "                        <td id=\"T_b343c4d8_2dc3_11ec_9946_d6cafbb1839brow19_col3\" class=\"data row19 col3\" >0</td>\n",
       "                        <td id=\"T_b343c4d8_2dc3_11ec_9946_d6cafbb1839brow19_col4\" class=\"data row19 col4\" >0</td>\n",
       "                        <td id=\"T_b343c4d8_2dc3_11ec_9946_d6cafbb1839brow19_col5\" class=\"data row19 col5\" >0</td>\n",
       "                        <td id=\"T_b343c4d8_2dc3_11ec_9946_d6cafbb1839brow19_col6\" class=\"data row19 col6\" >0</td>\n",
       "                        <td id=\"T_b343c4d8_2dc3_11ec_9946_d6cafbb1839brow19_col7\" class=\"data row19 col7\" >0</td>\n",
       "                        <td id=\"T_b343c4d8_2dc3_11ec_9946_d6cafbb1839brow19_col8\" class=\"data row19 col8\" >0</td>\n",
       "                        <td id=\"T_b343c4d8_2dc3_11ec_9946_d6cafbb1839brow19_col9\" class=\"data row19 col9\" >0</td>\n",
       "                        <td id=\"T_b343c4d8_2dc3_11ec_9946_d6cafbb1839brow19_col10\" class=\"data row19 col10\" >0</td>\n",
       "                        <td id=\"T_b343c4d8_2dc3_11ec_9946_d6cafbb1839brow19_col11\" class=\"data row19 col11\" >0</td>\n",
       "                        <td id=\"T_b343c4d8_2dc3_11ec_9946_d6cafbb1839brow19_col12\" class=\"data row19 col12\" >0</td>\n",
       "                        <td id=\"T_b343c4d8_2dc3_11ec_9946_d6cafbb1839brow19_col13\" class=\"data row19 col13\" >0</td>\n",
       "                        <td id=\"T_b343c4d8_2dc3_11ec_9946_d6cafbb1839brow19_col14\" class=\"data row19 col14\" >0</td>\n",
       "                        <td id=\"T_b343c4d8_2dc3_11ec_9946_d6cafbb1839brow19_col15\" class=\"data row19 col15\" >60</td>\n",
       "                        <td id=\"T_b343c4d8_2dc3_11ec_9946_d6cafbb1839brow19_col16\" class=\"data row19 col16\" >214</td>\n",
       "                        <td id=\"T_b343c4d8_2dc3_11ec_9946_d6cafbb1839brow19_col17\" class=\"data row19 col17\" >253</td>\n",
       "                        <td id=\"T_b343c4d8_2dc3_11ec_9946_d6cafbb1839brow19_col18\" class=\"data row19 col18\" >253</td>\n",
       "                        <td id=\"T_b343c4d8_2dc3_11ec_9946_d6cafbb1839brow19_col19\" class=\"data row19 col19\" >173</td>\n",
       "                        <td id=\"T_b343c4d8_2dc3_11ec_9946_d6cafbb1839brow19_col20\" class=\"data row19 col20\" >11</td>\n",
       "                        <td id=\"T_b343c4d8_2dc3_11ec_9946_d6cafbb1839brow19_col21\" class=\"data row19 col21\" >0</td>\n",
       "                        <td id=\"T_b343c4d8_2dc3_11ec_9946_d6cafbb1839brow19_col22\" class=\"data row19 col22\" >0</td>\n",
       "                        <td id=\"T_b343c4d8_2dc3_11ec_9946_d6cafbb1839brow19_col23\" class=\"data row19 col23\" >0</td>\n",
       "                        <td id=\"T_b343c4d8_2dc3_11ec_9946_d6cafbb1839brow19_col24\" class=\"data row19 col24\" >0</td>\n",
       "                        <td id=\"T_b343c4d8_2dc3_11ec_9946_d6cafbb1839brow19_col25\" class=\"data row19 col25\" >0</td>\n",
       "                        <td id=\"T_b343c4d8_2dc3_11ec_9946_d6cafbb1839brow19_col26\" class=\"data row19 col26\" >0</td>\n",
       "                        <td id=\"T_b343c4d8_2dc3_11ec_9946_d6cafbb1839brow19_col27\" class=\"data row19 col27\" >0</td>\n",
       "            </tr>\n",
       "            <tr>\n",
       "                        <th id=\"T_b343c4d8_2dc3_11ec_9946_d6cafbb1839blevel0_row20\" class=\"row_heading level0 row20\" >20</th>\n",
       "                        <td id=\"T_b343c4d8_2dc3_11ec_9946_d6cafbb1839brow20_col0\" class=\"data row20 col0\" >0</td>\n",
       "                        <td id=\"T_b343c4d8_2dc3_11ec_9946_d6cafbb1839brow20_col1\" class=\"data row20 col1\" >0</td>\n",
       "                        <td id=\"T_b343c4d8_2dc3_11ec_9946_d6cafbb1839brow20_col2\" class=\"data row20 col2\" >0</td>\n",
       "                        <td id=\"T_b343c4d8_2dc3_11ec_9946_d6cafbb1839brow20_col3\" class=\"data row20 col3\" >0</td>\n",
       "                        <td id=\"T_b343c4d8_2dc3_11ec_9946_d6cafbb1839brow20_col4\" class=\"data row20 col4\" >0</td>\n",
       "                        <td id=\"T_b343c4d8_2dc3_11ec_9946_d6cafbb1839brow20_col5\" class=\"data row20 col5\" >0</td>\n",
       "                        <td id=\"T_b343c4d8_2dc3_11ec_9946_d6cafbb1839brow20_col6\" class=\"data row20 col6\" >0</td>\n",
       "                        <td id=\"T_b343c4d8_2dc3_11ec_9946_d6cafbb1839brow20_col7\" class=\"data row20 col7\" >0</td>\n",
       "                        <td id=\"T_b343c4d8_2dc3_11ec_9946_d6cafbb1839brow20_col8\" class=\"data row20 col8\" >0</td>\n",
       "                        <td id=\"T_b343c4d8_2dc3_11ec_9946_d6cafbb1839brow20_col9\" class=\"data row20 col9\" >0</td>\n",
       "                        <td id=\"T_b343c4d8_2dc3_11ec_9946_d6cafbb1839brow20_col10\" class=\"data row20 col10\" >0</td>\n",
       "                        <td id=\"T_b343c4d8_2dc3_11ec_9946_d6cafbb1839brow20_col11\" class=\"data row20 col11\" >0</td>\n",
       "                        <td id=\"T_b343c4d8_2dc3_11ec_9946_d6cafbb1839brow20_col12\" class=\"data row20 col12\" >0</td>\n",
       "                        <td id=\"T_b343c4d8_2dc3_11ec_9946_d6cafbb1839brow20_col13\" class=\"data row20 col13\" >0</td>\n",
       "                        <td id=\"T_b343c4d8_2dc3_11ec_9946_d6cafbb1839brow20_col14\" class=\"data row20 col14\" >98</td>\n",
       "                        <td id=\"T_b343c4d8_2dc3_11ec_9946_d6cafbb1839brow20_col15\" class=\"data row20 col15\" >247</td>\n",
       "                        <td id=\"T_b343c4d8_2dc3_11ec_9946_d6cafbb1839brow20_col16\" class=\"data row20 col16\" >253</td>\n",
       "                        <td id=\"T_b343c4d8_2dc3_11ec_9946_d6cafbb1839brow20_col17\" class=\"data row20 col17\" >253</td>\n",
       "                        <td id=\"T_b343c4d8_2dc3_11ec_9946_d6cafbb1839brow20_col18\" class=\"data row20 col18\" >226</td>\n",
       "                        <td id=\"T_b343c4d8_2dc3_11ec_9946_d6cafbb1839brow20_col19\" class=\"data row20 col19\" >9</td>\n",
       "                        <td id=\"T_b343c4d8_2dc3_11ec_9946_d6cafbb1839brow20_col20\" class=\"data row20 col20\" >0</td>\n",
       "                        <td id=\"T_b343c4d8_2dc3_11ec_9946_d6cafbb1839brow20_col21\" class=\"data row20 col21\" >0</td>\n",
       "                        <td id=\"T_b343c4d8_2dc3_11ec_9946_d6cafbb1839brow20_col22\" class=\"data row20 col22\" >0</td>\n",
       "                        <td id=\"T_b343c4d8_2dc3_11ec_9946_d6cafbb1839brow20_col23\" class=\"data row20 col23\" >0</td>\n",
       "                        <td id=\"T_b343c4d8_2dc3_11ec_9946_d6cafbb1839brow20_col24\" class=\"data row20 col24\" >0</td>\n",
       "                        <td id=\"T_b343c4d8_2dc3_11ec_9946_d6cafbb1839brow20_col25\" class=\"data row20 col25\" >0</td>\n",
       "                        <td id=\"T_b343c4d8_2dc3_11ec_9946_d6cafbb1839brow20_col26\" class=\"data row20 col26\" >0</td>\n",
       "                        <td id=\"T_b343c4d8_2dc3_11ec_9946_d6cafbb1839brow20_col27\" class=\"data row20 col27\" >0</td>\n",
       "            </tr>\n",
       "            <tr>\n",
       "                        <th id=\"T_b343c4d8_2dc3_11ec_9946_d6cafbb1839blevel0_row21\" class=\"row_heading level0 row21\" >21</th>\n",
       "                        <td id=\"T_b343c4d8_2dc3_11ec_9946_d6cafbb1839brow21_col0\" class=\"data row21 col0\" >0</td>\n",
       "                        <td id=\"T_b343c4d8_2dc3_11ec_9946_d6cafbb1839brow21_col1\" class=\"data row21 col1\" >0</td>\n",
       "                        <td id=\"T_b343c4d8_2dc3_11ec_9946_d6cafbb1839brow21_col2\" class=\"data row21 col2\" >0</td>\n",
       "                        <td id=\"T_b343c4d8_2dc3_11ec_9946_d6cafbb1839brow21_col3\" class=\"data row21 col3\" >0</td>\n",
       "                        <td id=\"T_b343c4d8_2dc3_11ec_9946_d6cafbb1839brow21_col4\" class=\"data row21 col4\" >0</td>\n",
       "                        <td id=\"T_b343c4d8_2dc3_11ec_9946_d6cafbb1839brow21_col5\" class=\"data row21 col5\" >0</td>\n",
       "                        <td id=\"T_b343c4d8_2dc3_11ec_9946_d6cafbb1839brow21_col6\" class=\"data row21 col6\" >0</td>\n",
       "                        <td id=\"T_b343c4d8_2dc3_11ec_9946_d6cafbb1839brow21_col7\" class=\"data row21 col7\" >0</td>\n",
       "                        <td id=\"T_b343c4d8_2dc3_11ec_9946_d6cafbb1839brow21_col8\" class=\"data row21 col8\" >0</td>\n",
       "                        <td id=\"T_b343c4d8_2dc3_11ec_9946_d6cafbb1839brow21_col9\" class=\"data row21 col9\" >0</td>\n",
       "                        <td id=\"T_b343c4d8_2dc3_11ec_9946_d6cafbb1839brow21_col10\" class=\"data row21 col10\" >0</td>\n",
       "                        <td id=\"T_b343c4d8_2dc3_11ec_9946_d6cafbb1839brow21_col11\" class=\"data row21 col11\" >0</td>\n",
       "                        <td id=\"T_b343c4d8_2dc3_11ec_9946_d6cafbb1839brow21_col12\" class=\"data row21 col12\" >42</td>\n",
       "                        <td id=\"T_b343c4d8_2dc3_11ec_9946_d6cafbb1839brow21_col13\" class=\"data row21 col13\" >150</td>\n",
       "                        <td id=\"T_b343c4d8_2dc3_11ec_9946_d6cafbb1839brow21_col14\" class=\"data row21 col14\" >252</td>\n",
       "                        <td id=\"T_b343c4d8_2dc3_11ec_9946_d6cafbb1839brow21_col15\" class=\"data row21 col15\" >253</td>\n",
       "                        <td id=\"T_b343c4d8_2dc3_11ec_9946_d6cafbb1839brow21_col16\" class=\"data row21 col16\" >253</td>\n",
       "                        <td id=\"T_b343c4d8_2dc3_11ec_9946_d6cafbb1839brow21_col17\" class=\"data row21 col17\" >233</td>\n",
       "                        <td id=\"T_b343c4d8_2dc3_11ec_9946_d6cafbb1839brow21_col18\" class=\"data row21 col18\" >53</td>\n",
       "                        <td id=\"T_b343c4d8_2dc3_11ec_9946_d6cafbb1839brow21_col19\" class=\"data row21 col19\" >0</td>\n",
       "                        <td id=\"T_b343c4d8_2dc3_11ec_9946_d6cafbb1839brow21_col20\" class=\"data row21 col20\" >0</td>\n",
       "                        <td id=\"T_b343c4d8_2dc3_11ec_9946_d6cafbb1839brow21_col21\" class=\"data row21 col21\" >0</td>\n",
       "                        <td id=\"T_b343c4d8_2dc3_11ec_9946_d6cafbb1839brow21_col22\" class=\"data row21 col22\" >0</td>\n",
       "                        <td id=\"T_b343c4d8_2dc3_11ec_9946_d6cafbb1839brow21_col23\" class=\"data row21 col23\" >0</td>\n",
       "                        <td id=\"T_b343c4d8_2dc3_11ec_9946_d6cafbb1839brow21_col24\" class=\"data row21 col24\" >0</td>\n",
       "                        <td id=\"T_b343c4d8_2dc3_11ec_9946_d6cafbb1839brow21_col25\" class=\"data row21 col25\" >0</td>\n",
       "                        <td id=\"T_b343c4d8_2dc3_11ec_9946_d6cafbb1839brow21_col26\" class=\"data row21 col26\" >0</td>\n",
       "                        <td id=\"T_b343c4d8_2dc3_11ec_9946_d6cafbb1839brow21_col27\" class=\"data row21 col27\" >0</td>\n",
       "            </tr>\n",
       "            <tr>\n",
       "                        <th id=\"T_b343c4d8_2dc3_11ec_9946_d6cafbb1839blevel0_row22\" class=\"row_heading level0 row22\" >22</th>\n",
       "                        <td id=\"T_b343c4d8_2dc3_11ec_9946_d6cafbb1839brow22_col0\" class=\"data row22 col0\" >0</td>\n",
       "                        <td id=\"T_b343c4d8_2dc3_11ec_9946_d6cafbb1839brow22_col1\" class=\"data row22 col1\" >0</td>\n",
       "                        <td id=\"T_b343c4d8_2dc3_11ec_9946_d6cafbb1839brow22_col2\" class=\"data row22 col2\" >0</td>\n",
       "                        <td id=\"T_b343c4d8_2dc3_11ec_9946_d6cafbb1839brow22_col3\" class=\"data row22 col3\" >0</td>\n",
       "                        <td id=\"T_b343c4d8_2dc3_11ec_9946_d6cafbb1839brow22_col4\" class=\"data row22 col4\" >0</td>\n",
       "                        <td id=\"T_b343c4d8_2dc3_11ec_9946_d6cafbb1839brow22_col5\" class=\"data row22 col5\" >0</td>\n",
       "                        <td id=\"T_b343c4d8_2dc3_11ec_9946_d6cafbb1839brow22_col6\" class=\"data row22 col6\" >42</td>\n",
       "                        <td id=\"T_b343c4d8_2dc3_11ec_9946_d6cafbb1839brow22_col7\" class=\"data row22 col7\" >115</td>\n",
       "                        <td id=\"T_b343c4d8_2dc3_11ec_9946_d6cafbb1839brow22_col8\" class=\"data row22 col8\" >42</td>\n",
       "                        <td id=\"T_b343c4d8_2dc3_11ec_9946_d6cafbb1839brow22_col9\" class=\"data row22 col9\" >60</td>\n",
       "                        <td id=\"T_b343c4d8_2dc3_11ec_9946_d6cafbb1839brow22_col10\" class=\"data row22 col10\" >115</td>\n",
       "                        <td id=\"T_b343c4d8_2dc3_11ec_9946_d6cafbb1839brow22_col11\" class=\"data row22 col11\" >159</td>\n",
       "                        <td id=\"T_b343c4d8_2dc3_11ec_9946_d6cafbb1839brow22_col12\" class=\"data row22 col12\" >240</td>\n",
       "                        <td id=\"T_b343c4d8_2dc3_11ec_9946_d6cafbb1839brow22_col13\" class=\"data row22 col13\" >253</td>\n",
       "                        <td id=\"T_b343c4d8_2dc3_11ec_9946_d6cafbb1839brow22_col14\" class=\"data row22 col14\" >253</td>\n",
       "                        <td id=\"T_b343c4d8_2dc3_11ec_9946_d6cafbb1839brow22_col15\" class=\"data row22 col15\" >250</td>\n",
       "                        <td id=\"T_b343c4d8_2dc3_11ec_9946_d6cafbb1839brow22_col16\" class=\"data row22 col16\" >175</td>\n",
       "                        <td id=\"T_b343c4d8_2dc3_11ec_9946_d6cafbb1839brow22_col17\" class=\"data row22 col17\" >25</td>\n",
       "                        <td id=\"T_b343c4d8_2dc3_11ec_9946_d6cafbb1839brow22_col18\" class=\"data row22 col18\" >0</td>\n",
       "                        <td id=\"T_b343c4d8_2dc3_11ec_9946_d6cafbb1839brow22_col19\" class=\"data row22 col19\" >0</td>\n",
       "                        <td id=\"T_b343c4d8_2dc3_11ec_9946_d6cafbb1839brow22_col20\" class=\"data row22 col20\" >0</td>\n",
       "                        <td id=\"T_b343c4d8_2dc3_11ec_9946_d6cafbb1839brow22_col21\" class=\"data row22 col21\" >0</td>\n",
       "                        <td id=\"T_b343c4d8_2dc3_11ec_9946_d6cafbb1839brow22_col22\" class=\"data row22 col22\" >0</td>\n",
       "                        <td id=\"T_b343c4d8_2dc3_11ec_9946_d6cafbb1839brow22_col23\" class=\"data row22 col23\" >0</td>\n",
       "                        <td id=\"T_b343c4d8_2dc3_11ec_9946_d6cafbb1839brow22_col24\" class=\"data row22 col24\" >0</td>\n",
       "                        <td id=\"T_b343c4d8_2dc3_11ec_9946_d6cafbb1839brow22_col25\" class=\"data row22 col25\" >0</td>\n",
       "                        <td id=\"T_b343c4d8_2dc3_11ec_9946_d6cafbb1839brow22_col26\" class=\"data row22 col26\" >0</td>\n",
       "                        <td id=\"T_b343c4d8_2dc3_11ec_9946_d6cafbb1839brow22_col27\" class=\"data row22 col27\" >0</td>\n",
       "            </tr>\n",
       "            <tr>\n",
       "                        <th id=\"T_b343c4d8_2dc3_11ec_9946_d6cafbb1839blevel0_row23\" class=\"row_heading level0 row23\" >23</th>\n",
       "                        <td id=\"T_b343c4d8_2dc3_11ec_9946_d6cafbb1839brow23_col0\" class=\"data row23 col0\" >0</td>\n",
       "                        <td id=\"T_b343c4d8_2dc3_11ec_9946_d6cafbb1839brow23_col1\" class=\"data row23 col1\" >0</td>\n",
       "                        <td id=\"T_b343c4d8_2dc3_11ec_9946_d6cafbb1839brow23_col2\" class=\"data row23 col2\" >0</td>\n",
       "                        <td id=\"T_b343c4d8_2dc3_11ec_9946_d6cafbb1839brow23_col3\" class=\"data row23 col3\" >0</td>\n",
       "                        <td id=\"T_b343c4d8_2dc3_11ec_9946_d6cafbb1839brow23_col4\" class=\"data row23 col4\" >0</td>\n",
       "                        <td id=\"T_b343c4d8_2dc3_11ec_9946_d6cafbb1839brow23_col5\" class=\"data row23 col5\" >0</td>\n",
       "                        <td id=\"T_b343c4d8_2dc3_11ec_9946_d6cafbb1839brow23_col6\" class=\"data row23 col6\" >187</td>\n",
       "                        <td id=\"T_b343c4d8_2dc3_11ec_9946_d6cafbb1839brow23_col7\" class=\"data row23 col7\" >253</td>\n",
       "                        <td id=\"T_b343c4d8_2dc3_11ec_9946_d6cafbb1839brow23_col8\" class=\"data row23 col8\" >253</td>\n",
       "                        <td id=\"T_b343c4d8_2dc3_11ec_9946_d6cafbb1839brow23_col9\" class=\"data row23 col9\" >253</td>\n",
       "                        <td id=\"T_b343c4d8_2dc3_11ec_9946_d6cafbb1839brow23_col10\" class=\"data row23 col10\" >253</td>\n",
       "                        <td id=\"T_b343c4d8_2dc3_11ec_9946_d6cafbb1839brow23_col11\" class=\"data row23 col11\" >253</td>\n",
       "                        <td id=\"T_b343c4d8_2dc3_11ec_9946_d6cafbb1839brow23_col12\" class=\"data row23 col12\" >253</td>\n",
       "                        <td id=\"T_b343c4d8_2dc3_11ec_9946_d6cafbb1839brow23_col13\" class=\"data row23 col13\" >253</td>\n",
       "                        <td id=\"T_b343c4d8_2dc3_11ec_9946_d6cafbb1839brow23_col14\" class=\"data row23 col14\" >197</td>\n",
       "                        <td id=\"T_b343c4d8_2dc3_11ec_9946_d6cafbb1839brow23_col15\" class=\"data row23 col15\" >86</td>\n",
       "                        <td id=\"T_b343c4d8_2dc3_11ec_9946_d6cafbb1839brow23_col16\" class=\"data row23 col16\" >0</td>\n",
       "                        <td id=\"T_b343c4d8_2dc3_11ec_9946_d6cafbb1839brow23_col17\" class=\"data row23 col17\" >0</td>\n",
       "                        <td id=\"T_b343c4d8_2dc3_11ec_9946_d6cafbb1839brow23_col18\" class=\"data row23 col18\" >0</td>\n",
       "                        <td id=\"T_b343c4d8_2dc3_11ec_9946_d6cafbb1839brow23_col19\" class=\"data row23 col19\" >0</td>\n",
       "                        <td id=\"T_b343c4d8_2dc3_11ec_9946_d6cafbb1839brow23_col20\" class=\"data row23 col20\" >0</td>\n",
       "                        <td id=\"T_b343c4d8_2dc3_11ec_9946_d6cafbb1839brow23_col21\" class=\"data row23 col21\" >0</td>\n",
       "                        <td id=\"T_b343c4d8_2dc3_11ec_9946_d6cafbb1839brow23_col22\" class=\"data row23 col22\" >0</td>\n",
       "                        <td id=\"T_b343c4d8_2dc3_11ec_9946_d6cafbb1839brow23_col23\" class=\"data row23 col23\" >0</td>\n",
       "                        <td id=\"T_b343c4d8_2dc3_11ec_9946_d6cafbb1839brow23_col24\" class=\"data row23 col24\" >0</td>\n",
       "                        <td id=\"T_b343c4d8_2dc3_11ec_9946_d6cafbb1839brow23_col25\" class=\"data row23 col25\" >0</td>\n",
       "                        <td id=\"T_b343c4d8_2dc3_11ec_9946_d6cafbb1839brow23_col26\" class=\"data row23 col26\" >0</td>\n",
       "                        <td id=\"T_b343c4d8_2dc3_11ec_9946_d6cafbb1839brow23_col27\" class=\"data row23 col27\" >0</td>\n",
       "            </tr>\n",
       "            <tr>\n",
       "                        <th id=\"T_b343c4d8_2dc3_11ec_9946_d6cafbb1839blevel0_row24\" class=\"row_heading level0 row24\" >24</th>\n",
       "                        <td id=\"T_b343c4d8_2dc3_11ec_9946_d6cafbb1839brow24_col0\" class=\"data row24 col0\" >0</td>\n",
       "                        <td id=\"T_b343c4d8_2dc3_11ec_9946_d6cafbb1839brow24_col1\" class=\"data row24 col1\" >0</td>\n",
       "                        <td id=\"T_b343c4d8_2dc3_11ec_9946_d6cafbb1839brow24_col2\" class=\"data row24 col2\" >0</td>\n",
       "                        <td id=\"T_b343c4d8_2dc3_11ec_9946_d6cafbb1839brow24_col3\" class=\"data row24 col3\" >0</td>\n",
       "                        <td id=\"T_b343c4d8_2dc3_11ec_9946_d6cafbb1839brow24_col4\" class=\"data row24 col4\" >0</td>\n",
       "                        <td id=\"T_b343c4d8_2dc3_11ec_9946_d6cafbb1839brow24_col5\" class=\"data row24 col5\" >0</td>\n",
       "                        <td id=\"T_b343c4d8_2dc3_11ec_9946_d6cafbb1839brow24_col6\" class=\"data row24 col6\" >103</td>\n",
       "                        <td id=\"T_b343c4d8_2dc3_11ec_9946_d6cafbb1839brow24_col7\" class=\"data row24 col7\" >253</td>\n",
       "                        <td id=\"T_b343c4d8_2dc3_11ec_9946_d6cafbb1839brow24_col8\" class=\"data row24 col8\" >253</td>\n",
       "                        <td id=\"T_b343c4d8_2dc3_11ec_9946_d6cafbb1839brow24_col9\" class=\"data row24 col9\" >253</td>\n",
       "                        <td id=\"T_b343c4d8_2dc3_11ec_9946_d6cafbb1839brow24_col10\" class=\"data row24 col10\" >253</td>\n",
       "                        <td id=\"T_b343c4d8_2dc3_11ec_9946_d6cafbb1839brow24_col11\" class=\"data row24 col11\" >253</td>\n",
       "                        <td id=\"T_b343c4d8_2dc3_11ec_9946_d6cafbb1839brow24_col12\" class=\"data row24 col12\" >232</td>\n",
       "                        <td id=\"T_b343c4d8_2dc3_11ec_9946_d6cafbb1839brow24_col13\" class=\"data row24 col13\" >67</td>\n",
       "                        <td id=\"T_b343c4d8_2dc3_11ec_9946_d6cafbb1839brow24_col14\" class=\"data row24 col14\" >1</td>\n",
       "                        <td id=\"T_b343c4d8_2dc3_11ec_9946_d6cafbb1839brow24_col15\" class=\"data row24 col15\" >0</td>\n",
       "                        <td id=\"T_b343c4d8_2dc3_11ec_9946_d6cafbb1839brow24_col16\" class=\"data row24 col16\" >0</td>\n",
       "                        <td id=\"T_b343c4d8_2dc3_11ec_9946_d6cafbb1839brow24_col17\" class=\"data row24 col17\" >0</td>\n",
       "                        <td id=\"T_b343c4d8_2dc3_11ec_9946_d6cafbb1839brow24_col18\" class=\"data row24 col18\" >0</td>\n",
       "                        <td id=\"T_b343c4d8_2dc3_11ec_9946_d6cafbb1839brow24_col19\" class=\"data row24 col19\" >0</td>\n",
       "                        <td id=\"T_b343c4d8_2dc3_11ec_9946_d6cafbb1839brow24_col20\" class=\"data row24 col20\" >0</td>\n",
       "                        <td id=\"T_b343c4d8_2dc3_11ec_9946_d6cafbb1839brow24_col21\" class=\"data row24 col21\" >0</td>\n",
       "                        <td id=\"T_b343c4d8_2dc3_11ec_9946_d6cafbb1839brow24_col22\" class=\"data row24 col22\" >0</td>\n",
       "                        <td id=\"T_b343c4d8_2dc3_11ec_9946_d6cafbb1839brow24_col23\" class=\"data row24 col23\" >0</td>\n",
       "                        <td id=\"T_b343c4d8_2dc3_11ec_9946_d6cafbb1839brow24_col24\" class=\"data row24 col24\" >0</td>\n",
       "                        <td id=\"T_b343c4d8_2dc3_11ec_9946_d6cafbb1839brow24_col25\" class=\"data row24 col25\" >0</td>\n",
       "                        <td id=\"T_b343c4d8_2dc3_11ec_9946_d6cafbb1839brow24_col26\" class=\"data row24 col26\" >0</td>\n",
       "                        <td id=\"T_b343c4d8_2dc3_11ec_9946_d6cafbb1839brow24_col27\" class=\"data row24 col27\" >0</td>\n",
       "            </tr>\n",
       "            <tr>\n",
       "                        <th id=\"T_b343c4d8_2dc3_11ec_9946_d6cafbb1839blevel0_row25\" class=\"row_heading level0 row25\" >25</th>\n",
       "                        <td id=\"T_b343c4d8_2dc3_11ec_9946_d6cafbb1839brow25_col0\" class=\"data row25 col0\" >0</td>\n",
       "                        <td id=\"T_b343c4d8_2dc3_11ec_9946_d6cafbb1839brow25_col1\" class=\"data row25 col1\" >0</td>\n",
       "                        <td id=\"T_b343c4d8_2dc3_11ec_9946_d6cafbb1839brow25_col2\" class=\"data row25 col2\" >0</td>\n",
       "                        <td id=\"T_b343c4d8_2dc3_11ec_9946_d6cafbb1839brow25_col3\" class=\"data row25 col3\" >0</td>\n",
       "                        <td id=\"T_b343c4d8_2dc3_11ec_9946_d6cafbb1839brow25_col4\" class=\"data row25 col4\" >0</td>\n",
       "                        <td id=\"T_b343c4d8_2dc3_11ec_9946_d6cafbb1839brow25_col5\" class=\"data row25 col5\" >0</td>\n",
       "                        <td id=\"T_b343c4d8_2dc3_11ec_9946_d6cafbb1839brow25_col6\" class=\"data row25 col6\" >0</td>\n",
       "                        <td id=\"T_b343c4d8_2dc3_11ec_9946_d6cafbb1839brow25_col7\" class=\"data row25 col7\" >0</td>\n",
       "                        <td id=\"T_b343c4d8_2dc3_11ec_9946_d6cafbb1839brow25_col8\" class=\"data row25 col8\" >0</td>\n",
       "                        <td id=\"T_b343c4d8_2dc3_11ec_9946_d6cafbb1839brow25_col9\" class=\"data row25 col9\" >0</td>\n",
       "                        <td id=\"T_b343c4d8_2dc3_11ec_9946_d6cafbb1839brow25_col10\" class=\"data row25 col10\" >0</td>\n",
       "                        <td id=\"T_b343c4d8_2dc3_11ec_9946_d6cafbb1839brow25_col11\" class=\"data row25 col11\" >0</td>\n",
       "                        <td id=\"T_b343c4d8_2dc3_11ec_9946_d6cafbb1839brow25_col12\" class=\"data row25 col12\" >0</td>\n",
       "                        <td id=\"T_b343c4d8_2dc3_11ec_9946_d6cafbb1839brow25_col13\" class=\"data row25 col13\" >0</td>\n",
       "                        <td id=\"T_b343c4d8_2dc3_11ec_9946_d6cafbb1839brow25_col14\" class=\"data row25 col14\" >0</td>\n",
       "                        <td id=\"T_b343c4d8_2dc3_11ec_9946_d6cafbb1839brow25_col15\" class=\"data row25 col15\" >0</td>\n",
       "                        <td id=\"T_b343c4d8_2dc3_11ec_9946_d6cafbb1839brow25_col16\" class=\"data row25 col16\" >0</td>\n",
       "                        <td id=\"T_b343c4d8_2dc3_11ec_9946_d6cafbb1839brow25_col17\" class=\"data row25 col17\" >0</td>\n",
       "                        <td id=\"T_b343c4d8_2dc3_11ec_9946_d6cafbb1839brow25_col18\" class=\"data row25 col18\" >0</td>\n",
       "                        <td id=\"T_b343c4d8_2dc3_11ec_9946_d6cafbb1839brow25_col19\" class=\"data row25 col19\" >0</td>\n",
       "                        <td id=\"T_b343c4d8_2dc3_11ec_9946_d6cafbb1839brow25_col20\" class=\"data row25 col20\" >0</td>\n",
       "                        <td id=\"T_b343c4d8_2dc3_11ec_9946_d6cafbb1839brow25_col21\" class=\"data row25 col21\" >0</td>\n",
       "                        <td id=\"T_b343c4d8_2dc3_11ec_9946_d6cafbb1839brow25_col22\" class=\"data row25 col22\" >0</td>\n",
       "                        <td id=\"T_b343c4d8_2dc3_11ec_9946_d6cafbb1839brow25_col23\" class=\"data row25 col23\" >0</td>\n",
       "                        <td id=\"T_b343c4d8_2dc3_11ec_9946_d6cafbb1839brow25_col24\" class=\"data row25 col24\" >0</td>\n",
       "                        <td id=\"T_b343c4d8_2dc3_11ec_9946_d6cafbb1839brow25_col25\" class=\"data row25 col25\" >0</td>\n",
       "                        <td id=\"T_b343c4d8_2dc3_11ec_9946_d6cafbb1839brow25_col26\" class=\"data row25 col26\" >0</td>\n",
       "                        <td id=\"T_b343c4d8_2dc3_11ec_9946_d6cafbb1839brow25_col27\" class=\"data row25 col27\" >0</td>\n",
       "            </tr>\n",
       "            <tr>\n",
       "                        <th id=\"T_b343c4d8_2dc3_11ec_9946_d6cafbb1839blevel0_row26\" class=\"row_heading level0 row26\" >26</th>\n",
       "                        <td id=\"T_b343c4d8_2dc3_11ec_9946_d6cafbb1839brow26_col0\" class=\"data row26 col0\" >0</td>\n",
       "                        <td id=\"T_b343c4d8_2dc3_11ec_9946_d6cafbb1839brow26_col1\" class=\"data row26 col1\" >0</td>\n",
       "                        <td id=\"T_b343c4d8_2dc3_11ec_9946_d6cafbb1839brow26_col2\" class=\"data row26 col2\" >0</td>\n",
       "                        <td id=\"T_b343c4d8_2dc3_11ec_9946_d6cafbb1839brow26_col3\" class=\"data row26 col3\" >0</td>\n",
       "                        <td id=\"T_b343c4d8_2dc3_11ec_9946_d6cafbb1839brow26_col4\" class=\"data row26 col4\" >0</td>\n",
       "                        <td id=\"T_b343c4d8_2dc3_11ec_9946_d6cafbb1839brow26_col5\" class=\"data row26 col5\" >0</td>\n",
       "                        <td id=\"T_b343c4d8_2dc3_11ec_9946_d6cafbb1839brow26_col6\" class=\"data row26 col6\" >0</td>\n",
       "                        <td id=\"T_b343c4d8_2dc3_11ec_9946_d6cafbb1839brow26_col7\" class=\"data row26 col7\" >0</td>\n",
       "                        <td id=\"T_b343c4d8_2dc3_11ec_9946_d6cafbb1839brow26_col8\" class=\"data row26 col8\" >0</td>\n",
       "                        <td id=\"T_b343c4d8_2dc3_11ec_9946_d6cafbb1839brow26_col9\" class=\"data row26 col9\" >0</td>\n",
       "                        <td id=\"T_b343c4d8_2dc3_11ec_9946_d6cafbb1839brow26_col10\" class=\"data row26 col10\" >0</td>\n",
       "                        <td id=\"T_b343c4d8_2dc3_11ec_9946_d6cafbb1839brow26_col11\" class=\"data row26 col11\" >0</td>\n",
       "                        <td id=\"T_b343c4d8_2dc3_11ec_9946_d6cafbb1839brow26_col12\" class=\"data row26 col12\" >0</td>\n",
       "                        <td id=\"T_b343c4d8_2dc3_11ec_9946_d6cafbb1839brow26_col13\" class=\"data row26 col13\" >0</td>\n",
       "                        <td id=\"T_b343c4d8_2dc3_11ec_9946_d6cafbb1839brow26_col14\" class=\"data row26 col14\" >0</td>\n",
       "                        <td id=\"T_b343c4d8_2dc3_11ec_9946_d6cafbb1839brow26_col15\" class=\"data row26 col15\" >0</td>\n",
       "                        <td id=\"T_b343c4d8_2dc3_11ec_9946_d6cafbb1839brow26_col16\" class=\"data row26 col16\" >0</td>\n",
       "                        <td id=\"T_b343c4d8_2dc3_11ec_9946_d6cafbb1839brow26_col17\" class=\"data row26 col17\" >0</td>\n",
       "                        <td id=\"T_b343c4d8_2dc3_11ec_9946_d6cafbb1839brow26_col18\" class=\"data row26 col18\" >0</td>\n",
       "                        <td id=\"T_b343c4d8_2dc3_11ec_9946_d6cafbb1839brow26_col19\" class=\"data row26 col19\" >0</td>\n",
       "                        <td id=\"T_b343c4d8_2dc3_11ec_9946_d6cafbb1839brow26_col20\" class=\"data row26 col20\" >0</td>\n",
       "                        <td id=\"T_b343c4d8_2dc3_11ec_9946_d6cafbb1839brow26_col21\" class=\"data row26 col21\" >0</td>\n",
       "                        <td id=\"T_b343c4d8_2dc3_11ec_9946_d6cafbb1839brow26_col22\" class=\"data row26 col22\" >0</td>\n",
       "                        <td id=\"T_b343c4d8_2dc3_11ec_9946_d6cafbb1839brow26_col23\" class=\"data row26 col23\" >0</td>\n",
       "                        <td id=\"T_b343c4d8_2dc3_11ec_9946_d6cafbb1839brow26_col24\" class=\"data row26 col24\" >0</td>\n",
       "                        <td id=\"T_b343c4d8_2dc3_11ec_9946_d6cafbb1839brow26_col25\" class=\"data row26 col25\" >0</td>\n",
       "                        <td id=\"T_b343c4d8_2dc3_11ec_9946_d6cafbb1839brow26_col26\" class=\"data row26 col26\" >0</td>\n",
       "                        <td id=\"T_b343c4d8_2dc3_11ec_9946_d6cafbb1839brow26_col27\" class=\"data row26 col27\" >0</td>\n",
       "            </tr>\n",
       "            <tr>\n",
       "                        <th id=\"T_b343c4d8_2dc3_11ec_9946_d6cafbb1839blevel0_row27\" class=\"row_heading level0 row27\" >27</th>\n",
       "                        <td id=\"T_b343c4d8_2dc3_11ec_9946_d6cafbb1839brow27_col0\" class=\"data row27 col0\" >0</td>\n",
       "                        <td id=\"T_b343c4d8_2dc3_11ec_9946_d6cafbb1839brow27_col1\" class=\"data row27 col1\" >0</td>\n",
       "                        <td id=\"T_b343c4d8_2dc3_11ec_9946_d6cafbb1839brow27_col2\" class=\"data row27 col2\" >0</td>\n",
       "                        <td id=\"T_b343c4d8_2dc3_11ec_9946_d6cafbb1839brow27_col3\" class=\"data row27 col3\" >0</td>\n",
       "                        <td id=\"T_b343c4d8_2dc3_11ec_9946_d6cafbb1839brow27_col4\" class=\"data row27 col4\" >0</td>\n",
       "                        <td id=\"T_b343c4d8_2dc3_11ec_9946_d6cafbb1839brow27_col5\" class=\"data row27 col5\" >0</td>\n",
       "                        <td id=\"T_b343c4d8_2dc3_11ec_9946_d6cafbb1839brow27_col6\" class=\"data row27 col6\" >0</td>\n",
       "                        <td id=\"T_b343c4d8_2dc3_11ec_9946_d6cafbb1839brow27_col7\" class=\"data row27 col7\" >0</td>\n",
       "                        <td id=\"T_b343c4d8_2dc3_11ec_9946_d6cafbb1839brow27_col8\" class=\"data row27 col8\" >0</td>\n",
       "                        <td id=\"T_b343c4d8_2dc3_11ec_9946_d6cafbb1839brow27_col9\" class=\"data row27 col9\" >0</td>\n",
       "                        <td id=\"T_b343c4d8_2dc3_11ec_9946_d6cafbb1839brow27_col10\" class=\"data row27 col10\" >0</td>\n",
       "                        <td id=\"T_b343c4d8_2dc3_11ec_9946_d6cafbb1839brow27_col11\" class=\"data row27 col11\" >0</td>\n",
       "                        <td id=\"T_b343c4d8_2dc3_11ec_9946_d6cafbb1839brow27_col12\" class=\"data row27 col12\" >0</td>\n",
       "                        <td id=\"T_b343c4d8_2dc3_11ec_9946_d6cafbb1839brow27_col13\" class=\"data row27 col13\" >0</td>\n",
       "                        <td id=\"T_b343c4d8_2dc3_11ec_9946_d6cafbb1839brow27_col14\" class=\"data row27 col14\" >0</td>\n",
       "                        <td id=\"T_b343c4d8_2dc3_11ec_9946_d6cafbb1839brow27_col15\" class=\"data row27 col15\" >0</td>\n",
       "                        <td id=\"T_b343c4d8_2dc3_11ec_9946_d6cafbb1839brow27_col16\" class=\"data row27 col16\" >0</td>\n",
       "                        <td id=\"T_b343c4d8_2dc3_11ec_9946_d6cafbb1839brow27_col17\" class=\"data row27 col17\" >0</td>\n",
       "                        <td id=\"T_b343c4d8_2dc3_11ec_9946_d6cafbb1839brow27_col18\" class=\"data row27 col18\" >0</td>\n",
       "                        <td id=\"T_b343c4d8_2dc3_11ec_9946_d6cafbb1839brow27_col19\" class=\"data row27 col19\" >0</td>\n",
       "                        <td id=\"T_b343c4d8_2dc3_11ec_9946_d6cafbb1839brow27_col20\" class=\"data row27 col20\" >0</td>\n",
       "                        <td id=\"T_b343c4d8_2dc3_11ec_9946_d6cafbb1839brow27_col21\" class=\"data row27 col21\" >0</td>\n",
       "                        <td id=\"T_b343c4d8_2dc3_11ec_9946_d6cafbb1839brow27_col22\" class=\"data row27 col22\" >0</td>\n",
       "                        <td id=\"T_b343c4d8_2dc3_11ec_9946_d6cafbb1839brow27_col23\" class=\"data row27 col23\" >0</td>\n",
       "                        <td id=\"T_b343c4d8_2dc3_11ec_9946_d6cafbb1839brow27_col24\" class=\"data row27 col24\" >0</td>\n",
       "                        <td id=\"T_b343c4d8_2dc3_11ec_9946_d6cafbb1839brow27_col25\" class=\"data row27 col25\" >0</td>\n",
       "                        <td id=\"T_b343c4d8_2dc3_11ec_9946_d6cafbb1839brow27_col26\" class=\"data row27 col26\" >0</td>\n",
       "                        <td id=\"T_b343c4d8_2dc3_11ec_9946_d6cafbb1839brow27_col27\" class=\"data row27 col27\" >0</td>\n",
       "            </tr>\n",
       "    </tbody></table>"
      ],
      "text/plain": [
       "<pandas.io.formats.style.Styler at 0x7fd3f2ec4e50>"
      ]
     },
     "execution_count": 163,
     "metadata": {},
     "output_type": "execute_result"
    }
   ],
   "source": [
    "im3_t = tensor(im3)\n",
    "df = pd.DataFrame(im3_t[0:28,0:28])\n",
    "df.style.set_properties(**{'font-size':'6pt'}).background_gradient('Greys')"
   ]
  },
  {
   "cell_type": "markdown",
   "metadata": {
    "gradient": {
     "editing": false
    }
   },
   "source": [
    "## Prep data"
   ]
  },
  {
   "cell_type": "code",
   "execution_count": 164,
   "metadata": {
    "gradient": {}
   },
   "outputs": [
    {
     "data": {
      "text/plain": [
       "(6131, 6265)"
      ]
     },
     "execution_count": 164,
     "metadata": {},
     "output_type": "execute_result"
    }
   ],
   "source": [
    "seven_tensors = [tensor(Image.open(o)) for o in sevens]\n",
    "three_tensors = [tensor(Image.open(o)) for o in threes]\n",
    "\n",
    "len(three_tensors), len(seven_tensors)"
   ]
  },
  {
   "cell_type": "code",
   "execution_count": 165,
   "metadata": {
    "gradient": {}
   },
   "outputs": [
    {
     "data": {
      "text/plain": [
       "torch.Size([6131, 28, 28])"
      ]
     },
     "execution_count": 165,
     "metadata": {},
     "output_type": "execute_result"
    }
   ],
   "source": [
    "stacked_sevens = torch.stack(seven_tensors).float()/255\n",
    "stacked_threes = torch.stack(three_tensors).float()/255\n",
    "\n",
    "stacked_threes.shape"
   ]
  },
  {
   "cell_type": "code",
   "execution_count": 166,
   "metadata": {
    "gradient": {}
   },
   "outputs": [
    {
     "data": {
      "text/plain": [
       "(torch.Size([1010, 28, 28]), torch.Size([1028, 28, 28]))"
      ]
     },
     "execution_count": 166,
     "metadata": {},
     "output_type": "execute_result"
    }
   ],
   "source": [
    "valid_3_tens = torch.stack([tensor(Image.open(o)) for o in (path/'valid'/'3').ls()])\n",
    "valid_3_tens = valid_3_tens.float()/255\n",
    "\n",
    "valid_7_tens = torch.stack([tensor(Image.open(o)) for o in (path/'valid'/'7').ls()])\n",
    "valid_7_tens = valid_7_tens.float()/255\n",
    "\n",
    "valid_3_tens.shape,valid_7_tens.shape"
   ]
  },
  {
   "cell_type": "code",
   "execution_count": 167,
   "metadata": {
    "gradient": {}
   },
   "outputs": [],
   "source": [
    "# reduce to 2 dimensional vectors\n",
    "train_x = torch.cat([stacked_threes, stacked_sevens]).view(-1, 28*28)"
   ]
  },
  {
   "cell_type": "code",
   "execution_count": 168,
   "metadata": {
    "gradient": {}
   },
   "outputs": [
    {
     "data": {
      "text/plain": [
       "(torch.Size([12396, 784]), torch.Size([12396, 1]))"
      ]
     },
     "execution_count": 168,
     "metadata": {},
     "output_type": "execute_result"
    }
   ],
   "source": [
    "train_y = tensor([1]*len(threes) + [0]*len(sevens)).unsqueeze(1)\n",
    "\n",
    "train_x.shape, train_y.shape"
   ]
  },
  {
   "cell_type": "code",
   "execution_count": 169,
   "metadata": {
    "gradient": {}
   },
   "outputs": [
    {
     "data": {
      "text/plain": [
       "(torch.Size([784]), tensor([1]))"
      ]
     },
     "execution_count": 169,
     "metadata": {},
     "output_type": "execute_result"
    }
   ],
   "source": [
    "dset = list(zip(train_x,train_y))\n",
    "x,y = dset[0]\n",
    "\n",
    "x.shape,y"
   ]
  },
  {
   "cell_type": "code",
   "execution_count": 170,
   "metadata": {
    "gradient": {}
   },
   "outputs": [],
   "source": [
    "valid_x = torch.cat([valid_3_tens, valid_7_tens]).view(-1, 28*28)\n",
    "valid_y = tensor([1]*len(valid_3_tens) + [0]*len(valid_7_tens)).unsqueeze(1)\n",
    "\n",
    "valid_dset = list(zip(valid_x,valid_y))"
   ]
  },
  {
   "cell_type": "markdown",
   "metadata": {},
   "source": [
    "### Define helper functions"
   ]
  },
  {
   "cell_type": "code",
   "execution_count": 171,
   "metadata": {
    "gradient": {}
   },
   "outputs": [],
   "source": [
    "def init_params(size, std=1.0): return (torch.randn(size)*std).requires_grad_()"
   ]
  },
  {
   "cell_type": "code",
   "execution_count": 172,
   "metadata": {
    "gradient": {}
   },
   "outputs": [],
   "source": [
    "def linear1(xb): return xb@weights + bias"
   ]
  },
  {
   "cell_type": "code",
   "execution_count": 173,
   "metadata": {
    "gradient": {}
   },
   "outputs": [],
   "source": [
    "def sigmoid(x): return 1/(1+torch.exp(-x))"
   ]
  },
  {
   "cell_type": "code",
   "execution_count": 174,
   "metadata": {
    "gradient": {}
   },
   "outputs": [],
   "source": [
    "def mnist_loss(predictions, targets):\n",
    "    predictions = predictions.sigmoid()\n",
    "    return torch.where(targets==1, 1-predictions, predictions).mean()"
   ]
  },
  {
   "cell_type": "code",
   "execution_count": 175,
   "metadata": {
    "gradient": {}
   },
   "outputs": [],
   "source": [
    "def calc_grad(xb, yb, model):\n",
    "    preds = model(xb)\n",
    "    loss = mnist_loss(preds, yb)\n",
    "    loss.backward()"
   ]
  },
  {
   "cell_type": "code",
   "execution_count": 176,
   "metadata": {
    "gradient": {}
   },
   "outputs": [],
   "source": [
    "def batch_accuracy(xb, yb):\n",
    "    preds = xb.sigmoid()\n",
    "    correct = (preds>0.5) == yb\n",
    "    return correct.float().mean()"
   ]
  },
  {
   "cell_type": "markdown",
   "metadata": {},
   "source": [
    "### Test with a mini batch"
   ]
  },
  {
   "cell_type": "code",
   "execution_count": 177,
   "metadata": {
    "gradient": {}
   },
   "outputs": [],
   "source": [
    "weights = init_params((28*28,1))\n",
    "bias = init_params(1)"
   ]
  },
  {
   "cell_type": "code",
   "execution_count": 178,
   "metadata": {
    "gradient": {}
   },
   "outputs": [
    {
     "data": {
      "text/plain": [
       "torch.Size([4, 784])"
      ]
     },
     "execution_count": 178,
     "metadata": {},
     "output_type": "execute_result"
    }
   ],
   "source": [
    "batch = train_x[:4]\n",
    "batch.shape"
   ]
  },
  {
   "cell_type": "code",
   "execution_count": 179,
   "metadata": {
    "gradient": {}
   },
   "outputs": [
    {
     "data": {
      "text/plain": [
       "tensor([[-7.0567],\n",
       "        [ 3.8336],\n",
       "        [-8.6935],\n",
       "        [-5.6520]], grad_fn=<AddBackward0>)"
      ]
     },
     "execution_count": 179,
     "metadata": {},
     "output_type": "execute_result"
    }
   ],
   "source": [
    "preds = linear1(batch)\n",
    "preds"
   ]
  },
  {
   "cell_type": "code",
   "execution_count": 180,
   "metadata": {
    "gradient": {}
   },
   "outputs": [
    {
     "data": {
      "text/plain": [
       "tensor(0.7542, grad_fn=<MeanBackward0>)"
      ]
     },
     "execution_count": 180,
     "metadata": {},
     "output_type": "execute_result"
    }
   ],
   "source": [
    "loss = mnist_loss(preds, train_y[:4])\n",
    "loss"
   ]
  },
  {
   "cell_type": "code",
   "execution_count": 181,
   "metadata": {
    "gradient": {}
   },
   "outputs": [],
   "source": [
    "calc_grad(batch, train_y[:4], linear1)"
   ]
  },
  {
   "cell_type": "code",
   "execution_count": 182,
   "metadata": {
    "gradient": {}
   },
   "outputs": [
    {
     "data": {
      "text/plain": [
       "tensor([[False],\n",
       "        [ True],\n",
       "        [False],\n",
       "        [False]])"
      ]
     },
     "execution_count": 182,
     "metadata": {},
     "output_type": "execute_result"
    }
   ],
   "source": [
    "(preds>0.5).float() == train_y[:4]"
   ]
  },
  {
   "cell_type": "code",
   "execution_count": 183,
   "metadata": {
    "gradient": {}
   },
   "outputs": [
    {
     "data": {
      "text/plain": [
       "tensor(0.2500)"
      ]
     },
     "execution_count": 183,
     "metadata": {},
     "output_type": "execute_result"
    }
   ],
   "source": [
    "batch_accuracy(linear1(batch), train_y[:4])"
   ]
  },
  {
   "cell_type": "markdown",
   "metadata": {},
   "source": [
    "\n",
    "### Setup batches for training and validation sets"
   ]
  },
  {
   "cell_type": "code",
   "execution_count": 184,
   "metadata": {
    "gradient": {}
   },
   "outputs": [],
   "source": [
    "dl = DataLoader(dset, batch_size=256)"
   ]
  },
  {
   "cell_type": "code",
   "execution_count": 185,
   "metadata": {},
   "outputs": [
    {
     "data": {
      "text/plain": [
       "(torch.Size([256, 784]), torch.Size([256, 1]))"
      ]
     },
     "execution_count": 185,
     "metadata": {},
     "output_type": "execute_result"
    }
   ],
   "source": [
    "# dependent and independent\n",
    "xb,yb = first(dl)\n",
    "\n",
    "xb.shape,yb.shape"
   ]
  },
  {
   "cell_type": "code",
   "execution_count": 186,
   "metadata": {
    "gradient": {}
   },
   "outputs": [],
   "source": [
    "valid_dl = DataLoader(valid_dset, batch_size=256)"
   ]
  },
  {
   "cell_type": "markdown",
   "metadata": {},
   "source": [
    "## Let's do some training"
   ]
  },
  {
   "cell_type": "code",
   "execution_count": 187,
   "metadata": {
    "gradient": {}
   },
   "outputs": [],
   "source": [
    "def validate_epoch(model):\n",
    "    accs = [batch_accuracy(model(xb), yb) for xb,yb in valid_dl]\n",
    "    return round(torch.stack(accs).mean().item(), 4)"
   ]
  },
  {
   "cell_type": "code",
   "execution_count": 188,
   "metadata": {
    "gradient": {}
   },
   "outputs": [],
   "source": [
    "def train_epoch(model):\n",
    "    for xb,yb in dl:\n",
    "        calc_grad(xb, yb, model)\n",
    "        opt.step()\n",
    "        opt.zero_grad()"
   ]
  },
  {
   "cell_type": "code",
   "execution_count": 189,
   "metadata": {},
   "outputs": [],
   "source": [
    "def train_model(model, epochs):\n",
    "    for i in range(epochs):\n",
    "        train_epoch(model)\n",
    "        print(validate_epoch(model), end=' ')"
   ]
  },
  {
   "cell_type": "markdown",
   "metadata": {},
   "source": [
    "### A linear model v0"
   ]
  },
  {
   "cell_type": "code",
   "execution_count": 190,
   "metadata": {},
   "outputs": [],
   "source": [
    "def train_epoch_0(model, lr, params):\n",
    "    for xb,yb in dl:\n",
    "        calc_grad(xb, yb, model)\n",
    "        for p in params:\n",
    "            p.data -= p.grad*lr\n",
    "            p.grad.zero_()"
   ]
  },
  {
   "cell_type": "code",
   "execution_count": 191,
   "metadata": {},
   "outputs": [
    {
     "data": {
      "text/plain": [
       "0.2437"
      ]
     },
     "execution_count": 191,
     "metadata": {},
     "output_type": "execute_result"
    }
   ],
   "source": [
    "validate_epoch(linear1)"
   ]
  },
  {
   "cell_type": "code",
   "execution_count": 192,
   "metadata": {},
   "outputs": [],
   "source": [
    "lr = 1.\n",
    "params = weights,bias"
   ]
  },
  {
   "cell_type": "code",
   "execution_count": 193,
   "metadata": {},
   "outputs": [],
   "source": [
    "train_epoch_0(linear1, lr, params)"
   ]
  },
  {
   "cell_type": "code",
   "execution_count": 194,
   "metadata": {},
   "outputs": [
    {
     "data": {
      "text/plain": [
       "0.5559"
      ]
     },
     "execution_count": 194,
     "metadata": {},
     "output_type": "execute_result"
    }
   ],
   "source": [
    "validate_epoch(linear1)"
   ]
  },
  {
   "cell_type": "code",
   "execution_count": 195,
   "metadata": {},
   "outputs": [
    {
     "name": "stdout",
     "output_type": "stream",
     "text": [
      "0.599 0.8241 0.9022 0.9295 0.9422 0.9456 0.9476 0.951 0.9554 0.9564 0.9584 0.9603 0.9628 0.9638 0.9638 0.9662 0.9677 0.9691 0.9706 0.9711 "
     ]
    }
   ],
   "source": [
    "for i in range(20):\n",
    "    train_epoch_0(linear1, lr, params)\n",
    "    print(validate_epoch(linear1), end=' ')"
   ]
  },
  {
   "cell_type": "markdown",
   "metadata": {},
   "source": [
    "### A linear model v1"
   ]
  },
  {
   "cell_type": "code",
   "execution_count": 196,
   "metadata": {},
   "outputs": [],
   "source": [
    "# init linear to random\n",
    "linear_model = nn.Linear(28*28,1)"
   ]
  },
  {
   "cell_type": "code",
   "execution_count": 197,
   "metadata": {},
   "outputs": [
    {
     "data": {
      "text/plain": [
       "(torch.Size([1, 784]), torch.Size([1]))"
      ]
     },
     "execution_count": 197,
     "metadata": {},
     "output_type": "execute_result"
    }
   ],
   "source": [
    "w,b = linear_model.parameters()\n",
    "w.shape,b.shape"
   ]
  },
  {
   "cell_type": "code",
   "execution_count": 198,
   "metadata": {},
   "outputs": [
    {
     "name": "stdout",
     "output_type": "stream",
     "text": [
      "0.4932 0.8232 0.8477 0.9136 0.9355 0.9482 0.9546 0.9629 0.9658 0.9673 0.9687 0.9717 0.9736 0.9751 0.9756 0.9766 0.9775 0.978 0.978 0.9785 "
     ]
    }
   ],
   "source": [
    "opt = SGD(linear_model.parameters(), lr)\n",
    "\n",
    "train_model(linear_model, 20)"
   ]
  },
  {
   "cell_type": "markdown",
   "metadata": {},
   "source": [
    "### A linear model v2"
   ]
  },
  {
   "cell_type": "code",
   "execution_count": 199,
   "metadata": {},
   "outputs": [],
   "source": [
    "dls = DataLoaders(dl, valid_dl)"
   ]
  },
  {
   "cell_type": "code",
   "execution_count": 200,
   "metadata": {},
   "outputs": [],
   "source": [
    "learn = Learner(dls, \n",
    "                nn.Linear(28*28,1), \n",
    "                opt_func=SGD,\n",
    "                loss_func=mnist_loss, \n",
    "                metrics=batch_accuracy)"
   ]
  },
  {
   "cell_type": "code",
   "execution_count": 201,
   "metadata": {},
   "outputs": [
    {
     "data": {
      "text/html": [
       "<table border=\"1\" class=\"dataframe\">\n",
       "  <thead>\n",
       "    <tr style=\"text-align: left;\">\n",
       "      <th>epoch</th>\n",
       "      <th>train_loss</th>\n",
       "      <th>valid_loss</th>\n",
       "      <th>batch_accuracy</th>\n",
       "      <th>time</th>\n",
       "    </tr>\n",
       "  </thead>\n",
       "  <tbody>\n",
       "    <tr>\n",
       "      <td>0</td>\n",
       "      <td>0.208370</td>\n",
       "      <td>0.371110</td>\n",
       "      <td>0.540726</td>\n",
       "      <td>00:00</td>\n",
       "    </tr>\n",
       "    <tr>\n",
       "      <td>1</td>\n",
       "      <td>0.118722</td>\n",
       "      <td>0.183635</td>\n",
       "      <td>0.873405</td>\n",
       "      <td>00:00</td>\n",
       "    </tr>\n",
       "    <tr>\n",
       "      <td>2</td>\n",
       "      <td>0.082379</td>\n",
       "      <td>0.107971</td>\n",
       "      <td>0.935231</td>\n",
       "      <td>00:00</td>\n",
       "    </tr>\n",
       "    <tr>\n",
       "      <td>3</td>\n",
       "      <td>0.064845</td>\n",
       "      <td>0.080391</td>\n",
       "      <td>0.955839</td>\n",
       "      <td>00:00</td>\n",
       "    </tr>\n",
       "    <tr>\n",
       "      <td>4</td>\n",
       "      <td>0.055299</td>\n",
       "      <td>0.066925</td>\n",
       "      <td>0.963690</td>\n",
       "      <td>00:00</td>\n",
       "    </tr>\n",
       "    <tr>\n",
       "      <td>5</td>\n",
       "      <td>0.049502</td>\n",
       "      <td>0.059021</td>\n",
       "      <td>0.963690</td>\n",
       "      <td>00:00</td>\n",
       "    </tr>\n",
       "    <tr>\n",
       "      <td>6</td>\n",
       "      <td>0.045614</td>\n",
       "      <td>0.053811</td>\n",
       "      <td>0.965162</td>\n",
       "      <td>00:00</td>\n",
       "    </tr>\n",
       "    <tr>\n",
       "      <td>7</td>\n",
       "      <td>0.042784</td>\n",
       "      <td>0.050099</td>\n",
       "      <td>0.967125</td>\n",
       "      <td>00:00</td>\n",
       "    </tr>\n",
       "    <tr>\n",
       "      <td>8</td>\n",
       "      <td>0.040592</td>\n",
       "      <td>0.047303</td>\n",
       "      <td>0.968106</td>\n",
       "      <td>00:00</td>\n",
       "    </tr>\n",
       "    <tr>\n",
       "      <td>9</td>\n",
       "      <td>0.038816</td>\n",
       "      <td>0.045110</td>\n",
       "      <td>0.970069</td>\n",
       "      <td>00:00</td>\n",
       "    </tr>\n",
       "    <tr>\n",
       "      <td>10</td>\n",
       "      <td>0.037331</td>\n",
       "      <td>0.043335</td>\n",
       "      <td>0.969578</td>\n",
       "      <td>00:00</td>\n",
       "    </tr>\n",
       "    <tr>\n",
       "      <td>11</td>\n",
       "      <td>0.036062</td>\n",
       "      <td>0.041862</td>\n",
       "      <td>0.970069</td>\n",
       "      <td>00:00</td>\n",
       "    </tr>\n",
       "    <tr>\n",
       "      <td>12</td>\n",
       "      <td>0.034957</td>\n",
       "      <td>0.040615</td>\n",
       "      <td>0.971541</td>\n",
       "      <td>00:00</td>\n",
       "    </tr>\n",
       "    <tr>\n",
       "      <td>13</td>\n",
       "      <td>0.033983</td>\n",
       "      <td>0.039541</td>\n",
       "      <td>0.972031</td>\n",
       "      <td>00:00</td>\n",
       "    </tr>\n",
       "    <tr>\n",
       "      <td>14</td>\n",
       "      <td>0.033116</td>\n",
       "      <td>0.038604</td>\n",
       "      <td>0.972031</td>\n",
       "      <td>00:00</td>\n",
       "    </tr>\n",
       "    <tr>\n",
       "      <td>15</td>\n",
       "      <td>0.032336</td>\n",
       "      <td>0.037777</td>\n",
       "      <td>0.971541</td>\n",
       "      <td>00:00</td>\n",
       "    </tr>\n",
       "    <tr>\n",
       "      <td>16</td>\n",
       "      <td>0.031630</td>\n",
       "      <td>0.037039</td>\n",
       "      <td>0.971541</td>\n",
       "      <td>00:00</td>\n",
       "    </tr>\n",
       "    <tr>\n",
       "      <td>17</td>\n",
       "      <td>0.030987</td>\n",
       "      <td>0.036374</td>\n",
       "      <td>0.971541</td>\n",
       "      <td>00:00</td>\n",
       "    </tr>\n",
       "    <tr>\n",
       "      <td>18</td>\n",
       "      <td>0.030397</td>\n",
       "      <td>0.035772</td>\n",
       "      <td>0.972031</td>\n",
       "      <td>00:00</td>\n",
       "    </tr>\n",
       "    <tr>\n",
       "      <td>19</td>\n",
       "      <td>0.029854</td>\n",
       "      <td>0.035222</td>\n",
       "      <td>0.972522</td>\n",
       "      <td>00:00</td>\n",
       "    </tr>\n",
       "    <tr>\n",
       "      <td>20</td>\n",
       "      <td>0.029352</td>\n",
       "      <td>0.034717</td>\n",
       "      <td>0.973503</td>\n",
       "      <td>00:00</td>\n",
       "    </tr>\n",
       "    <tr>\n",
       "      <td>21</td>\n",
       "      <td>0.028886</td>\n",
       "      <td>0.034251</td>\n",
       "      <td>0.973994</td>\n",
       "      <td>00:00</td>\n",
       "    </tr>\n",
       "    <tr>\n",
       "      <td>22</td>\n",
       "      <td>0.028452</td>\n",
       "      <td>0.033818</td>\n",
       "      <td>0.974485</td>\n",
       "      <td>00:00</td>\n",
       "    </tr>\n",
       "    <tr>\n",
       "      <td>23</td>\n",
       "      <td>0.028046</td>\n",
       "      <td>0.033416</td>\n",
       "      <td>0.974975</td>\n",
       "      <td>00:00</td>\n",
       "    </tr>\n",
       "    <tr>\n",
       "      <td>24</td>\n",
       "      <td>0.027665</td>\n",
       "      <td>0.033040</td>\n",
       "      <td>0.974975</td>\n",
       "      <td>00:00</td>\n",
       "    </tr>\n",
       "    <tr>\n",
       "      <td>25</td>\n",
       "      <td>0.027308</td>\n",
       "      <td>0.032687</td>\n",
       "      <td>0.975466</td>\n",
       "      <td>00:00</td>\n",
       "    </tr>\n",
       "    <tr>\n",
       "      <td>26</td>\n",
       "      <td>0.026971</td>\n",
       "      <td>0.032355</td>\n",
       "      <td>0.976448</td>\n",
       "      <td>00:00</td>\n",
       "    </tr>\n",
       "    <tr>\n",
       "      <td>27</td>\n",
       "      <td>0.026652</td>\n",
       "      <td>0.032042</td>\n",
       "      <td>0.976938</td>\n",
       "      <td>00:00</td>\n",
       "    </tr>\n",
       "    <tr>\n",
       "      <td>28</td>\n",
       "      <td>0.026351</td>\n",
       "      <td>0.031745</td>\n",
       "      <td>0.976938</td>\n",
       "      <td>00:00</td>\n",
       "    </tr>\n",
       "    <tr>\n",
       "      <td>29</td>\n",
       "      <td>0.026065</td>\n",
       "      <td>0.031465</td>\n",
       "      <td>0.976938</td>\n",
       "      <td>00:00</td>\n",
       "    </tr>\n",
       "    <tr>\n",
       "      <td>30</td>\n",
       "      <td>0.025793</td>\n",
       "      <td>0.031198</td>\n",
       "      <td>0.976938</td>\n",
       "      <td>00:00</td>\n",
       "    </tr>\n",
       "    <tr>\n",
       "      <td>31</td>\n",
       "      <td>0.025534</td>\n",
       "      <td>0.030944</td>\n",
       "      <td>0.976938</td>\n",
       "      <td>00:00</td>\n",
       "    </tr>\n",
       "    <tr>\n",
       "      <td>32</td>\n",
       "      <td>0.025288</td>\n",
       "      <td>0.030702</td>\n",
       "      <td>0.976938</td>\n",
       "      <td>00:00</td>\n",
       "    </tr>\n",
       "    <tr>\n",
       "      <td>33</td>\n",
       "      <td>0.025052</td>\n",
       "      <td>0.030471</td>\n",
       "      <td>0.976938</td>\n",
       "      <td>00:00</td>\n",
       "    </tr>\n",
       "    <tr>\n",
       "      <td>34</td>\n",
       "      <td>0.024827</td>\n",
       "      <td>0.030250</td>\n",
       "      <td>0.976938</td>\n",
       "      <td>00:00</td>\n",
       "    </tr>\n",
       "    <tr>\n",
       "      <td>35</td>\n",
       "      <td>0.024612</td>\n",
       "      <td>0.030038</td>\n",
       "      <td>0.977429</td>\n",
       "      <td>00:00</td>\n",
       "    </tr>\n",
       "    <tr>\n",
       "      <td>36</td>\n",
       "      <td>0.024405</td>\n",
       "      <td>0.029835</td>\n",
       "      <td>0.977429</td>\n",
       "      <td>00:00</td>\n",
       "    </tr>\n",
       "    <tr>\n",
       "      <td>37</td>\n",
       "      <td>0.024206</td>\n",
       "      <td>0.029640</td>\n",
       "      <td>0.977429</td>\n",
       "      <td>00:00</td>\n",
       "    </tr>\n",
       "    <tr>\n",
       "      <td>38</td>\n",
       "      <td>0.024016</td>\n",
       "      <td>0.029452</td>\n",
       "      <td>0.977429</td>\n",
       "      <td>00:00</td>\n",
       "    </tr>\n",
       "    <tr>\n",
       "      <td>39</td>\n",
       "      <td>0.023832</td>\n",
       "      <td>0.029272</td>\n",
       "      <td>0.977429</td>\n",
       "      <td>00:00</td>\n",
       "    </tr>\n",
       "  </tbody>\n",
       "</table>"
      ],
      "text/plain": [
       "<IPython.core.display.HTML object>"
      ]
     },
     "metadata": {},
     "output_type": "display_data"
    }
   ],
   "source": [
    "learn.fit(40, lr=0.1)"
   ]
  },
  {
   "cell_type": "markdown",
   "metadata": {},
   "source": [
    "### A basic neural network"
   ]
  },
  {
   "cell_type": "code",
   "execution_count": 202,
   "metadata": {},
   "outputs": [],
   "source": [
    "#def simple_net(xb):\n",
    "#    res = xb@w1 + b1\n",
    "#    res = res.max(tensor(0.0))\n",
    "#    res = res@w2 + b2\n",
    "#    return res"
   ]
  },
  {
   "cell_type": "code",
   "execution_count": 203,
   "metadata": {},
   "outputs": [],
   "source": [
    "w1 = init_params((28*28,30))\n",
    "b1 = init_params(30)\n",
    "w2 = init_params((30,1))\n",
    "b2 = init_params(1)"
   ]
  },
  {
   "cell_type": "code",
   "execution_count": 204,
   "metadata": {},
   "outputs": [],
   "source": [
    "simple_net = nn.Sequential(\n",
    "    nn.Linear(28*28,30),\n",
    "    nn.ReLU(),\n",
    "    nn.Linear(30,1)\n",
    ")"
   ]
  },
  {
   "cell_type": "code",
   "execution_count": 205,
   "metadata": {},
   "outputs": [],
   "source": [
    "learn = Learner(dls, \n",
    "                simple_net, \n",
    "                opt_func=SGD,\n",
    "                loss_func=mnist_loss, \n",
    "                metrics=batch_accuracy)"
   ]
  },
  {
   "cell_type": "code",
   "execution_count": 206,
   "metadata": {},
   "outputs": [
    {
     "data": {
      "text/html": [
       "<table border=\"1\" class=\"dataframe\">\n",
       "  <thead>\n",
       "    <tr style=\"text-align: left;\">\n",
       "      <th>epoch</th>\n",
       "      <th>train_loss</th>\n",
       "      <th>valid_loss</th>\n",
       "      <th>batch_accuracy</th>\n",
       "      <th>time</th>\n",
       "    </tr>\n",
       "  </thead>\n",
       "  <tbody>\n",
       "    <tr>\n",
       "      <td>0</td>\n",
       "      <td>0.316903</td>\n",
       "      <td>0.400495</td>\n",
       "      <td>0.507360</td>\n",
       "      <td>00:00</td>\n",
       "    </tr>\n",
       "    <tr>\n",
       "      <td>1</td>\n",
       "      <td>0.147292</td>\n",
       "      <td>0.220435</td>\n",
       "      <td>0.816487</td>\n",
       "      <td>00:00</td>\n",
       "    </tr>\n",
       "    <tr>\n",
       "      <td>2</td>\n",
       "      <td>0.081095</td>\n",
       "      <td>0.110834</td>\n",
       "      <td>0.922473</td>\n",
       "      <td>00:00</td>\n",
       "    </tr>\n",
       "    <tr>\n",
       "      <td>3</td>\n",
       "      <td>0.053103</td>\n",
       "      <td>0.075098</td>\n",
       "      <td>0.943081</td>\n",
       "      <td>00:00</td>\n",
       "    </tr>\n",
       "    <tr>\n",
       "      <td>4</td>\n",
       "      <td>0.040204</td>\n",
       "      <td>0.058933</td>\n",
       "      <td>0.960255</td>\n",
       "      <td>00:00</td>\n",
       "    </tr>\n",
       "    <tr>\n",
       "      <td>5</td>\n",
       "      <td>0.033658</td>\n",
       "      <td>0.049853</td>\n",
       "      <td>0.965653</td>\n",
       "      <td>00:00</td>\n",
       "    </tr>\n",
       "    <tr>\n",
       "      <td>6</td>\n",
       "      <td>0.029916</td>\n",
       "      <td>0.044119</td>\n",
       "      <td>0.967125</td>\n",
       "      <td>00:00</td>\n",
       "    </tr>\n",
       "    <tr>\n",
       "      <td>7</td>\n",
       "      <td>0.027492</td>\n",
       "      <td>0.040189</td>\n",
       "      <td>0.968106</td>\n",
       "      <td>00:00</td>\n",
       "    </tr>\n",
       "    <tr>\n",
       "      <td>8</td>\n",
       "      <td>0.025747</td>\n",
       "      <td>0.037330</td>\n",
       "      <td>0.969578</td>\n",
       "      <td>00:00</td>\n",
       "    </tr>\n",
       "    <tr>\n",
       "      <td>9</td>\n",
       "      <td>0.024394</td>\n",
       "      <td>0.035147</td>\n",
       "      <td>0.971541</td>\n",
       "      <td>00:00</td>\n",
       "    </tr>\n",
       "    <tr>\n",
       "      <td>10</td>\n",
       "      <td>0.023296</td>\n",
       "      <td>0.033417</td>\n",
       "      <td>0.972522</td>\n",
       "      <td>00:00</td>\n",
       "    </tr>\n",
       "    <tr>\n",
       "      <td>11</td>\n",
       "      <td>0.022375</td>\n",
       "      <td>0.032005</td>\n",
       "      <td>0.973503</td>\n",
       "      <td>00:00</td>\n",
       "    </tr>\n",
       "    <tr>\n",
       "      <td>12</td>\n",
       "      <td>0.021589</td>\n",
       "      <td>0.030823</td>\n",
       "      <td>0.974485</td>\n",
       "      <td>00:00</td>\n",
       "    </tr>\n",
       "    <tr>\n",
       "      <td>13</td>\n",
       "      <td>0.020908</td>\n",
       "      <td>0.029812</td>\n",
       "      <td>0.974975</td>\n",
       "      <td>00:00</td>\n",
       "    </tr>\n",
       "    <tr>\n",
       "      <td>14</td>\n",
       "      <td>0.020310</td>\n",
       "      <td>0.028933</td>\n",
       "      <td>0.974975</td>\n",
       "      <td>00:00</td>\n",
       "    </tr>\n",
       "    <tr>\n",
       "      <td>15</td>\n",
       "      <td>0.019778</td>\n",
       "      <td>0.028159</td>\n",
       "      <td>0.975957</td>\n",
       "      <td>00:00</td>\n",
       "    </tr>\n",
       "    <tr>\n",
       "      <td>16</td>\n",
       "      <td>0.019302</td>\n",
       "      <td>0.027470</td>\n",
       "      <td>0.976448</td>\n",
       "      <td>00:00</td>\n",
       "    </tr>\n",
       "    <tr>\n",
       "      <td>17</td>\n",
       "      <td>0.018871</td>\n",
       "      <td>0.026851</td>\n",
       "      <td>0.977429</td>\n",
       "      <td>00:00</td>\n",
       "    </tr>\n",
       "    <tr>\n",
       "      <td>18</td>\n",
       "      <td>0.018480</td>\n",
       "      <td>0.026291</td>\n",
       "      <td>0.977429</td>\n",
       "      <td>00:00</td>\n",
       "    </tr>\n",
       "    <tr>\n",
       "      <td>19</td>\n",
       "      <td>0.018121</td>\n",
       "      <td>0.025781</td>\n",
       "      <td>0.977920</td>\n",
       "      <td>00:00</td>\n",
       "    </tr>\n",
       "    <tr>\n",
       "      <td>20</td>\n",
       "      <td>0.017791</td>\n",
       "      <td>0.025314</td>\n",
       "      <td>0.977920</td>\n",
       "      <td>00:00</td>\n",
       "    </tr>\n",
       "    <tr>\n",
       "      <td>21</td>\n",
       "      <td>0.017486</td>\n",
       "      <td>0.024885</td>\n",
       "      <td>0.978901</td>\n",
       "      <td>00:00</td>\n",
       "    </tr>\n",
       "    <tr>\n",
       "      <td>22</td>\n",
       "      <td>0.017202</td>\n",
       "      <td>0.024488</td>\n",
       "      <td>0.979392</td>\n",
       "      <td>00:00</td>\n",
       "    </tr>\n",
       "    <tr>\n",
       "      <td>23</td>\n",
       "      <td>0.016937</td>\n",
       "      <td>0.024122</td>\n",
       "      <td>0.979392</td>\n",
       "      <td>00:00</td>\n",
       "    </tr>\n",
       "    <tr>\n",
       "      <td>24</td>\n",
       "      <td>0.016688</td>\n",
       "      <td>0.023781</td>\n",
       "      <td>0.980373</td>\n",
       "      <td>00:00</td>\n",
       "    </tr>\n",
       "    <tr>\n",
       "      <td>25</td>\n",
       "      <td>0.016454</td>\n",
       "      <td>0.023464</td>\n",
       "      <td>0.980373</td>\n",
       "      <td>00:00</td>\n",
       "    </tr>\n",
       "    <tr>\n",
       "      <td>26</td>\n",
       "      <td>0.016234</td>\n",
       "      <td>0.023169</td>\n",
       "      <td>0.981354</td>\n",
       "      <td>00:00</td>\n",
       "    </tr>\n",
       "    <tr>\n",
       "      <td>27</td>\n",
       "      <td>0.016025</td>\n",
       "      <td>0.022893</td>\n",
       "      <td>0.981845</td>\n",
       "      <td>00:00</td>\n",
       "    </tr>\n",
       "    <tr>\n",
       "      <td>28</td>\n",
       "      <td>0.015828</td>\n",
       "      <td>0.022635</td>\n",
       "      <td>0.982336</td>\n",
       "      <td>00:00</td>\n",
       "    </tr>\n",
       "    <tr>\n",
       "      <td>29</td>\n",
       "      <td>0.015641</td>\n",
       "      <td>0.022393</td>\n",
       "      <td>0.982826</td>\n",
       "      <td>00:00</td>\n",
       "    </tr>\n",
       "    <tr>\n",
       "      <td>30</td>\n",
       "      <td>0.015462</td>\n",
       "      <td>0.022167</td>\n",
       "      <td>0.982826</td>\n",
       "      <td>00:00</td>\n",
       "    </tr>\n",
       "    <tr>\n",
       "      <td>31</td>\n",
       "      <td>0.015292</td>\n",
       "      <td>0.021955</td>\n",
       "      <td>0.982336</td>\n",
       "      <td>00:00</td>\n",
       "    </tr>\n",
       "    <tr>\n",
       "      <td>32</td>\n",
       "      <td>0.015130</td>\n",
       "      <td>0.021756</td>\n",
       "      <td>0.982826</td>\n",
       "      <td>00:00</td>\n",
       "    </tr>\n",
       "    <tr>\n",
       "      <td>33</td>\n",
       "      <td>0.014975</td>\n",
       "      <td>0.021569</td>\n",
       "      <td>0.982826</td>\n",
       "      <td>00:00</td>\n",
       "    </tr>\n",
       "    <tr>\n",
       "      <td>34</td>\n",
       "      <td>0.014827</td>\n",
       "      <td>0.021392</td>\n",
       "      <td>0.982826</td>\n",
       "      <td>00:00</td>\n",
       "    </tr>\n",
       "    <tr>\n",
       "      <td>35</td>\n",
       "      <td>0.014685</td>\n",
       "      <td>0.021225</td>\n",
       "      <td>0.983317</td>\n",
       "      <td>00:00</td>\n",
       "    </tr>\n",
       "    <tr>\n",
       "      <td>36</td>\n",
       "      <td>0.014548</td>\n",
       "      <td>0.021068</td>\n",
       "      <td>0.982826</td>\n",
       "      <td>00:00</td>\n",
       "    </tr>\n",
       "    <tr>\n",
       "      <td>37</td>\n",
       "      <td>0.014417</td>\n",
       "      <td>0.020919</td>\n",
       "      <td>0.982826</td>\n",
       "      <td>00:00</td>\n",
       "    </tr>\n",
       "    <tr>\n",
       "      <td>38</td>\n",
       "      <td>0.014290</td>\n",
       "      <td>0.020778</td>\n",
       "      <td>0.982826</td>\n",
       "      <td>00:00</td>\n",
       "    </tr>\n",
       "    <tr>\n",
       "      <td>39</td>\n",
       "      <td>0.014168</td>\n",
       "      <td>0.020643</td>\n",
       "      <td>0.982826</td>\n",
       "      <td>00:00</td>\n",
       "    </tr>\n",
       "  </tbody>\n",
       "</table>"
      ],
      "text/plain": [
       "<IPython.core.display.HTML object>"
      ]
     },
     "metadata": {},
     "output_type": "display_data"
    }
   ],
   "source": [
    "learn.fit(40, 0.1)"
   ]
  },
  {
   "cell_type": "markdown",
   "metadata": {},
   "source": [
    "### Final accuracy"
   ]
  },
  {
   "cell_type": "code",
   "execution_count": 207,
   "metadata": {},
   "outputs": [
    {
     "data": {
      "image/png": "[encoded data removed]",
      "text/plain": [
       "<Figure size 432x288 with 1 Axes>"
      ]
     },
     "metadata": {
      "needs_background": "light"
     },
     "output_type": "display_data"
    }
   ],
   "source": [
    "plt.plot(L(learn.recorder.values).itemgot(2));"
   ]
  },
  {
   "cell_type": "code",
   "execution_count": 208,
   "metadata": {},
   "outputs": [
    {
     "data": {
      "text/plain": [
       "0.982826292514801"
      ]
     },
     "execution_count": 208,
     "metadata": {},
     "output_type": "execute_result"
    }
   ],
   "source": [
    "learn.recorder.values[-1][2]"
   ]
  },
  {
   "cell_type": "code",
   "execution_count": null,
   "metadata": {},
   "outputs": [],
   "source": []
  }
 ],
 "metadata": {
  "jupytext": {
   "split_at_heading": true
  },
  "kernelspec": {
   "display_name": "Python 3",
   "language": "python",
   "name": "python3"
  },
  "language_info": {
   "codemirror_mode": {
    "name": "ipython",
    "version": 3
   },
   "file_extension": ".py",
   "mimetype": "text/x-python",
   "name": "python",
   "nbconvert_exporter": "python",
   "pygments_lexer": "ipython3",
   "version": "3.8.6"
  }
 },
 "nbformat": 4,
 "nbformat_minor": 4
}
